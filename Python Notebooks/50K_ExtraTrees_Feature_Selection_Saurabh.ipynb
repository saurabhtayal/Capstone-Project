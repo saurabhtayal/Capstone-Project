{
 "cells": [
  {
   "cell_type": "markdown",
   "metadata": {
    "colab_type": "text",
    "id": "POh-42zS3DC6"
   },
   "source": [
    "## Importing Data and Libraries"
   ]
  },
  {
   "cell_type": "code",
   "execution_count": 1,
   "metadata": {
    "colab": {
     "base_uri": "https://localhost:8080/",
     "height": 105
    },
    "colab_type": "code",
    "executionInfo": {
     "elapsed": 1590,
     "status": "ok",
     "timestamp": 1600451409638,
     "user": {
      "displayName": "Saurabh Tayal",
      "photoUrl": "https://lh3.googleusercontent.com/a-/AOh14GiRLEdkAojIcG-z_WiGyVoHn32hvbGDIB5Bc7yNOrw=s64",
      "userId": "00184452610911270399"
     },
     "user_tz": -330
    },
    "id": "wJ1d2dEN3DC_",
    "outputId": "a19636c2-368a-407d-b390-918342d7e598"
   },
   "outputs": [],
   "source": [
    "import numpy as np\n",
    "import pandas as pd\n",
    "import matplotlib.pyplot as plt\n",
    "import seaborn as sns\n",
    "from sklearn.linear_model import LogisticRegression\n",
    "from sklearn.ensemble import RandomForestClassifier, AdaBoostClassifier, BaggingClassifier, ExtraTreesClassifier, GradientBoostingClassifier\n",
    "from sklearn.tree import DecisionTreeClassifier\n",
    "from sklearn.neighbors import KNeighborsClassifier\n",
    "from xgboost import XGBClassifier\n",
    "from lightgbm import LGBMClassifier\n",
    "from sklearn.preprocessing import StandardScaler, PowerTransformer, LabelEncoder, OneHotEncoder\n",
    "from sklearn.model_selection import train_test_split, cross_val_score\n",
    "from sklearn.pipeline import Pipeline\n",
    "from sklearn.metrics import classification_report, confusion_matrix, precision_score, recall_score, f1_score, roc_auc_score\n",
    "import scipy.stats as stats\n",
    "from sklearn.feature_selection import mutual_info_classif\n",
    "from mlxtend.feature_selection import ExhaustiveFeatureSelector as EFS\n",
    "from mlxtend.feature_selection import SequentialFeatureSelector as SFS\n",
    "pd.set_option('display.max_columns', None)\n",
    "pd.set_option('display.max_rows', None)"
   ]
  },
  {
   "cell_type": "code",
   "execution_count": 2,
   "metadata": {
    "colab": {
     "base_uri": "https://localhost:8080/",
     "height": 360
    },
    "colab_type": "code",
    "executionInfo": {
     "elapsed": 1556,
     "status": "ok",
     "timestamp": 1600451441239,
     "user": {
      "displayName": "Saurabh Tayal",
      "photoUrl": "https://lh3.googleusercontent.com/a-/AOh14GiRLEdkAojIcG-z_WiGyVoHn32hvbGDIB5Bc7yNOrw=s64",
      "userId": "00184452610911270399"
     },
     "user_tz": -330
    },
    "id": "zEG6NrVu3DDO",
    "outputId": "13749cba-de98-4664-e50a-599ed11ff0fe"
   },
   "outputs": [
    {
     "data": {
      "text/html": [
       "<div>\n",
       "<style scoped>\n",
       "    .dataframe tbody tr th:only-of-type {\n",
       "        vertical-align: middle;\n",
       "    }\n",
       "\n",
       "    .dataframe tbody tr th {\n",
       "        vertical-align: top;\n",
       "    }\n",
       "\n",
       "    .dataframe thead th {\n",
       "        text-align: right;\n",
       "    }\n",
       "</style>\n",
       "<table border=\"1\" class=\"dataframe\">\n",
       "  <thead>\n",
       "    <tr style=\"text-align: right;\">\n",
       "      <th></th>\n",
       "      <th>race</th>\n",
       "      <th>gender</th>\n",
       "      <th>age</th>\n",
       "      <th>discharge_disposition_id</th>\n",
       "      <th>admission_source_id</th>\n",
       "      <th>time_in_hospital</th>\n",
       "      <th>num_lab_procedures</th>\n",
       "      <th>num_procedures</th>\n",
       "      <th>num_medications</th>\n",
       "      <th>diag_1</th>\n",
       "      <th>diag_2</th>\n",
       "      <th>diag_3</th>\n",
       "      <th>number_diagnoses</th>\n",
       "      <th>max_glu_serum</th>\n",
       "      <th>A1Cresult</th>\n",
       "      <th>metformin</th>\n",
       "      <th>repaglinide</th>\n",
       "      <th>nateglinide</th>\n",
       "      <th>glimepiride</th>\n",
       "      <th>glipizide</th>\n",
       "      <th>glyburide</th>\n",
       "      <th>pioglitazone</th>\n",
       "      <th>rosiglitazone</th>\n",
       "      <th>insulin</th>\n",
       "      <th>glyburide-metformin</th>\n",
       "      <th>diabetesMed</th>\n",
       "      <th>readmitted</th>\n",
       "      <th>preceding_year_visits</th>\n",
       "      <th>number_changes</th>\n",
       "      <th>insulin_treatment</th>\n",
       "    </tr>\n",
       "  </thead>\n",
       "  <tbody>\n",
       "    <tr>\n",
       "      <th>0</th>\n",
       "      <td>Caucasian</td>\n",
       "      <td>1</td>\n",
       "      <td>85</td>\n",
       "      <td>Transferred to another medical facility</td>\n",
       "      <td>Transferred from another health care facility</td>\n",
       "      <td>4</td>\n",
       "      <td>56</td>\n",
       "      <td>0</td>\n",
       "      <td>4</td>\n",
       "      <td>Genitourinary</td>\n",
       "      <td>Infectious and Parasitic</td>\n",
       "      <td>Endocrine, Nutritional, Metabolic, Immunity</td>\n",
       "      <td>9</td>\n",
       "      <td>None</td>\n",
       "      <td>None</td>\n",
       "      <td>-2</td>\n",
       "      <td>-2</td>\n",
       "      <td>-2</td>\n",
       "      <td>0</td>\n",
       "      <td>-2</td>\n",
       "      <td>-2</td>\n",
       "      <td>-2</td>\n",
       "      <td>-2</td>\n",
       "      <td>-2</td>\n",
       "      <td>-2</td>\n",
       "      <td>1</td>\n",
       "      <td>0</td>\n",
       "      <td>1</td>\n",
       "      <td>0</td>\n",
       "      <td>other_meds</td>\n",
       "    </tr>\n",
       "    <tr>\n",
       "      <th>1</th>\n",
       "      <td>Caucasian</td>\n",
       "      <td>1</td>\n",
       "      <td>75</td>\n",
       "      <td>Discharged to home</td>\n",
       "      <td>Referral</td>\n",
       "      <td>1</td>\n",
       "      <td>46</td>\n",
       "      <td>3</td>\n",
       "      <td>13</td>\n",
       "      <td>Circulatory</td>\n",
       "      <td>Circulatory</td>\n",
       "      <td>Circulatory</td>\n",
       "      <td>8</td>\n",
       "      <td>None</td>\n",
       "      <td>None</td>\n",
       "      <td>-2</td>\n",
       "      <td>-2</td>\n",
       "      <td>-2</td>\n",
       "      <td>-2</td>\n",
       "      <td>-2</td>\n",
       "      <td>-2</td>\n",
       "      <td>-2</td>\n",
       "      <td>-2</td>\n",
       "      <td>-2</td>\n",
       "      <td>-2</td>\n",
       "      <td>0</td>\n",
       "      <td>0</td>\n",
       "      <td>0</td>\n",
       "      <td>0</td>\n",
       "      <td>no_med</td>\n",
       "    </tr>\n",
       "    <tr>\n",
       "      <th>2</th>\n",
       "      <td>AfricanAmerican</td>\n",
       "      <td>1</td>\n",
       "      <td>55</td>\n",
       "      <td>Not Available</td>\n",
       "      <td>Emergency</td>\n",
       "      <td>5</td>\n",
       "      <td>52</td>\n",
       "      <td>1</td>\n",
       "      <td>23</td>\n",
       "      <td>Musculoskeletal System and Connective Tissue</td>\n",
       "      <td>Infectious and Parasitic</td>\n",
       "      <td>Mental Disorders</td>\n",
       "      <td>5</td>\n",
       "      <td>None</td>\n",
       "      <td>None</td>\n",
       "      <td>-2</td>\n",
       "      <td>-2</td>\n",
       "      <td>-2</td>\n",
       "      <td>-2</td>\n",
       "      <td>-2</td>\n",
       "      <td>-2</td>\n",
       "      <td>-2</td>\n",
       "      <td>-2</td>\n",
       "      <td>0</td>\n",
       "      <td>-2</td>\n",
       "      <td>1</td>\n",
       "      <td>0</td>\n",
       "      <td>2</td>\n",
       "      <td>0</td>\n",
       "      <td>insulin_only</td>\n",
       "    </tr>\n",
       "    <tr>\n",
       "      <th>3</th>\n",
       "      <td>Caucasian</td>\n",
       "      <td>1</td>\n",
       "      <td>65</td>\n",
       "      <td>Discharged to home</td>\n",
       "      <td>Referral</td>\n",
       "      <td>5</td>\n",
       "      <td>27</td>\n",
       "      <td>2</td>\n",
       "      <td>28</td>\n",
       "      <td>Neoplasms</td>\n",
       "      <td>Neoplasms</td>\n",
       "      <td>Respiratory</td>\n",
       "      <td>8</td>\n",
       "      <td>None</td>\n",
       "      <td>None</td>\n",
       "      <td>-2</td>\n",
       "      <td>-2</td>\n",
       "      <td>-2</td>\n",
       "      <td>-2</td>\n",
       "      <td>-2</td>\n",
       "      <td>1</td>\n",
       "      <td>-2</td>\n",
       "      <td>-2</td>\n",
       "      <td>0</td>\n",
       "      <td>-2</td>\n",
       "      <td>1</td>\n",
       "      <td>0</td>\n",
       "      <td>0</td>\n",
       "      <td>1</td>\n",
       "      <td>insulin_combo</td>\n",
       "    </tr>\n",
       "    <tr>\n",
       "      <th>4</th>\n",
       "      <td>Caucasian</td>\n",
       "      <td>0</td>\n",
       "      <td>85</td>\n",
       "      <td>Transferred to another medical facility</td>\n",
       "      <td>Referral</td>\n",
       "      <td>11</td>\n",
       "      <td>73</td>\n",
       "      <td>0</td>\n",
       "      <td>23</td>\n",
       "      <td>Circulatory</td>\n",
       "      <td>Circulatory</td>\n",
       "      <td>Circulatory</td>\n",
       "      <td>9</td>\n",
       "      <td>None</td>\n",
       "      <td>&gt;8</td>\n",
       "      <td>-2</td>\n",
       "      <td>-2</td>\n",
       "      <td>-2</td>\n",
       "      <td>-2</td>\n",
       "      <td>-2</td>\n",
       "      <td>-2</td>\n",
       "      <td>-2</td>\n",
       "      <td>-2</td>\n",
       "      <td>1</td>\n",
       "      <td>-2</td>\n",
       "      <td>1</td>\n",
       "      <td>0</td>\n",
       "      <td>3</td>\n",
       "      <td>1</td>\n",
       "      <td>insulin_only</td>\n",
       "    </tr>\n",
       "  </tbody>\n",
       "</table>\n",
       "</div>"
      ],
      "text/plain": [
       "              race  gender  age                 discharge_disposition_id  \\\n",
       "0        Caucasian       1   85  Transferred to another medical facility   \n",
       "1        Caucasian       1   75                       Discharged to home   \n",
       "2  AfricanAmerican       1   55                            Not Available   \n",
       "3        Caucasian       1   65                       Discharged to home   \n",
       "4        Caucasian       0   85  Transferred to another medical facility   \n",
       "\n",
       "                             admission_source_id  time_in_hospital  \\\n",
       "0  Transferred from another health care facility                 4   \n",
       "1                                       Referral                 1   \n",
       "2                                      Emergency                 5   \n",
       "3                                       Referral                 5   \n",
       "4                                       Referral                11   \n",
       "\n",
       "   num_lab_procedures  num_procedures  num_medications  \\\n",
       "0                  56               0                4   \n",
       "1                  46               3               13   \n",
       "2                  52               1               23   \n",
       "3                  27               2               28   \n",
       "4                  73               0               23   \n",
       "\n",
       "                                         diag_1                    diag_2  \\\n",
       "0                                 Genitourinary  Infectious and Parasitic   \n",
       "1                                   Circulatory               Circulatory   \n",
       "2  Musculoskeletal System and Connective Tissue  Infectious and Parasitic   \n",
       "3                                     Neoplasms                 Neoplasms   \n",
       "4                                   Circulatory               Circulatory   \n",
       "\n",
       "                                        diag_3  number_diagnoses  \\\n",
       "0  Endocrine, Nutritional, Metabolic, Immunity                 9   \n",
       "1                                  Circulatory                 8   \n",
       "2                             Mental Disorders                 5   \n",
       "3                                  Respiratory                 8   \n",
       "4                                  Circulatory                 9   \n",
       "\n",
       "  max_glu_serum A1Cresult  metformin  repaglinide  nateglinide  glimepiride  \\\n",
       "0          None      None         -2           -2           -2            0   \n",
       "1          None      None         -2           -2           -2           -2   \n",
       "2          None      None         -2           -2           -2           -2   \n",
       "3          None      None         -2           -2           -2           -2   \n",
       "4          None        >8         -2           -2           -2           -2   \n",
       "\n",
       "   glipizide  glyburide  pioglitazone  rosiglitazone  insulin  \\\n",
       "0         -2         -2            -2             -2       -2   \n",
       "1         -2         -2            -2             -2       -2   \n",
       "2         -2         -2            -2             -2        0   \n",
       "3         -2          1            -2             -2        0   \n",
       "4         -2         -2            -2             -2        1   \n",
       "\n",
       "   glyburide-metformin  diabetesMed  readmitted  preceding_year_visits  \\\n",
       "0                   -2            1           0                      1   \n",
       "1                   -2            0           0                      0   \n",
       "2                   -2            1           0                      2   \n",
       "3                   -2            1           0                      0   \n",
       "4                   -2            1           0                      3   \n",
       "\n",
       "   number_changes insulin_treatment  \n",
       "0               0        other_meds  \n",
       "1               0            no_med  \n",
       "2               0      insulin_only  \n",
       "3               1     insulin_combo  \n",
       "4               1      insulin_only  "
      ]
     },
     "execution_count": 2,
     "metadata": {},
     "output_type": "execute_result"
    }
   ],
   "source": [
    "df = pd.read_csv('diabetes_50k_for_feature_selection.csv')\n",
    "df.head()"
   ]
  },
  {
   "cell_type": "code",
   "execution_count": 3,
   "metadata": {
    "colab": {
     "base_uri": "https://localhost:8080/",
     "height": 34
    },
    "colab_type": "code",
    "executionInfo": {
     "elapsed": 1011,
     "status": "ok",
     "timestamp": 1600451471648,
     "user": {
      "displayName": "Saurabh Tayal",
      "photoUrl": "https://lh3.googleusercontent.com/a-/AOh14GiRLEdkAojIcG-z_WiGyVoHn32hvbGDIB5Bc7yNOrw=s64",
      "userId": "00184452610911270399"
     },
     "user_tz": -330
    },
    "id": "5ZeAyZtOun7O",
    "outputId": "834e1017-e763-46a4-8d8d-8efb95f498b0"
   },
   "outputs": [
    {
     "data": {
      "text/plain": [
       "(50000, 30)"
      ]
     },
     "execution_count": 3,
     "metadata": {},
     "output_type": "execute_result"
    }
   ],
   "source": [
    "df.shape"
   ]
  },
  {
   "cell_type": "markdown",
   "metadata": {
    "colab_type": "text",
    "id": "Wsi0R9O3Bf0k"
   },
   "source": [
    "## Preparing Data"
   ]
  },
  {
   "cell_type": "code",
   "execution_count": 4,
   "metadata": {
    "colab": {
     "base_uri": "https://localhost:8080/",
     "height": 34
    },
    "colab_type": "code",
    "executionInfo": {
     "elapsed": 948,
     "status": "ok",
     "timestamp": 1600451494501,
     "user": {
      "displayName": "Saurabh Tayal",
      "photoUrl": "https://lh3.googleusercontent.com/a-/AOh14GiRLEdkAojIcG-z_WiGyVoHn32hvbGDIB5Bc7yNOrw=s64",
      "userId": "00184452610911270399"
     },
     "user_tz": -330
    },
    "id": "P2OxAODc3DDa",
    "outputId": "6dda0891-7988-451d-ee1c-217ca7952653"
   },
   "outputs": [
    {
     "data": {
      "text/plain": [
       "((50000, 29), (50000, 97), (50000,))"
      ]
     },
     "execution_count": 4,
     "metadata": {},
     "output_type": "execute_result"
    }
   ],
   "source": [
    "X = df.drop('readmitted', 1)\n",
    "X_dum = pd.get_dummies(X, drop_first = True)\n",
    "y = df['readmitted']\n",
    "X.shape, X_dum.shape, y.shape"
   ]
  },
  {
   "cell_type": "code",
   "execution_count": 5,
   "metadata": {
    "colab": {},
    "colab_type": "code",
    "executionInfo": {
     "elapsed": 921,
     "status": "ok",
     "timestamp": 1600451498747,
     "user": {
      "displayName": "Saurabh Tayal",
      "photoUrl": "https://lh3.googleusercontent.com/a-/AOh14GiRLEdkAojIcG-z_WiGyVoHn32hvbGDIB5Bc7yNOrw=s64",
      "userId": "00184452610911270399"
     },
     "user_tz": -330
    },
    "id": "Qx-pj3JAmwT1"
   },
   "outputs": [],
   "source": [
    "X_dum.columns = [\"\".join (c if c.isalnum() else \"_\" for c in str(x)) for x in X_dum.columns]"
   ]
  },
  {
   "cell_type": "code",
   "execution_count": 6,
   "metadata": {
    "colab": {},
    "colab_type": "code",
    "executionInfo": {
     "elapsed": 994,
     "status": "ok",
     "timestamp": 1600451625120,
     "user": {
      "displayName": "Saurabh Tayal",
      "photoUrl": "https://lh3.googleusercontent.com/a-/AOh14GiRLEdkAojIcG-z_WiGyVoHn32hvbGDIB5Bc7yNOrw=s64",
      "userId": "00184452610911270399"
     },
     "user_tz": -330
    },
    "id": "bjqhlT--WaKH"
   },
   "outputs": [],
   "source": [
    "models = []\n",
    "\n",
    "models.append(('LGB',LGBMClassifier(random_state = 0, n_jobs = -1)))\n",
    "models.append(('LR', Pipeline([(\"Transformer\", PowerTransformer()),\n",
    "                               (\"Scaler\", StandardScaler()),\n",
    "                               (\"LogReg\", LogisticRegression(random_state = 0, solver = 'liblinear', n_jobs = -1))])))\n",
    "models.append(('KNN', Pipeline([(\"Transformer\", PowerTransformer()),\n",
    "                               (\"Scaler\", StandardScaler()),\n",
    "                               (\"KNN\", KNeighborsClassifier(n_jobs = -1))])))\n",
    "models.append(('DT', DecisionTreeClassifier(random_state = 0)))\n",
    "models.append(('BC',BaggingClassifier(random_state = 0, n_jobs = -1)))\n",
    "models.append(('ET',ExtraTreesClassifier(random_state = 0, n_jobs = -1)))\n",
    "models.append(('RF', RandomForestClassifier(random_state = 0, n_jobs = -1)))\n",
    "models.append(('ADA',AdaBoostClassifier(random_state = 0)))\n",
    "models.append(('GB',GradientBoostingClassifier(random_state = 0)))\n",
    "models.append(('XGB', XGBClassifier(random_state = 0, n_jobs = -1)))"
   ]
  },
  {
   "cell_type": "markdown",
   "metadata": {
    "colab_type": "text",
    "id": "ROi7rpCuEgaQ"
   },
   "source": [
    "## Sequential Forward Selection"
   ]
  },
  {
   "cell_type": "code",
   "execution_count": 7,
   "metadata": {
    "colab": {
     "base_uri": "https://localhost:8080/",
     "height": 34
    },
    "colab_type": "code",
    "executionInfo": {
     "elapsed": 1088,
     "status": "ok",
     "timestamp": 1600451546524,
     "user": {
      "displayName": "Saurabh Tayal",
      "photoUrl": "https://lh3.googleusercontent.com/a-/AOh14GiRLEdkAojIcG-z_WiGyVoHn32hvbGDIB5Bc7yNOrw=s64",
      "userId": "00184452610911270399"
     },
     "user_tz": -330
    },
    "id": "41SZdOLJTRmQ",
    "outputId": "a14f0f26-7c84-449c-e55a-62fbef77e53e"
   },
   "outputs": [
    {
     "data": {
      "text/plain": [
       "(50000, 97)"
      ]
     },
     "execution_count": 7,
     "metadata": {},
     "output_type": "execute_result"
    }
   ],
   "source": [
    "X_dum.shape"
   ]
  },
  {
   "cell_type": "code",
   "execution_count": null,
   "metadata": {
    "colab": {},
    "colab_type": "code",
    "id": "hnWeRFb3Eejq"
   },
   "outputs": [],
   "source": [
    "model = ExtraTreesClassifier(random_state = 0, n_jobs = -1)\n",
    "\n",
    "# Create an SFS object\n",
    "sfs = SFS(estimator = model,\n",
    "          k_features = (1, 97),\n",
    "          forward = True,       # Set forward to True when we want to perform SFS\n",
    "          scoring = 'recall',\n",
    "          cv = 5)               # The number of cross-validations to perform is 5\n",
    "\n",
    "# Train SFS with our dataset\n",
    "sfs = sfs.fit(X_dum, y)"
   ]
  },
  {
   "cell_type": "code",
   "execution_count": null,
   "metadata": {
    "colab": {},
    "colab_type": "code",
    "id": "B4p4WGz60Iuf"
   },
   "outputs": [],
   "source": [
    "# Show the performance of each subset of features considered by SFS\n",
    "sfs_results = pd.DataFrame.from_dict(sfs.subsets_).T.sort_values(by = 'avg_score', ascending = False) \n",
    "sfs_results"
   ]
  },
  {
   "cell_type": "code",
   "execution_count": null,
   "metadata": {},
   "outputs": [],
   "source": [
    "sfs_results.to_csv('50K_ExtraTrees_Forward_Results_Saurabh.csv', index = False)"
   ]
  },
  {
   "cell_type": "markdown",
   "metadata": {
    "colab_type": "text",
    "id": "GhA8CNqQH48W"
   },
   "source": [
    "## Sequential Backward Selector"
   ]
  },
  {
   "cell_type": "code",
   "execution_count": null,
   "metadata": {
    "colab": {},
    "colab_type": "code",
    "id": "N2YRrJEmHmdP"
   },
   "outputs": [],
   "source": [
    "model = ExtraTreesClassifier(random_state = 0, n_jobs = -1)\n",
    "\n",
    "# Create an SFS object\n",
    "sbs = SFS(estimator = model,\n",
    "          k_features = (1, 97),\n",
    "          forward = False,       # Set forward to True when we want to perform SFS\n",
    "          scoring = 'recall',\n",
    "          cv = 5)               # The number of cross-validations to perform is 5\n",
    "\n",
    "# Train SFS with our dataset\n",
    "sbs = sbs.fit(X_dum, y)"
   ]
  },
  {
   "cell_type": "code",
   "execution_count": null,
   "metadata": {
    "colab": {},
    "colab_type": "code",
    "id": "E7fzDnPe0LIo"
   },
   "outputs": [],
   "source": [
    "# Show the performance of each subset of features considered by SFS\n",
    "sbs_results = pd.DataFrame.from_dict(sbs.subsets_).T.sort_values(by = 'avg_score', ascending = False) \n",
    "sbs_results"
   ]
  },
  {
   "cell_type": "code",
   "execution_count": null,
   "metadata": {},
   "outputs": [],
   "source": [
    "sbs_results.to_csv('50K_ExtraTrees_Backward_Results_Saurabh.csv', index = False)"
   ]
  },
  {
   "cell_type": "code",
   "execution_count": null,
   "metadata": {},
   "outputs": [],
   "source": []
  }
 ],
 "metadata": {
  "colab": {
   "collapsed_sections": [],
   "name": "50K_LGBM_Feature_Selection_Saurabh.ipynb",
   "provenance": [
    {
     "file_id": "19MwC5aFolrXl4CnmWWi5bB1BAuMnbm-u",
     "timestamp": 1600451094393
    }
   ]
  },
  "kernelspec": {
   "display_name": "Python 3",
   "language": "python",
   "name": "python3"
  },
  "language_info": {
   "codemirror_mode": {
    "name": "ipython",
    "version": 3
   },
   "file_extension": ".py",
   "mimetype": "text/x-python",
   "name": "python",
   "nbconvert_exporter": "python",
   "pygments_lexer": "ipython3",
   "version": "3.8.3"
  }
 },
 "nbformat": 4,
 "nbformat_minor": 1
}
