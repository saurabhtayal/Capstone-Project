{
 "cells": [
  {
   "cell_type": "markdown",
   "metadata": {},
   "source": [
    "The purpose of this study is to propose a prediction model for 30-day unplanned readmission among diabetes patients in US hospitals. The analysis will be based on risk factors such as a patient’s demographics, admission details, diagnosis, and medical data. In a broader sense, the goal of the study is to allow health centers to better anticipate and address unplanned readmissions while improving their quality of care and cost efficiency.\n",
    "\n",
    "### Import Libraries"
   ]
  },
  {
   "cell_type": "code",
   "execution_count": 1,
   "metadata": {},
   "outputs": [],
   "source": [
    "import pandas as pd\n",
    "import numpy as np\n",
    "import matplotlib.pyplot as plt\n",
    "import seaborn as sns"
   ]
  },
  {
   "cell_type": "markdown",
   "metadata": {},
   "source": [
    "### Import dataset"
   ]
  },
  {
   "cell_type": "code",
   "execution_count": 2,
   "metadata": {},
   "outputs": [
    {
     "data": {
      "text/html": [
       "<div>\n",
       "<style scoped>\n",
       "    .dataframe tbody tr th:only-of-type {\n",
       "        vertical-align: middle;\n",
       "    }\n",
       "\n",
       "    .dataframe tbody tr th {\n",
       "        vertical-align: top;\n",
       "    }\n",
       "\n",
       "    .dataframe thead th {\n",
       "        text-align: right;\n",
       "    }\n",
       "</style>\n",
       "<table border=\"1\" class=\"dataframe\">\n",
       "  <thead>\n",
       "    <tr style=\"text-align: right;\">\n",
       "      <th></th>\n",
       "      <th>encounter_id</th>\n",
       "      <th>patient_nbr</th>\n",
       "      <th>race</th>\n",
       "      <th>gender</th>\n",
       "      <th>age</th>\n",
       "      <th>weight</th>\n",
       "      <th>admission_type_id</th>\n",
       "      <th>discharge_disposition_id</th>\n",
       "      <th>admission_source_id</th>\n",
       "      <th>time_in_hospital</th>\n",
       "      <th>...</th>\n",
       "      <th>citoglipton</th>\n",
       "      <th>insulin</th>\n",
       "      <th>glyburide-metformin</th>\n",
       "      <th>glipizide-metformin</th>\n",
       "      <th>glimepiride-pioglitazone</th>\n",
       "      <th>metformin-rosiglitazone</th>\n",
       "      <th>metformin-pioglitazone</th>\n",
       "      <th>change</th>\n",
       "      <th>diabetesMed</th>\n",
       "      <th>readmitted</th>\n",
       "    </tr>\n",
       "  </thead>\n",
       "  <tbody>\n",
       "    <tr>\n",
       "      <th>0</th>\n",
       "      <td>2278392</td>\n",
       "      <td>8222157</td>\n",
       "      <td>Caucasian</td>\n",
       "      <td>Female</td>\n",
       "      <td>[0-10)</td>\n",
       "      <td>?</td>\n",
       "      <td>6</td>\n",
       "      <td>25</td>\n",
       "      <td>1</td>\n",
       "      <td>1</td>\n",
       "      <td>...</td>\n",
       "      <td>No</td>\n",
       "      <td>No</td>\n",
       "      <td>No</td>\n",
       "      <td>No</td>\n",
       "      <td>No</td>\n",
       "      <td>No</td>\n",
       "      <td>No</td>\n",
       "      <td>No</td>\n",
       "      <td>No</td>\n",
       "      <td>NO</td>\n",
       "    </tr>\n",
       "    <tr>\n",
       "      <th>1</th>\n",
       "      <td>149190</td>\n",
       "      <td>55629189</td>\n",
       "      <td>Caucasian</td>\n",
       "      <td>Female</td>\n",
       "      <td>[10-20)</td>\n",
       "      <td>?</td>\n",
       "      <td>1</td>\n",
       "      <td>1</td>\n",
       "      <td>7</td>\n",
       "      <td>3</td>\n",
       "      <td>...</td>\n",
       "      <td>No</td>\n",
       "      <td>Up</td>\n",
       "      <td>No</td>\n",
       "      <td>No</td>\n",
       "      <td>No</td>\n",
       "      <td>No</td>\n",
       "      <td>No</td>\n",
       "      <td>Ch</td>\n",
       "      <td>Yes</td>\n",
       "      <td>&gt;30</td>\n",
       "    </tr>\n",
       "    <tr>\n",
       "      <th>2</th>\n",
       "      <td>64410</td>\n",
       "      <td>86047875</td>\n",
       "      <td>AfricanAmerican</td>\n",
       "      <td>Female</td>\n",
       "      <td>[20-30)</td>\n",
       "      <td>?</td>\n",
       "      <td>1</td>\n",
       "      <td>1</td>\n",
       "      <td>7</td>\n",
       "      <td>2</td>\n",
       "      <td>...</td>\n",
       "      <td>No</td>\n",
       "      <td>No</td>\n",
       "      <td>No</td>\n",
       "      <td>No</td>\n",
       "      <td>No</td>\n",
       "      <td>No</td>\n",
       "      <td>No</td>\n",
       "      <td>No</td>\n",
       "      <td>Yes</td>\n",
       "      <td>NO</td>\n",
       "    </tr>\n",
       "    <tr>\n",
       "      <th>3</th>\n",
       "      <td>500364</td>\n",
       "      <td>82442376</td>\n",
       "      <td>Caucasian</td>\n",
       "      <td>Male</td>\n",
       "      <td>[30-40)</td>\n",
       "      <td>?</td>\n",
       "      <td>1</td>\n",
       "      <td>1</td>\n",
       "      <td>7</td>\n",
       "      <td>2</td>\n",
       "      <td>...</td>\n",
       "      <td>No</td>\n",
       "      <td>Up</td>\n",
       "      <td>No</td>\n",
       "      <td>No</td>\n",
       "      <td>No</td>\n",
       "      <td>No</td>\n",
       "      <td>No</td>\n",
       "      <td>Ch</td>\n",
       "      <td>Yes</td>\n",
       "      <td>NO</td>\n",
       "    </tr>\n",
       "    <tr>\n",
       "      <th>4</th>\n",
       "      <td>16680</td>\n",
       "      <td>42519267</td>\n",
       "      <td>Caucasian</td>\n",
       "      <td>Male</td>\n",
       "      <td>[40-50)</td>\n",
       "      <td>?</td>\n",
       "      <td>1</td>\n",
       "      <td>1</td>\n",
       "      <td>7</td>\n",
       "      <td>1</td>\n",
       "      <td>...</td>\n",
       "      <td>No</td>\n",
       "      <td>Steady</td>\n",
       "      <td>No</td>\n",
       "      <td>No</td>\n",
       "      <td>No</td>\n",
       "      <td>No</td>\n",
       "      <td>No</td>\n",
       "      <td>Ch</td>\n",
       "      <td>Yes</td>\n",
       "      <td>NO</td>\n",
       "    </tr>\n",
       "  </tbody>\n",
       "</table>\n",
       "<p>5 rows × 50 columns</p>\n",
       "</div>"
      ],
      "text/plain": [
       "   encounter_id  patient_nbr             race  gender      age weight  \\\n",
       "0       2278392      8222157        Caucasian  Female   [0-10)      ?   \n",
       "1        149190     55629189        Caucasian  Female  [10-20)      ?   \n",
       "2         64410     86047875  AfricanAmerican  Female  [20-30)      ?   \n",
       "3        500364     82442376        Caucasian    Male  [30-40)      ?   \n",
       "4         16680     42519267        Caucasian    Male  [40-50)      ?   \n",
       "\n",
       "   admission_type_id  discharge_disposition_id  admission_source_id  \\\n",
       "0                  6                        25                    1   \n",
       "1                  1                         1                    7   \n",
       "2                  1                         1                    7   \n",
       "3                  1                         1                    7   \n",
       "4                  1                         1                    7   \n",
       "\n",
       "   time_in_hospital  ... citoglipton insulin  glyburide-metformin  \\\n",
       "0                 1  ...          No      No                   No   \n",
       "1                 3  ...          No      Up                   No   \n",
       "2                 2  ...          No      No                   No   \n",
       "3                 2  ...          No      Up                   No   \n",
       "4                 1  ...          No  Steady                   No   \n",
       "\n",
       "   glipizide-metformin  glimepiride-pioglitazone  metformin-rosiglitazone  \\\n",
       "0                   No                        No                       No   \n",
       "1                   No                        No                       No   \n",
       "2                   No                        No                       No   \n",
       "3                   No                        No                       No   \n",
       "4                   No                        No                       No   \n",
       "\n",
       "   metformin-pioglitazone  change diabetesMed readmitted  \n",
       "0                      No      No          No         NO  \n",
       "1                      No      Ch         Yes        >30  \n",
       "2                      No      No         Yes         NO  \n",
       "3                      No      Ch         Yes         NO  \n",
       "4                      No      Ch         Yes         NO  \n",
       "\n",
       "[5 rows x 50 columns]"
      ]
     },
     "execution_count": 2,
     "metadata": {},
     "output_type": "execute_result"
    }
   ],
   "source": [
    "diabetes = pd.read_csv('diabetic_data.csv')\n",
    "\n",
    "diabetes.head()"
   ]
  },
  {
   "cell_type": "markdown",
   "metadata": {},
   "source": [
    "### Data exploration and Cleaning\n",
    "\n",
    "Cleaning tasks such as dropping bad data, dealing with missing values."
   ]
  },
  {
   "cell_type": "code",
   "execution_count": 3,
   "metadata": {},
   "outputs": [
    {
     "data": {
      "text/plain": [
       "(101766, 50)"
      ]
     },
     "execution_count": 3,
     "metadata": {},
     "output_type": "execute_result"
    }
   ],
   "source": [
    "diabetes.shape"
   ]
  },
  {
   "cell_type": "code",
   "execution_count": 4,
   "metadata": {},
   "outputs": [
    {
     "name": "stdout",
     "output_type": "stream",
     "text": [
      "<class 'pandas.core.frame.DataFrame'>\n",
      "RangeIndex: 101766 entries, 0 to 101765\n",
      "Data columns (total 50 columns):\n",
      " #   Column                    Non-Null Count   Dtype \n",
      "---  ------                    --------------   ----- \n",
      " 0   encounter_id              101766 non-null  int64 \n",
      " 1   patient_nbr               101766 non-null  int64 \n",
      " 2   race                      101766 non-null  object\n",
      " 3   gender                    101766 non-null  object\n",
      " 4   age                       101766 non-null  object\n",
      " 5   weight                    101766 non-null  object\n",
      " 6   admission_type_id         101766 non-null  int64 \n",
      " 7   discharge_disposition_id  101766 non-null  int64 \n",
      " 8   admission_source_id       101766 non-null  int64 \n",
      " 9   time_in_hospital          101766 non-null  int64 \n",
      " 10  payer_code                101766 non-null  object\n",
      " 11  medical_specialty         101766 non-null  object\n",
      " 12  num_lab_procedures        101766 non-null  int64 \n",
      " 13  num_procedures            101766 non-null  int64 \n",
      " 14  num_medications           101766 non-null  int64 \n",
      " 15  number_outpatient         101766 non-null  int64 \n",
      " 16  number_emergency          101766 non-null  int64 \n",
      " 17  number_inpatient          101766 non-null  int64 \n",
      " 18  diag_1                    101766 non-null  object\n",
      " 19  diag_2                    101766 non-null  object\n",
      " 20  diag_3                    101766 non-null  object\n",
      " 21  number_diagnoses          101766 non-null  int64 \n",
      " 22  max_glu_serum             101766 non-null  object\n",
      " 23  A1Cresult                 101766 non-null  object\n",
      " 24  metformin                 101766 non-null  object\n",
      " 25  repaglinide               101766 non-null  object\n",
      " 26  nateglinide               101766 non-null  object\n",
      " 27  chlorpropamide            101766 non-null  object\n",
      " 28  glimepiride               101766 non-null  object\n",
      " 29  acetohexamide             101766 non-null  object\n",
      " 30  glipizide                 101766 non-null  object\n",
      " 31  glyburide                 101766 non-null  object\n",
      " 32  tolbutamide               101766 non-null  object\n",
      " 33  pioglitazone              101766 non-null  object\n",
      " 34  rosiglitazone             101766 non-null  object\n",
      " 35  acarbose                  101766 non-null  object\n",
      " 36  miglitol                  101766 non-null  object\n",
      " 37  troglitazone              101766 non-null  object\n",
      " 38  tolazamide                101766 non-null  object\n",
      " 39  examide                   101766 non-null  object\n",
      " 40  citoglipton               101766 non-null  object\n",
      " 41  insulin                   101766 non-null  object\n",
      " 42  glyburide-metformin       101766 non-null  object\n",
      " 43  glipizide-metformin       101766 non-null  object\n",
      " 44  glimepiride-pioglitazone  101766 non-null  object\n",
      " 45  metformin-rosiglitazone   101766 non-null  object\n",
      " 46  metformin-pioglitazone    101766 non-null  object\n",
      " 47  change                    101766 non-null  object\n",
      " 48  diabetesMed               101766 non-null  object\n",
      " 49  readmitted                101766 non-null  object\n",
      "dtypes: int64(13), object(37)\n",
      "memory usage: 38.8+ MB\n"
     ]
    }
   ],
   "source": [
    "diabetes.info()"
   ]
  },
  {
   "cell_type": "markdown",
   "metadata": {},
   "source": [
    "There are 50 features in this data. It conatins numerical values(int) and categorical values(object).\n",
    "\n",
    "There are 101766 samples present in this dataset. There seem to be no null values.We will dig deep and find out more."
   ]
  },
  {
   "cell_type": "code",
   "execution_count": 5,
   "metadata": {},
   "outputs": [
    {
     "data": {
      "text/html": [
       "<div>\n",
       "<style scoped>\n",
       "    .dataframe tbody tr th:only-of-type {\n",
       "        vertical-align: middle;\n",
       "    }\n",
       "\n",
       "    .dataframe tbody tr th {\n",
       "        vertical-align: top;\n",
       "    }\n",
       "\n",
       "    .dataframe thead th {\n",
       "        text-align: right;\n",
       "    }\n",
       "</style>\n",
       "<table border=\"1\" class=\"dataframe\">\n",
       "  <thead>\n",
       "    <tr style=\"text-align: right;\">\n",
       "      <th></th>\n",
       "      <th>encounter_id</th>\n",
       "      <th>patient_nbr</th>\n",
       "      <th>admission_type_id</th>\n",
       "      <th>discharge_disposition_id</th>\n",
       "      <th>admission_source_id</th>\n",
       "      <th>time_in_hospital</th>\n",
       "      <th>num_lab_procedures</th>\n",
       "      <th>num_procedures</th>\n",
       "      <th>num_medications</th>\n",
       "      <th>number_outpatient</th>\n",
       "      <th>number_emergency</th>\n",
       "      <th>number_inpatient</th>\n",
       "      <th>number_diagnoses</th>\n",
       "    </tr>\n",
       "  </thead>\n",
       "  <tbody>\n",
       "    <tr>\n",
       "      <th>count</th>\n",
       "      <td>1.017660e+05</td>\n",
       "      <td>1.017660e+05</td>\n",
       "      <td>101766.000000</td>\n",
       "      <td>101766.000000</td>\n",
       "      <td>101766.000000</td>\n",
       "      <td>101766.000000</td>\n",
       "      <td>101766.000000</td>\n",
       "      <td>101766.000000</td>\n",
       "      <td>101766.000000</td>\n",
       "      <td>101766.000000</td>\n",
       "      <td>101766.000000</td>\n",
       "      <td>101766.000000</td>\n",
       "      <td>101766.000000</td>\n",
       "    </tr>\n",
       "    <tr>\n",
       "      <th>mean</th>\n",
       "      <td>1.652016e+08</td>\n",
       "      <td>5.433040e+07</td>\n",
       "      <td>2.024006</td>\n",
       "      <td>3.715642</td>\n",
       "      <td>5.754437</td>\n",
       "      <td>4.395987</td>\n",
       "      <td>43.095641</td>\n",
       "      <td>1.339730</td>\n",
       "      <td>16.021844</td>\n",
       "      <td>0.369357</td>\n",
       "      <td>0.197836</td>\n",
       "      <td>0.635566</td>\n",
       "      <td>7.422607</td>\n",
       "    </tr>\n",
       "    <tr>\n",
       "      <th>std</th>\n",
       "      <td>1.026403e+08</td>\n",
       "      <td>3.869636e+07</td>\n",
       "      <td>1.445403</td>\n",
       "      <td>5.280166</td>\n",
       "      <td>4.064081</td>\n",
       "      <td>2.985108</td>\n",
       "      <td>19.674362</td>\n",
       "      <td>1.705807</td>\n",
       "      <td>8.127566</td>\n",
       "      <td>1.267265</td>\n",
       "      <td>0.930472</td>\n",
       "      <td>1.262863</td>\n",
       "      <td>1.933600</td>\n",
       "    </tr>\n",
       "    <tr>\n",
       "      <th>min</th>\n",
       "      <td>1.252200e+04</td>\n",
       "      <td>1.350000e+02</td>\n",
       "      <td>1.000000</td>\n",
       "      <td>1.000000</td>\n",
       "      <td>1.000000</td>\n",
       "      <td>1.000000</td>\n",
       "      <td>1.000000</td>\n",
       "      <td>0.000000</td>\n",
       "      <td>1.000000</td>\n",
       "      <td>0.000000</td>\n",
       "      <td>0.000000</td>\n",
       "      <td>0.000000</td>\n",
       "      <td>1.000000</td>\n",
       "    </tr>\n",
       "    <tr>\n",
       "      <th>25%</th>\n",
       "      <td>8.496119e+07</td>\n",
       "      <td>2.341322e+07</td>\n",
       "      <td>1.000000</td>\n",
       "      <td>1.000000</td>\n",
       "      <td>1.000000</td>\n",
       "      <td>2.000000</td>\n",
       "      <td>31.000000</td>\n",
       "      <td>0.000000</td>\n",
       "      <td>10.000000</td>\n",
       "      <td>0.000000</td>\n",
       "      <td>0.000000</td>\n",
       "      <td>0.000000</td>\n",
       "      <td>6.000000</td>\n",
       "    </tr>\n",
       "    <tr>\n",
       "      <th>50%</th>\n",
       "      <td>1.523890e+08</td>\n",
       "      <td>4.550514e+07</td>\n",
       "      <td>1.000000</td>\n",
       "      <td>1.000000</td>\n",
       "      <td>7.000000</td>\n",
       "      <td>4.000000</td>\n",
       "      <td>44.000000</td>\n",
       "      <td>1.000000</td>\n",
       "      <td>15.000000</td>\n",
       "      <td>0.000000</td>\n",
       "      <td>0.000000</td>\n",
       "      <td>0.000000</td>\n",
       "      <td>8.000000</td>\n",
       "    </tr>\n",
       "    <tr>\n",
       "      <th>75%</th>\n",
       "      <td>2.302709e+08</td>\n",
       "      <td>8.754595e+07</td>\n",
       "      <td>3.000000</td>\n",
       "      <td>4.000000</td>\n",
       "      <td>7.000000</td>\n",
       "      <td>6.000000</td>\n",
       "      <td>57.000000</td>\n",
       "      <td>2.000000</td>\n",
       "      <td>20.000000</td>\n",
       "      <td>0.000000</td>\n",
       "      <td>0.000000</td>\n",
       "      <td>1.000000</td>\n",
       "      <td>9.000000</td>\n",
       "    </tr>\n",
       "    <tr>\n",
       "      <th>max</th>\n",
       "      <td>4.438672e+08</td>\n",
       "      <td>1.895026e+08</td>\n",
       "      <td>8.000000</td>\n",
       "      <td>28.000000</td>\n",
       "      <td>25.000000</td>\n",
       "      <td>14.000000</td>\n",
       "      <td>132.000000</td>\n",
       "      <td>6.000000</td>\n",
       "      <td>81.000000</td>\n",
       "      <td>42.000000</td>\n",
       "      <td>76.000000</td>\n",
       "      <td>21.000000</td>\n",
       "      <td>16.000000</td>\n",
       "    </tr>\n",
       "  </tbody>\n",
       "</table>\n",
       "</div>"
      ],
      "text/plain": [
       "       encounter_id   patient_nbr  admission_type_id  \\\n",
       "count  1.017660e+05  1.017660e+05      101766.000000   \n",
       "mean   1.652016e+08  5.433040e+07           2.024006   \n",
       "std    1.026403e+08  3.869636e+07           1.445403   \n",
       "min    1.252200e+04  1.350000e+02           1.000000   \n",
       "25%    8.496119e+07  2.341322e+07           1.000000   \n",
       "50%    1.523890e+08  4.550514e+07           1.000000   \n",
       "75%    2.302709e+08  8.754595e+07           3.000000   \n",
       "max    4.438672e+08  1.895026e+08           8.000000   \n",
       "\n",
       "       discharge_disposition_id  admission_source_id  time_in_hospital  \\\n",
       "count             101766.000000        101766.000000     101766.000000   \n",
       "mean                   3.715642             5.754437          4.395987   \n",
       "std                    5.280166             4.064081          2.985108   \n",
       "min                    1.000000             1.000000          1.000000   \n",
       "25%                    1.000000             1.000000          2.000000   \n",
       "50%                    1.000000             7.000000          4.000000   \n",
       "75%                    4.000000             7.000000          6.000000   \n",
       "max                   28.000000            25.000000         14.000000   \n",
       "\n",
       "       num_lab_procedures  num_procedures  num_medications  number_outpatient  \\\n",
       "count       101766.000000   101766.000000    101766.000000      101766.000000   \n",
       "mean            43.095641        1.339730        16.021844           0.369357   \n",
       "std             19.674362        1.705807         8.127566           1.267265   \n",
       "min              1.000000        0.000000         1.000000           0.000000   \n",
       "25%             31.000000        0.000000        10.000000           0.000000   \n",
       "50%             44.000000        1.000000        15.000000           0.000000   \n",
       "75%             57.000000        2.000000        20.000000           0.000000   \n",
       "max            132.000000        6.000000        81.000000          42.000000   \n",
       "\n",
       "       number_emergency  number_inpatient  number_diagnoses  \n",
       "count     101766.000000     101766.000000     101766.000000  \n",
       "mean           0.197836          0.635566          7.422607  \n",
       "std            0.930472          1.262863          1.933600  \n",
       "min            0.000000          0.000000          1.000000  \n",
       "25%            0.000000          0.000000          6.000000  \n",
       "50%            0.000000          0.000000          8.000000  \n",
       "75%            0.000000          1.000000          9.000000  \n",
       "max           76.000000         21.000000         16.000000  "
      ]
     },
     "execution_count": 5,
     "metadata": {},
     "output_type": "execute_result"
    }
   ],
   "source": [
    "diabetes.describe()"
   ]
  },
  {
   "cell_type": "markdown",
   "metadata": {},
   "source": [
    "There are 50 features looking into all of these.\n",
    "\n",
    "1. encounter_id : unique identifier of an encounter"
   ]
  },
  {
   "cell_type": "code",
   "execution_count": 6,
   "metadata": {},
   "outputs": [
    {
     "data": {
      "text/plain": [
       "101766"
      ]
     },
     "execution_count": 6,
     "metadata": {},
     "output_type": "execute_result"
    }
   ],
   "source": [
    "diabetes['encounter_id'].nunique()"
   ]
  },
  {
   "cell_type": "markdown",
   "metadata": {},
   "source": [
    "All the patients that have come to the hospital have been provided with an encounter_id so that is why there are 101766 different unique values.\n",
    "\n",
    "2. patient_nbr : unique identifier of a patient"
   ]
  },
  {
   "cell_type": "code",
   "execution_count": 7,
   "metadata": {},
   "outputs": [
    {
     "data": {
      "text/plain": [
       "71518"
      ]
     },
     "execution_count": 7,
     "metadata": {},
     "output_type": "execute_result"
    }
   ],
   "source": [
    "diabetes['patient_nbr'].nunique()"
   ]
  },
  {
   "cell_type": "markdown",
   "metadata": {},
   "source": [
    "There are 71518 unique paitents that have entered the system."
   ]
  },
  {
   "cell_type": "markdown",
   "metadata": {},
   "source": [
    "encounter_id and patient_nbr: these are just identifiers and not useful variables so they can be dropped from our future analysis"
   ]
  },
  {
   "cell_type": "code",
   "execution_count": 8,
   "metadata": {},
   "outputs": [],
   "source": [
    "diabetes.drop(['encounter_id','patient_nbr'],axis=1,inplace=True)"
   ]
  },
  {
   "cell_type": "markdown",
   "metadata": {},
   "source": [
    "3. race : It is a categorical variable."
   ]
  },
  {
   "cell_type": "code",
   "execution_count": 9,
   "metadata": {},
   "outputs": [
    {
     "data": {
      "text/plain": [
       "Caucasian          76099\n",
       "AfricanAmerican    19210\n",
       "?                   2273\n",
       "Hispanic            2037\n",
       "Other               1506\n",
       "Asian                641\n",
       "Name: race, dtype: int64"
      ]
     },
     "execution_count": 9,
     "metadata": {},
     "output_type": "execute_result"
    }
   ],
   "source": [
    "diabetes['race'].value_counts()"
   ]
  },
  {
   "cell_type": "markdown",
   "metadata": {},
   "source": [
    "There are 5 distinct categories under race feature. There are some unknown values here entered in the form of '?' which needs to be replaced with nan values so that later these values can be filled."
   ]
  },
  {
   "cell_type": "code",
   "execution_count": 10,
   "metadata": {},
   "outputs": [],
   "source": [
    "diabetes['race'] = diabetes['race'].replace('?',np.nan)"
   ]
  },
  {
   "cell_type": "markdown",
   "metadata": {},
   "source": [
    "4. gender: It is a categorical feature depicting the gender of the patient."
   ]
  },
  {
   "cell_type": "code",
   "execution_count": 11,
   "metadata": {},
   "outputs": [
    {
     "data": {
      "text/plain": [
       "Female             54708\n",
       "Male               47055\n",
       "Unknown/Invalid        3\n",
       "Name: gender, dtype: int64"
      ]
     },
     "execution_count": 11,
     "metadata": {},
     "output_type": "execute_result"
    }
   ],
   "source": [
    "diabetes.gender.value_counts()"
   ]
  },
  {
   "cell_type": "markdown",
   "metadata": {},
   "source": [
    "There are 2 categories here: female, male. There is a 3rd category of unknown/invalid which are missing/unknown values ,as there count is less so they can be dropped."
   ]
  },
  {
   "cell_type": "code",
   "execution_count": 12,
   "metadata": {},
   "outputs": [],
   "source": [
    "diabetes['gender'] = diabetes['gender'].replace('Unknown/Invalid',np.nan)\n",
    "diabetes['gender'].dropna(inplace=True)"
   ]
  },
  {
   "cell_type": "code",
   "execution_count": 13,
   "metadata": {},
   "outputs": [
    {
     "data": {
      "text/plain": [
       "Female    54708\n",
       "Male      47055\n",
       "Name: gender, dtype: int64"
      ]
     },
     "execution_count": 13,
     "metadata": {},
     "output_type": "execute_result"
    }
   ],
   "source": [
    "diabetes.gender.value_counts()"
   ]
  },
  {
   "cell_type": "markdown",
   "metadata": {},
   "source": [
    "5. Age: It is a categorical feature as the age is grouped here in bins of 10 yrs"
   ]
  },
  {
   "cell_type": "code",
   "execution_count": 14,
   "metadata": {},
   "outputs": [
    {
     "data": {
      "text/plain": [
       "[70-80)     26068\n",
       "[60-70)     22483\n",
       "[50-60)     17256\n",
       "[80-90)     17197\n",
       "[40-50)      9685\n",
       "[30-40)      3775\n",
       "[90-100)     2793\n",
       "[20-30)      1657\n",
       "[10-20)       691\n",
       "[0-10)        161\n",
       "Name: age, dtype: int64"
      ]
     },
     "execution_count": 14,
     "metadata": {},
     "output_type": "execute_result"
    }
   ],
   "source": [
    "diabetes.age.value_counts()"
   ]
  },
  {
   "cell_type": "markdown",
   "metadata": {},
   "source": [
    "The age here range from 0 to 100 yrs. \n",
    "\n",
    "The population falling in the range of 50 to 90 yrs are mostly present in this dataset.\n",
    "\n",
    "6. Weight : weight in pounds."
   ]
  },
  {
   "cell_type": "code",
   "execution_count": 15,
   "metadata": {},
   "outputs": [
    {
     "data": {
      "text/plain": [
       "?            98569\n",
       "[75-100)      1336\n",
       "[50-75)        897\n",
       "[100-125)      625\n",
       "[125-150)      145\n",
       "[25-50)         97\n",
       "[0-25)          48\n",
       "[150-175)       35\n",
       "[175-200)       11\n",
       ">200             3\n",
       "Name: weight, dtype: int64"
      ]
     },
     "execution_count": 15,
     "metadata": {},
     "output_type": "execute_result"
    }
   ],
   "source": [
    "diabetes.weight.value_counts()"
   ]
  },
  {
   "cell_type": "markdown",
   "metadata": {},
   "source": [
    "Weight is also divided into bins of 25 pounds, but a significant part of the weight has '?' values. So it a good idea to drop this column."
   ]
  },
  {
   "cell_type": "code",
   "execution_count": 16,
   "metadata": {},
   "outputs": [],
   "source": [
    "diabetes.drop(['weight'],axis=1,inplace=True)"
   ]
  },
  {
   "cell_type": "markdown",
   "metadata": {},
   "source": [
    "7. admission_type_id : Integer identifier corresponding to 8 distinct values, for example, emergency, urgent, elective, newborn, and not available"
   ]
  },
  {
   "cell_type": "code",
   "execution_count": 17,
   "metadata": {},
   "outputs": [
    {
     "data": {
      "text/plain": [
       "8"
      ]
     },
     "execution_count": 17,
     "metadata": {},
     "output_type": "execute_result"
    }
   ],
   "source": [
    "diabetes.admission_type_id.nunique()"
   ]
  },
  {
   "cell_type": "markdown",
   "metadata": {},
   "source": [
    "There are 8 unique values ranging from 1 to 8."
   ]
  },
  {
   "cell_type": "code",
   "execution_count": 18,
   "metadata": {},
   "outputs": [
    {
     "data": {
      "text/plain": [
       "1    53990\n",
       "3    18869\n",
       "2    18480\n",
       "6     5291\n",
       "5     4785\n",
       "8      320\n",
       "7       21\n",
       "4       10\n",
       "Name: admission_type_id, dtype: int64"
      ]
     },
     "execution_count": 18,
     "metadata": {},
     "output_type": "execute_result"
    }
   ],
   "source": [
    "diabetes.admission_type_id.value_counts()"
   ]
  },
  {
   "cell_type": "markdown",
   "metadata": {},
   "source": [
    "These 8 values correspond to : \n",
    "\n",
    "1\tEmergency\n",
    "2\tUrgent\n",
    "3\tElective\n",
    "4\tNewborn\n",
    "5\tNot Available\n",
    "6\tNULL\n",
    "7\tTrauma Center\n",
    "8\tNot Mapped\n",
    "\n",
    "From this we can see that the majority patients that have been admitted in this hospital have an admission type as emergency.\n",
    "\n",
    "For further analysis we can merger these categories into less number of categories.\n",
    "\n",
    "Emeregncy/Urgent/Trauma Center ---> Emergency \n",
    "\n",
    "Not Available/Null/Not Mapped ---> Not Available\n",
    "\n",
    "Elective ---> Elective\n",
    "\n",
    "New Born ---> New Born"
   ]
  },
  {
   "cell_type": "code",
   "execution_count": 19,
   "metadata": {},
   "outputs": [],
   "source": [
    "diabetes['admission_type_id']=diabetes['admission_type_id'].replace({1:'Emergency',2:'Emergency',7:'Emergency',\n",
    "                                 5:'Not Available', 6:'Not Available', 8:'Not Available',\n",
    "                                 3:'Elective',4:'Newborn'})"
   ]
  },
  {
   "cell_type": "code",
   "execution_count": 20,
   "metadata": {},
   "outputs": [
    {
     "data": {
      "text/plain": [
       "Emergency        72491\n",
       "Elective         18869\n",
       "Not Available    10396\n",
       "Newborn             10\n",
       "Name: admission_type_id, dtype: int64"
      ]
     },
     "execution_count": 20,
     "metadata": {},
     "output_type": "execute_result"
    }
   ],
   "source": [
    "diabetes.admission_type_id.value_counts()"
   ]
  },
  {
   "cell_type": "markdown",
   "metadata": {},
   "source": [
    "Droppping the category new born because the admission_type_id == newborn and the age corresponding to it give contradictory information."
   ]
  },
  {
   "cell_type": "code",
   "execution_count": 21,
   "metadata": {},
   "outputs": [],
   "source": [
    "diabetes=diabetes[diabetes['admission_type_id']!='Newborn']"
   ]
  },
  {
   "cell_type": "code",
   "execution_count": 22,
   "metadata": {},
   "outputs": [
    {
     "data": {
      "text/plain": [
       "Emergency        72491\n",
       "Elective         18869\n",
       "Not Available    10396\n",
       "Name: admission_type_id, dtype: int64"
      ]
     },
     "execution_count": 22,
     "metadata": {},
     "output_type": "execute_result"
    }
   ],
   "source": [
    "diabetes.admission_type_id.value_counts()"
   ]
  },
  {
   "cell_type": "markdown",
   "metadata": {},
   "source": [
    "8. Discharge disposition: Integer identifier corresponding to 26 distinct values, for example, discharged to home, expired, and not available"
   ]
  },
  {
   "cell_type": "code",
   "execution_count": 23,
   "metadata": {},
   "outputs": [
    {
     "data": {
      "text/plain": [
       "1     60228\n",
       "3     13954\n",
       "6     12898\n",
       "18     3691\n",
       "2      2128\n",
       "22     1993\n",
       "11     1642\n",
       "5      1184\n",
       "25      989\n",
       "4       815\n",
       "7       623\n",
       "23      412\n",
       "13      399\n",
       "14      372\n",
       "28      139\n",
       "8       108\n",
       "15       63\n",
       "24       48\n",
       "9        21\n",
       "17       14\n",
       "16       11\n",
       "19        8\n",
       "10        6\n",
       "27        5\n",
       "12        3\n",
       "20        2\n",
       "Name: discharge_disposition_id, dtype: int64"
      ]
     },
     "execution_count": 23,
     "metadata": {},
     "output_type": "execute_result"
    }
   ],
   "source": [
    "diabetes.discharge_disposition_id.value_counts()"
   ]
  },
  {
   "cell_type": "markdown",
   "metadata": {},
   "source": [
    "#### discharge_disposition_id\tdescription\n",
    "\n",
    "1\tDischarged to home\n",
    "\n",
    "2\tDischarged/transferred to another short term hospital\n",
    "\n",
    "3\tDischarged/transferred to SNF(skilled nursing facility)\n",
    "\n",
    "4\tDischarged/transferred to ICF(intermediate care facility)\n",
    "\n",
    "5\tDischarged/transferred to another type of inpatient care institution\n",
    "\n",
    "6\tDischarged/transferred to home with home health service\n",
    "\n",
    "7\tLeft AMA(Against Medical Advice.)\n",
    "\n",
    "8\tDischarged/transferred to home under care of Home IV provider\n",
    "\n",
    "9\tAdmitted as an inpatient to this hospital\n",
    "\n",
    "10\tNeonate discharged to another hospital for neonatal aftercare\n",
    "\n",
    "11\tExpired\n",
    "\n",
    "12\tStill patient or expected to return for outpatient services\n",
    "\n",
    "13\tHospice / home\n",
    "\n",
    "14\tHospice / medical facility\n",
    "\n",
    "15\tDischarged/transferred within this institution to Medicare approved swing bed\n",
    "\n",
    "16\tDischarged/transferred/referred another institution for outpatient services\n",
    "\n",
    "17\tDischarged/transferred/referred to this institution for outpatient services\n",
    "\n",
    "18\tNULL\n",
    "\n",
    "19\tExpired at home. Medicaid only, hospice.\n",
    "\n",
    "20\tExpired in a medical facility. Medicaid only, hospice.\n",
    "\n",
    "21\tExpired, place unknown. Medicaid only, hospice.\n",
    "\n",
    "22\tDischarged/transferred to another rehab fac including rehab units of a hospital .\n",
    "\n",
    "23\tDischarged/transferred to a long term care hospital.\n",
    "\n",
    "24\tDischarged/transferred to a nursing facility certified under Medicaid but not certified under Medicare.\n",
    "\n",
    "25\tNot Mapped\n",
    "\n",
    "26\tUnknown/Invalid\n",
    "\n",
    "30\tDischarged/transferred to another Type of Health Care Institution not Defined Elsewhere\n",
    "\n",
    "27\tDischarged/transferred to a federal health care facility.\n",
    "\n",
    "28\tDischarged/transferred/referred to a psychiatric hospital of psychiatric distinct part unit of a hospital\n",
    "\n",
    "29\tDischarged/transferred to a Critical Access Hospital (CAH).\n",
    "\n",
    "#### We can merge several grps over here to reduce the number of categories:\n",
    "\n",
    "1 ---> Discharged to home\n",
    "\n",
    "2/3/4/5/10/16/22/23/24/30/27/28/29 ---> Transferred to another medical facility\n",
    "\n",
    "7 ---> Left AMA(Against Medical Advice.)\n",
    "\n",
    "6/8 ---> Discharged to home with home health service\n",
    "\n",
    "9/12/15/17 ---> Still patient/referred to this institution\n",
    "\n",
    "11/19/20/21  ---> Expired\n",
    "\n",
    "18/25/26 ---> Not Available\n",
    "\n",
    "13/14 ---> Hospice"
   ]
  },
  {
   "cell_type": "code",
   "execution_count": 24,
   "metadata": {},
   "outputs": [],
   "source": [
    "diabetes['discharge_disposition_id']=diabetes['discharge_disposition_id'].replace({1:'Discharged to home',\n",
    "                                        2:'Transferred to another medical facility',\n",
    "                                        3:'Transferred to another medical facility',\n",
    "                                        4:'Transferred to another medical facility',\n",
    "                                        5:'Transferred to another medical facility',\n",
    "                                        16:'Transferred to another medical facility',\n",
    "                                        22:'Transferred to another medical facility',\n",
    "                                        23:'Transferred to another medical facility',\n",
    "                                        24:'Transferred to another medical facility',\n",
    "                                        27:'Transferred to another medical facility',\n",
    "                                        28:'Transferred to another medical facility',\n",
    "                                        29:'Transferred to another medical facility',\n",
    "                                        30:'Transferred to another medical facility',                            \n",
    "                                        6:'Discharged to home with home health service',\n",
    "                                        8:'Discharged to home with home health service',\n",
    "                                        7:'Left AMA',\n",
    "                                        9:'Still patient/referred to this institution',\n",
    "                                        12:'Still patient/referred to this institution',\n",
    "                                        15:'Still patient/referred to this institution',\n",
    "                                        17:'Still patient/referred to this institution',\n",
    "                                        10:'Neonate discharged',\n",
    "                                        11:'Expired',\n",
    "                                        19:'Expired',\n",
    "                                        20:'Expired',\n",
    "                                        21:'Expired',\n",
    "                                        13:'Hospice',\n",
    "                                        14:'Hospice',\n",
    "                                        18:'Not Available',\n",
    "                                        25:'Not Available',\n",
    "                                        26:'Not Available'                                 \n",
    "})"
   ]
  },
  {
   "cell_type": "code",
   "execution_count": 25,
   "metadata": {},
   "outputs": [
    {
     "data": {
      "text/plain": [
       "Discharged to home                             60228\n",
       "Transferred to another medical facility        20689\n",
       "Discharged to home with home health service    13006\n",
       "Not Available                                   4680\n",
       "Expired                                         1652\n",
       "Hospice                                          771\n",
       "Left AMA                                         623\n",
       "Still patient/referred to this institution       101\n",
       "Neonate discharged                                 6\n",
       "Name: discharge_disposition_id, dtype: int64"
      ]
     },
     "execution_count": 25,
     "metadata": {},
     "output_type": "execute_result"
    }
   ],
   "source": [
    "diabetes.discharge_disposition_id.value_counts()"
   ]
  },
  {
   "cell_type": "markdown",
   "metadata": {},
   "source": [
    "The patients who have expired should be removed from the system beacuse they will create bias as they will not be readmitted."
   ]
  },
  {
   "cell_type": "code",
   "execution_count": 26,
   "metadata": {},
   "outputs": [],
   "source": [
    "diabetes=diabetes[diabetes['discharge_disposition_id']!='Expired']\n",
    "diabetes=diabetes[diabetes['discharge_disposition_id']!='Neonate discharged']"
   ]
  },
  {
   "cell_type": "code",
   "execution_count": 27,
   "metadata": {},
   "outputs": [
    {
     "data": {
      "text/plain": [
       "Discharged to home                             60228\n",
       "Transferred to another medical facility        20689\n",
       "Discharged to home with home health service    13006\n",
       "Not Available                                   4680\n",
       "Hospice                                          771\n",
       "Left AMA                                         623\n",
       "Still patient/referred to this institution       101\n",
       "Name: discharge_disposition_id, dtype: int64"
      ]
     },
     "execution_count": 27,
     "metadata": {},
     "output_type": "execute_result"
    }
   ],
   "source": [
    "diabetes.discharge_disposition_id.value_counts()"
   ]
  },
  {
   "cell_type": "markdown",
   "metadata": {},
   "source": [
    "9. admission_source_id: Integer identifier corresponding to 17 distinct values, for example, physician referral, emergency room, and transfer from a hospital"
   ]
  },
  {
   "cell_type": "code",
   "execution_count": 28,
   "metadata": {},
   "outputs": [
    {
     "data": {
      "text/plain": [
       "1     29317\n",
       "2      1083\n",
       "3       185\n",
       "4      3127\n",
       "5       814\n",
       "6      2244\n",
       "7     56358\n",
       "8        15\n",
       "9       125\n",
       "10        8\n",
       "11        2\n",
       "13        1\n",
       "14        1\n",
       "17     6645\n",
       "20      159\n",
       "22       12\n",
       "25        2\n",
       "Name: admission_source_id, dtype: int64"
      ]
     },
     "execution_count": 28,
     "metadata": {},
     "output_type": "execute_result"
    }
   ],
   "source": [
    "diabetes.admission_source_id.value_counts(sort=False)"
   ]
  },
  {
   "cell_type": "markdown",
   "metadata": {},
   "source": [
    "\n",
    "1\t Physician Referral\n",
    "\n",
    "2\tClinic Referral\n",
    "\n",
    "3\tHMO Referral(Health Maintenance Organization)\n",
    "\n",
    "4\tTransfer from a hospital\n",
    "\n",
    "5\t Transfer from a Skilled Nursing Facility (SNF)\n",
    "\n",
    "6\t Transfer from another health care facility\n",
    "\n",
    "7\t Emergency Room\n",
    "\n",
    "8\t Court/Law Enforcement\n",
    "\n",
    "9\t Not Available\n",
    "\n",
    "10\t Transfer from critial access hospital\n",
    "\n",
    "11\tNormal Delivery\n",
    "\n",
    "12\t Premature Delivery\n",
    "\n",
    "13\t Sick Baby\n",
    "\n",
    "14\t Extramural Birth\n",
    "\n",
    "15\tNot Available\n",
    "\n",
    "17\tNULL\n",
    "\n",
    "18\t Transfer From Another Home Health Agency\n",
    "\n",
    "19\tReadmission to Same Home Health Agency\n",
    "\n",
    "20\t Not Mapped\n",
    "\n",
    "21\tUnknown/Invalid\n",
    "\n",
    "22\t Transfer from hospital inpt/same fac reslt in a sep claim\n",
    "\n",
    "23\t Born inside this hospital\n",
    "\n",
    "24\t Born outside this hospital\n",
    "\n",
    "25\t Transfer from Ambulatory Surgery Center\n",
    "\n",
    "26\tTransfer from Hospice\n",
    "\n",
    "#### We can merge several grps over here to reduce the number of categories:\n",
    "\n",
    "1/2/3 ---> Referral\n",
    "\n",
    "4/5/6/10/18/19/25/26/22 ---> Transferred from another health care facility\n",
    "\n",
    "7 ---> Emergency\n",
    "\n",
    "9/15/17/20/21 ---> Not Available\n",
    "\n",
    "8 --->  Court/Law Enforcement\n",
    "\n",
    "Delivery ---> 11/12/14/13/23/24"
   ]
  },
  {
   "cell_type": "code",
   "execution_count": 29,
   "metadata": {},
   "outputs": [],
   "source": [
    "diabetes['admission_source_id']=diabetes['admission_source_id'].replace({1:'Referral',\n",
    "                                   2:'Referral',\n",
    "                                   3:'Referral',\n",
    "                                   4:'Transferred from another health care facility',\n",
    "                                   5:'Transferred from another health care facility',\n",
    "                                   6:'Transferred from another health care facility',\n",
    "                                   8:'Court/Law Enforcement',                                    \n",
    "                                   10:'Transferred from another health care facility',\n",
    "                                   18:'Transferred from another health care facility',\n",
    "                                   19:'Transferred from another health care facility',\n",
    "                                   25:'Transferred from another health care facility',\n",
    "                                   26:'Transferred from another health care facility',\n",
    "                                   7:'Emergency',\n",
    "                                   9:'Not Available',\n",
    "                                   15:'Not Available',\n",
    "                                   17:'Not Available',\n",
    "                                   20:'Not Available',\n",
    "                                   21:'Not Available',\n",
    "                                   11:'Delivery',\n",
    "                                   12:'Delivery',\n",
    "                                   13:'Delivery',\n",
    "                                   14:'Delivery',\n",
    "                                   23:'Delivery',\n",
    "                                   22:\"Transferred from another health care facility\",                                    \n",
    "                                   24:'Delivery'                                \n",
    "\n",
    "                                   \n",
    "})"
   ]
  },
  {
   "cell_type": "code",
   "execution_count": 30,
   "metadata": {},
   "outputs": [
    {
     "data": {
      "text/plain": [
       "Emergency                                        56358\n",
       "Referral                                         30585\n",
       "Not Available                                     6929\n",
       "Transferred from another health care facility     6207\n",
       "Court/Law Enforcement                               15\n",
       "Delivery                                             4\n",
       "Name: admission_source_id, dtype: int64"
      ]
     },
     "execution_count": 30,
     "metadata": {},
     "output_type": "execute_result"
    }
   ],
   "source": [
    "diabetes.admission_source_id.value_counts()"
   ]
  },
  {
   "cell_type": "markdown",
   "metadata": {},
   "source": [
    "Droppping the category delivery  because the admission_source_id == delivery and the age corresponding to it give contradictory information."
   ]
  },
  {
   "cell_type": "code",
   "execution_count": 31,
   "metadata": {},
   "outputs": [],
   "source": [
    "diabetes=diabetes[diabetes['admission_source_id']!='Delivery']"
   ]
  },
  {
   "cell_type": "code",
   "execution_count": 32,
   "metadata": {},
   "outputs": [
    {
     "data": {
      "text/plain": [
       "Emergency                                        56358\n",
       "Referral                                         30585\n",
       "Not Available                                     6929\n",
       "Transferred from another health care facility     6207\n",
       "Court/Law Enforcement                               15\n",
       "Name: admission_source_id, dtype: int64"
      ]
     },
     "execution_count": 32,
     "metadata": {},
     "output_type": "execute_result"
    }
   ],
   "source": [
    "diabetes.admission_source_id.value_counts()"
   ]
  },
  {
   "cell_type": "markdown",
   "metadata": {},
   "source": [
    "10. Time in hospital: Integer number of days between admission and discharge"
   ]
  },
  {
   "cell_type": "code",
   "execution_count": 33,
   "metadata": {},
   "outputs": [
    {
     "data": {
      "text/plain": [
       "1     13878\n",
       "2     16971\n",
       "3     17539\n",
       "4     13773\n",
       "5      9832\n",
       "6      7424\n",
       "7      5744\n",
       "8      4321\n",
       "9      2926\n",
       "10     2290\n",
       "11     1809\n",
       "12     1401\n",
       "13     1173\n",
       "14     1013\n",
       "Name: time_in_hospital, dtype: int64"
      ]
     },
     "execution_count": 33,
     "metadata": {},
     "output_type": "execute_result"
    }
   ],
   "source": [
    "diabetes.time_in_hospital.value_counts(sort=False)"
   ]
  },
  {
   "cell_type": "markdown",
   "metadata": {},
   "source": [
    "The time in the hospital ranges from 1 day to 14 days.\n",
    "\n",
    "11. payer_code : Integer identifier corresponding to 23 distinct values, for example, Blue Cross/Blue Shield, Medicare, and self-pay Medical"
   ]
  },
  {
   "cell_type": "code",
   "execution_count": 34,
   "metadata": {},
   "outputs": [
    {
     "data": {
      "text/plain": [
       "MC    31738\n",
       "CH      144\n",
       "WC      135\n",
       "SI       55\n",
       "BC     4625\n",
       "MP       79\n",
       "FR        1\n",
       "OG     1023\n",
       "CP     2496\n",
       "HM     6218\n",
       "DM      546\n",
       "CM     1903\n",
       "?     39580\n",
       "SP     4956\n",
       "PO      586\n",
       "OT       94\n",
       "UN     2424\n",
       "MD     3491\n",
       "Name: payer_code, dtype: int64"
      ]
     },
     "execution_count": 34,
     "metadata": {},
     "output_type": "execute_result"
    }
   ],
   "source": [
    "diabetes.payer_code.value_counts(sort=False)"
   ]
  },
  {
   "cell_type": "markdown",
   "metadata": {},
   "source": [
    "Payer code has a significant number of null values ('?') and it are not signification w.r.t the patient readmission so we can drop it. "
   ]
  },
  {
   "cell_type": "code",
   "execution_count": 35,
   "metadata": {},
   "outputs": [],
   "source": [
    "diabetes.drop(['payer_code'],axis=1,inplace=True)"
   ]
  },
  {
   "cell_type": "markdown",
   "metadata": {},
   "source": [
    "12.medical_specialty: Integer identifier of a specialty of the admitting physician, corresponding to 73 distinct values, for example, cardiology, internal medicine, family/general practice, and surgeon"
   ]
  },
  {
   "cell_type": "code",
   "execution_count": 36,
   "metadata": {},
   "outputs": [
    {
     "data": {
      "text/plain": [
       "73"
      ]
     },
     "execution_count": 36,
     "metadata": {},
     "output_type": "execute_result"
    }
   ],
   "source": [
    "diabetes.medical_specialty.nunique()"
   ]
  },
  {
   "cell_type": "code",
   "execution_count": 37,
   "metadata": {},
   "outputs": [],
   "source": [
    "diabetes['medical_specialty'] = diabetes['medical_specialty'].replace('?',np.nan)"
   ]
  },
  {
   "cell_type": "markdown",
   "metadata": {},
   "source": [
    "13. num_lab_procedures: Number of lab tests performed during the encounter"
   ]
  },
  {
   "cell_type": "code",
   "execution_count": 38,
   "metadata": {},
   "outputs": [
    {
     "name": "stdout",
     "output_type": "stream",
     "text": [
      "The number of lab tests a patient has undergone can range from 1 to 132\n"
     ]
    }
   ],
   "source": [
    "print('The number of lab tests a patient has undergone can range from',diabetes.num_lab_procedures.min(),'to',diabetes.num_lab_procedures.max())"
   ]
  },
  {
   "cell_type": "markdown",
   "metadata": {},
   "source": [
    "14. num_procedures: Number of procedures(other than lab tests) performed during the encounter "
   ]
  },
  {
   "cell_type": "code",
   "execution_count": 39,
   "metadata": {},
   "outputs": [
    {
     "data": {
      "text/plain": [
       "0    46083\n",
       "1    20438\n",
       "2    12455\n",
       "3     9245\n",
       "6     4809\n",
       "4     4067\n",
       "5     2997\n",
       "Name: num_procedures, dtype: int64"
      ]
     },
     "execution_count": 39,
     "metadata": {},
     "output_type": "execute_result"
    }
   ],
   "source": [
    "diabetes.num_procedures.value_counts()"
   ]
  },
  {
   "cell_type": "markdown",
   "metadata": {},
   "source": [
    "No of procedures range from 0 to 5\n",
    "\n",
    "15. num_medications: Number of distinct generic names administered during the encounter"
   ]
  },
  {
   "cell_type": "code",
   "execution_count": 40,
   "metadata": {},
   "outputs": [
    {
     "name": "stdout",
     "output_type": "stream",
     "text": [
      "The number of medications range from a minimum of 1 to maximum of 81\n"
     ]
    }
   ],
   "source": [
    "print('The number of medications range from a minimum of',diabetes.num_medications.min(),'to maximum of',diabetes.num_medications.max())"
   ]
  },
  {
   "cell_type": "markdown",
   "metadata": {},
   "source": [
    "16. number_outpatient: Number of outpatient visits of the patient in the year preceding the encounter \n",
    "\n",
    "17. number_emergency : Number of emergency visits of the patient in the year preceding the encounter\n",
    "\n",
    "18. number_inpatient: Number of inpatient visits of the patient in the year preceding the encounter \n",
    "\n",
    "The above three measures depict the utilization of hospital/clinic services of the current patient in the past years, so we combined these features into a new variable called preceding_year_visits."
   ]
  },
  {
   "cell_type": "code",
   "execution_count": 41,
   "metadata": {},
   "outputs": [],
   "source": [
    "diabetes['preceding_year_visits'] = diabetes['number_outpatient'] + diabetes['number_emergency'] + diabetes['number_inpatient']"
   ]
  },
  {
   "cell_type": "code",
   "execution_count": 42,
   "metadata": {},
   "outputs": [],
   "source": [
    "diabetes.drop(['number_outpatient','number_emergency','number_inpatient'],axis=1,inplace=True)"
   ]
  },
  {
   "cell_type": "markdown",
   "metadata": {},
   "source": [
    "We noticed that for two variables (drugs named citoglipton and examide), all records have the same value. So essentially these cannot provide any interpretive for predicting readmission, so we dropped these columns."
   ]
  },
  {
   "cell_type": "code",
   "execution_count": 43,
   "metadata": {},
   "outputs": [],
   "source": [
    "diabetes.drop(['citoglipton', 'examide'], axis = 1,inplace=True)"
   ]
  },
  {
   "cell_type": "markdown",
   "metadata": {},
   "source": [
    "#### Outcome variable\n",
    "\n",
    "The outcome we are looking at is whether the patient gets readmitted to the hospital within 30 days or not."
   ]
  },
  {
   "cell_type": "code",
   "execution_count": 44,
   "metadata": {},
   "outputs": [
    {
     "data": {
      "text/plain": [
       "NO     53199\n",
       ">30    35539\n",
       "<30    11356\n",
       "Name: readmitted, dtype: int64"
      ]
     },
     "execution_count": 44,
     "metadata": {},
     "output_type": "execute_result"
    }
   ],
   "source": [
    "diabetes.readmitted.value_counts()"
   ]
  },
  {
   "cell_type": "markdown",
   "metadata": {},
   "source": [
    "The outcome actually has < 30, > 30 and No Readmission categories.So wrt our problem we will convert this into 2 categories i.e No readmission or readmission with in 30 days"
   ]
  },
  {
   "cell_type": "code",
   "execution_count": 45,
   "metadata": {},
   "outputs": [],
   "source": [
    "diabetes['readmitted'] = diabetes['readmitted'].replace('>30', 'NO')"
   ]
  },
  {
   "cell_type": "code",
   "execution_count": 46,
   "metadata": {},
   "outputs": [
    {
     "data": {
      "text/plain": [
       "NO     88738\n",
       "<30    11356\n",
       "Name: readmitted, dtype: int64"
      ]
     },
     "execution_count": 46,
     "metadata": {},
     "output_type": "execute_result"
    }
   ],
   "source": [
    "diabetes.readmitted.value_counts()"
   ]
  },
  {
   "cell_type": "code",
   "execution_count": 47,
   "metadata": {},
   "outputs": [
    {
     "data": {
      "text/html": [
       "<div>\n",
       "<style scoped>\n",
       "    .dataframe tbody tr th:only-of-type {\n",
       "        vertical-align: middle;\n",
       "    }\n",
       "\n",
       "    .dataframe tbody tr th {\n",
       "        vertical-align: top;\n",
       "    }\n",
       "\n",
       "    .dataframe thead th {\n",
       "        text-align: right;\n",
       "    }\n",
       "</style>\n",
       "<table border=\"1\" class=\"dataframe\">\n",
       "  <thead>\n",
       "    <tr style=\"text-align: right;\">\n",
       "      <th></th>\n",
       "      <th>race</th>\n",
       "      <th>gender</th>\n",
       "      <th>age</th>\n",
       "      <th>admission_type_id</th>\n",
       "      <th>discharge_disposition_id</th>\n",
       "      <th>admission_source_id</th>\n",
       "      <th>time_in_hospital</th>\n",
       "      <th>medical_specialty</th>\n",
       "      <th>num_lab_procedures</th>\n",
       "      <th>num_procedures</th>\n",
       "      <th>...</th>\n",
       "      <th>insulin</th>\n",
       "      <th>glyburide-metformin</th>\n",
       "      <th>glipizide-metformin</th>\n",
       "      <th>glimepiride-pioglitazone</th>\n",
       "      <th>metformin-rosiglitazone</th>\n",
       "      <th>metformin-pioglitazone</th>\n",
       "      <th>change</th>\n",
       "      <th>diabetesMed</th>\n",
       "      <th>readmitted</th>\n",
       "      <th>preceding_year_visits</th>\n",
       "    </tr>\n",
       "  </thead>\n",
       "  <tbody>\n",
       "    <tr>\n",
       "      <th>0</th>\n",
       "      <td>Caucasian</td>\n",
       "      <td>Female</td>\n",
       "      <td>[0-10)</td>\n",
       "      <td>Not Available</td>\n",
       "      <td>Not Available</td>\n",
       "      <td>Referral</td>\n",
       "      <td>1</td>\n",
       "      <td>Pediatrics-Endocrinology</td>\n",
       "      <td>41</td>\n",
       "      <td>0</td>\n",
       "      <td>...</td>\n",
       "      <td>No</td>\n",
       "      <td>No</td>\n",
       "      <td>No</td>\n",
       "      <td>No</td>\n",
       "      <td>No</td>\n",
       "      <td>No</td>\n",
       "      <td>No</td>\n",
       "      <td>No</td>\n",
       "      <td>NO</td>\n",
       "      <td>0</td>\n",
       "    </tr>\n",
       "    <tr>\n",
       "      <th>1</th>\n",
       "      <td>Caucasian</td>\n",
       "      <td>Female</td>\n",
       "      <td>[10-20)</td>\n",
       "      <td>Emergency</td>\n",
       "      <td>Discharged to home</td>\n",
       "      <td>Emergency</td>\n",
       "      <td>3</td>\n",
       "      <td>NaN</td>\n",
       "      <td>59</td>\n",
       "      <td>0</td>\n",
       "      <td>...</td>\n",
       "      <td>Up</td>\n",
       "      <td>No</td>\n",
       "      <td>No</td>\n",
       "      <td>No</td>\n",
       "      <td>No</td>\n",
       "      <td>No</td>\n",
       "      <td>Ch</td>\n",
       "      <td>Yes</td>\n",
       "      <td>NO</td>\n",
       "      <td>0</td>\n",
       "    </tr>\n",
       "    <tr>\n",
       "      <th>2</th>\n",
       "      <td>AfricanAmerican</td>\n",
       "      <td>Female</td>\n",
       "      <td>[20-30)</td>\n",
       "      <td>Emergency</td>\n",
       "      <td>Discharged to home</td>\n",
       "      <td>Emergency</td>\n",
       "      <td>2</td>\n",
       "      <td>NaN</td>\n",
       "      <td>11</td>\n",
       "      <td>5</td>\n",
       "      <td>...</td>\n",
       "      <td>No</td>\n",
       "      <td>No</td>\n",
       "      <td>No</td>\n",
       "      <td>No</td>\n",
       "      <td>No</td>\n",
       "      <td>No</td>\n",
       "      <td>No</td>\n",
       "      <td>Yes</td>\n",
       "      <td>NO</td>\n",
       "      <td>3</td>\n",
       "    </tr>\n",
       "    <tr>\n",
       "      <th>3</th>\n",
       "      <td>Caucasian</td>\n",
       "      <td>Male</td>\n",
       "      <td>[30-40)</td>\n",
       "      <td>Emergency</td>\n",
       "      <td>Discharged to home</td>\n",
       "      <td>Emergency</td>\n",
       "      <td>2</td>\n",
       "      <td>NaN</td>\n",
       "      <td>44</td>\n",
       "      <td>1</td>\n",
       "      <td>...</td>\n",
       "      <td>Up</td>\n",
       "      <td>No</td>\n",
       "      <td>No</td>\n",
       "      <td>No</td>\n",
       "      <td>No</td>\n",
       "      <td>No</td>\n",
       "      <td>Ch</td>\n",
       "      <td>Yes</td>\n",
       "      <td>NO</td>\n",
       "      <td>0</td>\n",
       "    </tr>\n",
       "    <tr>\n",
       "      <th>4</th>\n",
       "      <td>Caucasian</td>\n",
       "      <td>Male</td>\n",
       "      <td>[40-50)</td>\n",
       "      <td>Emergency</td>\n",
       "      <td>Discharged to home</td>\n",
       "      <td>Emergency</td>\n",
       "      <td>1</td>\n",
       "      <td>NaN</td>\n",
       "      <td>51</td>\n",
       "      <td>0</td>\n",
       "      <td>...</td>\n",
       "      <td>Steady</td>\n",
       "      <td>No</td>\n",
       "      <td>No</td>\n",
       "      <td>No</td>\n",
       "      <td>No</td>\n",
       "      <td>No</td>\n",
       "      <td>Ch</td>\n",
       "      <td>Yes</td>\n",
       "      <td>NO</td>\n",
       "      <td>0</td>\n",
       "    </tr>\n",
       "  </tbody>\n",
       "</table>\n",
       "<p>5 rows × 42 columns</p>\n",
       "</div>"
      ],
      "text/plain": [
       "              race  gender      age admission_type_id  \\\n",
       "0        Caucasian  Female   [0-10)     Not Available   \n",
       "1        Caucasian  Female  [10-20)         Emergency   \n",
       "2  AfricanAmerican  Female  [20-30)         Emergency   \n",
       "3        Caucasian    Male  [30-40)         Emergency   \n",
       "4        Caucasian    Male  [40-50)         Emergency   \n",
       "\n",
       "  discharge_disposition_id admission_source_id  time_in_hospital  \\\n",
       "0            Not Available            Referral                 1   \n",
       "1       Discharged to home           Emergency                 3   \n",
       "2       Discharged to home           Emergency                 2   \n",
       "3       Discharged to home           Emergency                 2   \n",
       "4       Discharged to home           Emergency                 1   \n",
       "\n",
       "          medical_specialty  num_lab_procedures  num_procedures  ...  insulin  \\\n",
       "0  Pediatrics-Endocrinology                  41               0  ...       No   \n",
       "1                       NaN                  59               0  ...       Up   \n",
       "2                       NaN                  11               5  ...       No   \n",
       "3                       NaN                  44               1  ...       Up   \n",
       "4                       NaN                  51               0  ...   Steady   \n",
       "\n",
       "  glyburide-metformin glipizide-metformin glimepiride-pioglitazone  \\\n",
       "0                  No                  No                       No   \n",
       "1                  No                  No                       No   \n",
       "2                  No                  No                       No   \n",
       "3                  No                  No                       No   \n",
       "4                  No                  No                       No   \n",
       "\n",
       "   metformin-rosiglitazone metformin-pioglitazone change diabetesMed  \\\n",
       "0                       No                     No     No          No   \n",
       "1                       No                     No     Ch         Yes   \n",
       "2                       No                     No     No         Yes   \n",
       "3                       No                     No     Ch         Yes   \n",
       "4                       No                     No     Ch         Yes   \n",
       "\n",
       "  readmitted preceding_year_visits  \n",
       "0         NO                     0  \n",
       "1         NO                     0  \n",
       "2         NO                     3  \n",
       "3         NO                     0  \n",
       "4         NO                     0  \n",
       "\n",
       "[5 rows x 42 columns]"
      ]
     },
     "execution_count": 47,
     "metadata": {},
     "output_type": "execute_result"
    }
   ],
   "source": [
    "diabetes.head()"
   ]
  },
  {
   "cell_type": "code",
   "execution_count": 48,
   "metadata": {},
   "outputs": [
    {
     "data": {
      "text/plain": [
       "(100094, 42)"
      ]
     },
     "execution_count": 48,
     "metadata": {},
     "output_type": "execute_result"
    }
   ],
   "source": [
    "diabetes.shape"
   ]
  },
  {
   "cell_type": "code",
   "execution_count": 49,
   "metadata": {},
   "outputs": [],
   "source": [
    "df = diabetes.reset_index(drop = True )"
   ]
  },
  {
   "cell_type": "code",
   "execution_count": 50,
   "metadata": {},
   "outputs": [],
   "source": [
    "diag_cols = ['diag_1','diag_2','diag_3']"
   ]
  },
  {
   "cell_type": "code",
   "execution_count": 51,
   "metadata": {},
   "outputs": [
    {
     "data": {
      "text/plain": [
       "(69, 86)"
      ]
     },
     "execution_count": 51,
     "metadata": {},
     "output_type": "execute_result"
    }
   ],
   "source": [
    "ord('E'), ord('V')"
   ]
  },
  {
   "cell_type": "code",
   "execution_count": 52,
   "metadata": {},
   "outputs": [
    {
     "data": {
      "text/plain": [
       "428       6735\n",
       "414       6552\n",
       "786       4015\n",
       "410       3477\n",
       "486       3413\n",
       "          ... \n",
       "974          1\n",
       "V60          1\n",
       "885          1\n",
       "250.51       1\n",
       "523          1\n",
       "Name: diag_1, Length: 715, dtype: int64"
      ]
     },
     "execution_count": 52,
     "metadata": {},
     "output_type": "execute_result"
    }
   ],
   "source": [
    "df['diag_1'].value_counts()"
   ]
  },
  {
   "cell_type": "code",
   "execution_count": null,
   "metadata": {},
   "outputs": [],
   "source": [
    "for i in diag_cols:\n",
    "    for j in range(len(df[i])):\n",
    "        if str(df.loc[j, i])[:3] == '250':\n",
    "            df.loc[j, i] = 'Diabetes'\n",
    "        elif ord(str(df.loc[j, i])[0]) in range(69, 87):\n",
    "            df.loc[j, i] = 'External causes of injury'\n",
    "        elif df.loc[j, i] == '?':\n",
    "            df.loc[j, i] = 'Missing'\n",
    "        else:\n",
    "            x = float(df.loc[j, i])\n",
    "            if x in range(390, 460) or x == 785:\n",
    "                df.loc[j, i] = 'Circulatory'\n",
    "            elif x in range(460, 520) or x == 786:\n",
    "                df.loc[j, i] = 'Respiratory'\n",
    "            elif x in range(520, 580) or x == 787:\n",
    "                df.loc[j, i] = 'Digestive'\n",
    "            elif x in range(800, 1000):\n",
    "                df.loc[j, i] = 'Injury and Poisoning'\n",
    "            elif x in range(710, 740):\n",
    "                df.loc[j, i] = 'Musculoskeletal System and Connective Tissue'\n",
    "            elif x in range(580, 630) or x == 788:\n",
    "                df.loc[j, i] = 'Genitourinary'\n",
    "            elif x in range(140, 230):\n",
    "                df.loc[j, i] = 'Neoplasms'\n",
    "            elif x in [780, 781, 784] or x in range(790, 800):\n",
    "                df.loc[j, i] = 'Other Symptoms'\n",
    "            elif x in range(240, 280):\n",
    "                df.loc[j, i] = 'Endocrine, Nutritional, Metabolic, Immunity'\n",
    "            elif x in range(680, 710) or x == 782:\n",
    "                df.loc[j, i] = 'Skin and Subcutaneous Tissue'\n",
    "            elif x in range(1, 140):\n",
    "                df.loc[j, i] = 'Infectious and Parasitic'\n",
    "            elif x in range(290, 320):\n",
    "                df.loc[j, i] = 'Mental Disorders'\n",
    "            elif x in range(280, 290):\n",
    "                df.loc[j, i] = 'Blood and Blood-Forming Organs'\n",
    "            elif x in range(320, 360):\n",
    "                df.loc[j, i] = 'Nervous'\n",
    "            elif x in range(630, 680):\n",
    "                df.loc[j, i] = 'Pregnancy, Childbirth'\n",
    "            elif x in range(360, 390):\n",
    "                df.loc[j, i] = 'Sense Organs'\n",
    "            else:\n",
    "                df.loc[j, i] = 'Congenital Anomalies'"
   ]
  },
  {
   "cell_type": "code",
   "execution_count": 54,
   "metadata": {},
   "outputs": [
    {
     "data": {
      "text/plain": [
       "Circulatory                                     29874\n",
       "Respiratory                                     14072\n",
       "Digestive                                        9379\n",
       "Diabetes                                         8692\n",
       "Injury and Poisoning                             6878\n",
       "Genitourinary                                    5054\n",
       "Musculoskeletal System and Connective Tissue     4941\n",
       "Neoplasms                                        3134\n",
       "Endocrine, Nutritional, Metabolic, Immunity      2667\n",
       "Skin and Subcutaneous Tissue                     2597\n",
       "Infectious and Parasitic                         2585\n",
       "Other Symptoms                                   2526\n",
       "Mental Disorders                                 2259\n",
       "External causes of injury                        1638\n",
       "Blood and Blood-Forming Organs                   1095\n",
       "Nervous                                           928\n",
       "Congenital Anomalies                              804\n",
       "Pregnancy, Childbirth                             686\n",
       "Sense Organs                                      264\n",
       "Missing                                            21\n",
       "Name: diag_1, dtype: int64"
      ]
     },
     "execution_count": 54,
     "metadata": {},
     "output_type": "execute_result"
    }
   ],
   "source": [
    "df['diag_1'].value_counts()"
   ]
  },
  {
   "cell_type": "code",
   "execution_count": 55,
   "metadata": {},
   "outputs": [
    {
     "data": {
      "text/plain": [
       "Circulatory                                     31363\n",
       "Diabetes                                        12720\n",
       "Respiratory                                     10504\n",
       "Genitourinary                                    8232\n",
       "Endocrine, Nutritional, Metabolic, Immunity      8113\n",
       "Digestive                                        4114\n",
       "Skin and Subcutaneous Tissue                     3639\n",
       "Blood and Blood-Forming Organs                   2889\n",
       "Mental Disorders                                 2648\n",
       "External causes of injury                        2523\n",
       "Neoplasms                                        2418\n",
       "Other Symptoms                                   2395\n",
       "Injury and Poisoning                             2389\n",
       "Infectious and Parasitic                         1868\n",
       "Musculoskeletal System and Connective Tissue     1762\n",
       "Nervous                                          1085\n",
       "Congenital Anomalies                              500\n",
       "Pregnancy, Childbirth                             414\n",
       "Missing                                           358\n",
       "Sense Organs                                      160\n",
       "Name: diag_2, dtype: int64"
      ]
     },
     "execution_count": 55,
     "metadata": {},
     "output_type": "execute_result"
    }
   ],
   "source": [
    "df['diag_2'].value_counts()"
   ]
  },
  {
   "cell_type": "code",
   "execution_count": 56,
   "metadata": {},
   "outputs": [
    {
     "data": {
      "text/plain": [
       "Circulatory                                     29782\n",
       "Diabetes                                        17021\n",
       "Endocrine, Nutritional, Metabolic, Immunity      8974\n",
       "Respiratory                                      7096\n",
       "Genitourinary                                    6519\n",
       "External causes of injury                        5033\n",
       "Digestive                                        3885\n",
       "Mental Disorders                                 3116\n",
       "Skin and Subcutaneous Tissue                     2570\n",
       "Blood and Blood-Forming Organs                   2462\n",
       "Other Symptoms                                   2345\n",
       "Injury and Poisoning                             1904\n",
       "Musculoskeletal System and Connective Tissue     1903\n",
       "Infectious and Parasitic                         1825\n",
       "Neoplasms                                        1719\n",
       "Nervous                                          1460\n",
       "Missing                                          1421\n",
       "Congenital Anomalies                              489\n",
       "Pregnancy, Childbirth                             308\n",
       "Sense Organs                                      262\n",
       "Name: diag_3, dtype: int64"
      ]
     },
     "execution_count": 56,
     "metadata": {},
     "output_type": "execute_result"
    }
   ],
   "source": [
    "df['diag_3'].value_counts()"
   ]
  },
  {
   "cell_type": "code",
   "execution_count": 57,
   "metadata": {},
   "outputs": [],
   "source": [
    "df = df[['race', 'gender', 'age', 'admission_type_id',\n",
    "       'discharge_disposition_id', 'admission_source_id', 'time_in_hospital',\n",
    "       'medical_specialty', 'num_lab_procedures', 'num_procedures',\n",
    "       'num_medications', 'preceding_year_visits', 'diag_1', 'diag_2', 'diag_3', 'number_diagnoses',\n",
    "       'max_glu_serum', 'A1Cresult', 'metformin', 'repaglinide', 'nateglinide',\n",
    "       'chlorpropamide', 'glimepiride', 'acetohexamide', 'glipizide',\n",
    "       'glyburide', 'tolbutamide', 'pioglitazone', 'rosiglitazone', 'acarbose',\n",
    "       'miglitol', 'troglitazone', 'tolazamide', 'insulin',\n",
    "       'glyburide-metformin', 'glipizide-metformin',\n",
    "       'glimepiride-pioglitazone', 'metformin-rosiglitazone',\n",
    "       'metformin-pioglitazone', 'change', 'diabetesMed', 'readmitted']]"
   ]
  },
  {
   "cell_type": "code",
   "execution_count": 58,
   "metadata": {},
   "outputs": [
    {
     "data": {
      "text/html": [
       "<div>\n",
       "<style scoped>\n",
       "    .dataframe tbody tr th:only-of-type {\n",
       "        vertical-align: middle;\n",
       "    }\n",
       "\n",
       "    .dataframe tbody tr th {\n",
       "        vertical-align: top;\n",
       "    }\n",
       "\n",
       "    .dataframe thead th {\n",
       "        text-align: right;\n",
       "    }\n",
       "</style>\n",
       "<table border=\"1\" class=\"dataframe\">\n",
       "  <thead>\n",
       "    <tr style=\"text-align: right;\">\n",
       "      <th></th>\n",
       "      <th>diag_1</th>\n",
       "      <th>diag_2</th>\n",
       "      <th>diag_3</th>\n",
       "    </tr>\n",
       "  </thead>\n",
       "  <tbody>\n",
       "    <tr>\n",
       "      <td>Blood and Blood-Forming Organs</td>\n",
       "      <td>1095</td>\n",
       "      <td>2889</td>\n",
       "      <td>2462</td>\n",
       "    </tr>\n",
       "    <tr>\n",
       "      <td>Circulatory</td>\n",
       "      <td>29874</td>\n",
       "      <td>31363</td>\n",
       "      <td>29782</td>\n",
       "    </tr>\n",
       "    <tr>\n",
       "      <td>Congenital Anomalies</td>\n",
       "      <td>804</td>\n",
       "      <td>500</td>\n",
       "      <td>489</td>\n",
       "    </tr>\n",
       "    <tr>\n",
       "      <td>Diabetes</td>\n",
       "      <td>8692</td>\n",
       "      <td>12720</td>\n",
       "      <td>17021</td>\n",
       "    </tr>\n",
       "    <tr>\n",
       "      <td>Digestive</td>\n",
       "      <td>9379</td>\n",
       "      <td>4114</td>\n",
       "      <td>3885</td>\n",
       "    </tr>\n",
       "    <tr>\n",
       "      <td>Endocrine, Nutritional, Metabolic, Immunity</td>\n",
       "      <td>2667</td>\n",
       "      <td>8113</td>\n",
       "      <td>8974</td>\n",
       "    </tr>\n",
       "    <tr>\n",
       "      <td>External causes of injury</td>\n",
       "      <td>1638</td>\n",
       "      <td>2523</td>\n",
       "      <td>5033</td>\n",
       "    </tr>\n",
       "    <tr>\n",
       "      <td>Genitourinary</td>\n",
       "      <td>5054</td>\n",
       "      <td>8232</td>\n",
       "      <td>6519</td>\n",
       "    </tr>\n",
       "    <tr>\n",
       "      <td>Infectious and Parasitic</td>\n",
       "      <td>2585</td>\n",
       "      <td>1868</td>\n",
       "      <td>1825</td>\n",
       "    </tr>\n",
       "    <tr>\n",
       "      <td>Injury and Poisoning</td>\n",
       "      <td>6878</td>\n",
       "      <td>2389</td>\n",
       "      <td>1904</td>\n",
       "    </tr>\n",
       "    <tr>\n",
       "      <td>Mental Disorders</td>\n",
       "      <td>2259</td>\n",
       "      <td>2648</td>\n",
       "      <td>3116</td>\n",
       "    </tr>\n",
       "    <tr>\n",
       "      <td>Missing</td>\n",
       "      <td>21</td>\n",
       "      <td>358</td>\n",
       "      <td>1421</td>\n",
       "    </tr>\n",
       "    <tr>\n",
       "      <td>Musculoskeletal System and Connective Tissue</td>\n",
       "      <td>4941</td>\n",
       "      <td>1762</td>\n",
       "      <td>1903</td>\n",
       "    </tr>\n",
       "    <tr>\n",
       "      <td>Neoplasms</td>\n",
       "      <td>3134</td>\n",
       "      <td>2418</td>\n",
       "      <td>1719</td>\n",
       "    </tr>\n",
       "    <tr>\n",
       "      <td>Nervous</td>\n",
       "      <td>928</td>\n",
       "      <td>1085</td>\n",
       "      <td>1460</td>\n",
       "    </tr>\n",
       "    <tr>\n",
       "      <td>Other Symptoms</td>\n",
       "      <td>2526</td>\n",
       "      <td>2395</td>\n",
       "      <td>2345</td>\n",
       "    </tr>\n",
       "    <tr>\n",
       "      <td>Pregnancy, Childbirth</td>\n",
       "      <td>686</td>\n",
       "      <td>414</td>\n",
       "      <td>308</td>\n",
       "    </tr>\n",
       "    <tr>\n",
       "      <td>Respiratory</td>\n",
       "      <td>14072</td>\n",
       "      <td>10504</td>\n",
       "      <td>7096</td>\n",
       "    </tr>\n",
       "    <tr>\n",
       "      <td>Sense Organs</td>\n",
       "      <td>264</td>\n",
       "      <td>160</td>\n",
       "      <td>262</td>\n",
       "    </tr>\n",
       "    <tr>\n",
       "      <td>Skin and Subcutaneous Tissue</td>\n",
       "      <td>2597</td>\n",
       "      <td>3639</td>\n",
       "      <td>2570</td>\n",
       "    </tr>\n",
       "  </tbody>\n",
       "</table>\n",
       "</div>"
      ],
      "text/plain": [
       "                                              diag_1  diag_2  diag_3\n",
       "Blood and Blood-Forming Organs                  1095    2889    2462\n",
       "Circulatory                                    29874   31363   29782\n",
       "Congenital Anomalies                             804     500     489\n",
       "Diabetes                                        8692   12720   17021\n",
       "Digestive                                       9379    4114    3885\n",
       "Endocrine, Nutritional, Metabolic, Immunity     2667    8113    8974\n",
       "External causes of injury                       1638    2523    5033\n",
       "Genitourinary                                   5054    8232    6519\n",
       "Infectious and Parasitic                        2585    1868    1825\n",
       "Injury and Poisoning                            6878    2389    1904\n",
       "Mental Disorders                                2259    2648    3116\n",
       "Missing                                           21     358    1421\n",
       "Musculoskeletal System and Connective Tissue    4941    1762    1903\n",
       "Neoplasms                                       3134    2418    1719\n",
       "Nervous                                          928    1085    1460\n",
       "Other Symptoms                                  2526    2395    2345\n",
       "Pregnancy, Childbirth                            686     414     308\n",
       "Respiratory                                    14072   10504    7096\n",
       "Sense Organs                                     264     160     262\n",
       "Skin and Subcutaneous Tissue                    2597    3639    2570"
      ]
     },
     "execution_count": 58,
     "metadata": {},
     "output_type": "execute_result"
    }
   ],
   "source": [
    "df1 = pd.DataFrame(df['diag_1'].value_counts())\n",
    "df2 = df1.merge(pd.DataFrame(df['diag_2'].value_counts()), how = 'outer', left_index = True, right_index = True)\n",
    "df2.merge(pd.DataFrame(df['diag_3'].value_counts()), how = 'outer', left_index = True, right_index = True)"
   ]
  },
  {
   "cell_type": "code",
   "execution_count": 59,
   "metadata": {},
   "outputs": [],
   "source": [
    "for i in range(len(df['diag_2'])):\n",
    "    if df.loc[i, 'diag_2'] == 'Missing':\n",
    "        if df.loc[i, 'diag_1'] != 'Missing':\n",
    "            df.loc[i, 'diag_2'] = 'Not Required'"
   ]
  },
  {
   "cell_type": "code",
   "execution_count": 60,
   "metadata": {},
   "outputs": [],
   "source": [
    "for i in range(len(df['diag_3'])):\n",
    "    if df.loc[i, 'diag_3'] == 'Missing':\n",
    "        if df.loc[i, 'diag_2'] == 'Not Required' or df.loc[i, 'diag_2'] != 'Missing':\n",
    "            df.loc[i, 'diag_3'] = 'Not Required'"
   ]
  },
  {
   "cell_type": "code",
   "execution_count": 61,
   "metadata": {},
   "outputs": [
    {
     "data": {
      "text/html": [
       "<div>\n",
       "<style scoped>\n",
       "    .dataframe tbody tr th:only-of-type {\n",
       "        vertical-align: middle;\n",
       "    }\n",
       "\n",
       "    .dataframe tbody tr th {\n",
       "        vertical-align: top;\n",
       "    }\n",
       "\n",
       "    .dataframe thead th {\n",
       "        text-align: right;\n",
       "    }\n",
       "</style>\n",
       "<table border=\"1\" class=\"dataframe\">\n",
       "  <thead>\n",
       "    <tr style=\"text-align: right;\">\n",
       "      <th></th>\n",
       "      <th>race</th>\n",
       "      <th>gender</th>\n",
       "      <th>age</th>\n",
       "      <th>admission_type_id</th>\n",
       "      <th>discharge_disposition_id</th>\n",
       "      <th>admission_source_id</th>\n",
       "      <th>time_in_hospital</th>\n",
       "      <th>medical_specialty</th>\n",
       "      <th>num_lab_procedures</th>\n",
       "      <th>num_procedures</th>\n",
       "      <th>...</th>\n",
       "      <th>tolazamide</th>\n",
       "      <th>insulin</th>\n",
       "      <th>glyburide-metformin</th>\n",
       "      <th>glipizide-metformin</th>\n",
       "      <th>glimepiride-pioglitazone</th>\n",
       "      <th>metformin-rosiglitazone</th>\n",
       "      <th>metformin-pioglitazone</th>\n",
       "      <th>change</th>\n",
       "      <th>diabetesMed</th>\n",
       "      <th>readmitted</th>\n",
       "    </tr>\n",
       "  </thead>\n",
       "  <tbody>\n",
       "    <tr>\n",
       "      <td>85717</td>\n",
       "      <td>Asian</td>\n",
       "      <td>Male</td>\n",
       "      <td>[60-70)</td>\n",
       "      <td>Emergency</td>\n",
       "      <td>Hospice</td>\n",
       "      <td>Transferred from another health care facility</td>\n",
       "      <td>7</td>\n",
       "      <td>InternalMedicine</td>\n",
       "      <td>1</td>\n",
       "      <td>2</td>\n",
       "      <td>...</td>\n",
       "      <td>No</td>\n",
       "      <td>No</td>\n",
       "      <td>No</td>\n",
       "      <td>No</td>\n",
       "      <td>No</td>\n",
       "      <td>No</td>\n",
       "      <td>No</td>\n",
       "      <td>No</td>\n",
       "      <td>No</td>\n",
       "      <td>NO</td>\n",
       "    </tr>\n",
       "  </tbody>\n",
       "</table>\n",
       "<p>1 rows × 42 columns</p>\n",
       "</div>"
      ],
      "text/plain": [
       "        race gender      age admission_type_id discharge_disposition_id  \\\n",
       "85717  Asian   Male  [60-70)         Emergency                  Hospice   \n",
       "\n",
       "                                 admission_source_id  time_in_hospital  \\\n",
       "85717  Transferred from another health care facility                 7   \n",
       "\n",
       "      medical_specialty  num_lab_procedures  num_procedures  ...  tolazamide  \\\n",
       "85717  InternalMedicine                   1               2  ...          No   \n",
       "\n",
       "       insulin glyburide-metformin glipizide-metformin  \\\n",
       "85717       No                  No                  No   \n",
       "\n",
       "      glimepiride-pioglitazone  metformin-rosiglitazone  \\\n",
       "85717                       No                       No   \n",
       "\n",
       "      metformin-pioglitazone change diabetesMed readmitted  \n",
       "85717                     No     No          No         NO  \n",
       "\n",
       "[1 rows x 42 columns]"
      ]
     },
     "execution_count": 61,
     "metadata": {},
     "output_type": "execute_result"
    }
   ],
   "source": [
    "df[df['diag_2'] == 'Missing']"
   ]
  },
  {
   "cell_type": "code",
   "execution_count": 62,
   "metadata": {},
   "outputs": [
    {
     "data": {
      "text/plain": [
       "(100093, 42)"
      ]
     },
     "execution_count": 62,
     "metadata": {},
     "output_type": "execute_result"
    }
   ],
   "source": [
    "df.drop(85717, inplace = True)\n",
    "df.shape"
   ]
  },
  {
   "cell_type": "code",
   "execution_count": 63,
   "metadata": {},
   "outputs": [
    {
     "data": {
      "text/html": [
       "<div>\n",
       "<style scoped>\n",
       "    .dataframe tbody tr th:only-of-type {\n",
       "        vertical-align: middle;\n",
       "    }\n",
       "\n",
       "    .dataframe tbody tr th {\n",
       "        vertical-align: top;\n",
       "    }\n",
       "\n",
       "    .dataframe thead th {\n",
       "        text-align: right;\n",
       "    }\n",
       "</style>\n",
       "<table border=\"1\" class=\"dataframe\">\n",
       "  <thead>\n",
       "    <tr style=\"text-align: right;\">\n",
       "      <th></th>\n",
       "      <th>diag_1</th>\n",
       "      <th>diag_2</th>\n",
       "      <th>diag_3</th>\n",
       "    </tr>\n",
       "  </thead>\n",
       "  <tbody>\n",
       "    <tr>\n",
       "      <td>Blood and Blood-Forming Organs</td>\n",
       "      <td>1095.0</td>\n",
       "      <td>2889.0</td>\n",
       "      <td>2462.0</td>\n",
       "    </tr>\n",
       "    <tr>\n",
       "      <td>Circulatory</td>\n",
       "      <td>29874.0</td>\n",
       "      <td>31363.0</td>\n",
       "      <td>29782.0</td>\n",
       "    </tr>\n",
       "    <tr>\n",
       "      <td>Congenital Anomalies</td>\n",
       "      <td>804.0</td>\n",
       "      <td>500.0</td>\n",
       "      <td>489.0</td>\n",
       "    </tr>\n",
       "    <tr>\n",
       "      <td>Diabetes</td>\n",
       "      <td>8692.0</td>\n",
       "      <td>12720.0</td>\n",
       "      <td>17021.0</td>\n",
       "    </tr>\n",
       "    <tr>\n",
       "      <td>Digestive</td>\n",
       "      <td>9379.0</td>\n",
       "      <td>4114.0</td>\n",
       "      <td>3885.0</td>\n",
       "    </tr>\n",
       "    <tr>\n",
       "      <td>Endocrine, Nutritional, Metabolic, Immunity</td>\n",
       "      <td>2667.0</td>\n",
       "      <td>8113.0</td>\n",
       "      <td>8974.0</td>\n",
       "    </tr>\n",
       "    <tr>\n",
       "      <td>External causes of injury</td>\n",
       "      <td>1638.0</td>\n",
       "      <td>2523.0</td>\n",
       "      <td>5033.0</td>\n",
       "    </tr>\n",
       "    <tr>\n",
       "      <td>Genitourinary</td>\n",
       "      <td>5054.0</td>\n",
       "      <td>8232.0</td>\n",
       "      <td>6519.0</td>\n",
       "    </tr>\n",
       "    <tr>\n",
       "      <td>Infectious and Parasitic</td>\n",
       "      <td>2585.0</td>\n",
       "      <td>1868.0</td>\n",
       "      <td>1825.0</td>\n",
       "    </tr>\n",
       "    <tr>\n",
       "      <td>Injury and Poisoning</td>\n",
       "      <td>6878.0</td>\n",
       "      <td>2389.0</td>\n",
       "      <td>1904.0</td>\n",
       "    </tr>\n",
       "    <tr>\n",
       "      <td>Mental Disorders</td>\n",
       "      <td>2259.0</td>\n",
       "      <td>2648.0</td>\n",
       "      <td>3116.0</td>\n",
       "    </tr>\n",
       "    <tr>\n",
       "      <td>Missing</td>\n",
       "      <td>20.0</td>\n",
       "      <td>NaN</td>\n",
       "      <td>NaN</td>\n",
       "    </tr>\n",
       "    <tr>\n",
       "      <td>Musculoskeletal System and Connective Tissue</td>\n",
       "      <td>4941.0</td>\n",
       "      <td>1762.0</td>\n",
       "      <td>1903.0</td>\n",
       "    </tr>\n",
       "    <tr>\n",
       "      <td>Neoplasms</td>\n",
       "      <td>3134.0</td>\n",
       "      <td>2418.0</td>\n",
       "      <td>1719.0</td>\n",
       "    </tr>\n",
       "    <tr>\n",
       "      <td>Nervous</td>\n",
       "      <td>928.0</td>\n",
       "      <td>1085.0</td>\n",
       "      <td>1460.0</td>\n",
       "    </tr>\n",
       "    <tr>\n",
       "      <td>Not Required</td>\n",
       "      <td>NaN</td>\n",
       "      <td>357.0</td>\n",
       "      <td>1420.0</td>\n",
       "    </tr>\n",
       "    <tr>\n",
       "      <td>Other Symptoms</td>\n",
       "      <td>2526.0</td>\n",
       "      <td>2395.0</td>\n",
       "      <td>2345.0</td>\n",
       "    </tr>\n",
       "    <tr>\n",
       "      <td>Pregnancy, Childbirth</td>\n",
       "      <td>686.0</td>\n",
       "      <td>414.0</td>\n",
       "      <td>308.0</td>\n",
       "    </tr>\n",
       "    <tr>\n",
       "      <td>Respiratory</td>\n",
       "      <td>14072.0</td>\n",
       "      <td>10504.0</td>\n",
       "      <td>7096.0</td>\n",
       "    </tr>\n",
       "    <tr>\n",
       "      <td>Sense Organs</td>\n",
       "      <td>264.0</td>\n",
       "      <td>160.0</td>\n",
       "      <td>262.0</td>\n",
       "    </tr>\n",
       "    <tr>\n",
       "      <td>Skin and Subcutaneous Tissue</td>\n",
       "      <td>2597.0</td>\n",
       "      <td>3639.0</td>\n",
       "      <td>2570.0</td>\n",
       "    </tr>\n",
       "  </tbody>\n",
       "</table>\n",
       "</div>"
      ],
      "text/plain": [
       "                                               diag_1   diag_2   diag_3\n",
       "Blood and Blood-Forming Organs                 1095.0   2889.0   2462.0\n",
       "Circulatory                                   29874.0  31363.0  29782.0\n",
       "Congenital Anomalies                            804.0    500.0    489.0\n",
       "Diabetes                                       8692.0  12720.0  17021.0\n",
       "Digestive                                      9379.0   4114.0   3885.0\n",
       "Endocrine, Nutritional, Metabolic, Immunity    2667.0   8113.0   8974.0\n",
       "External causes of injury                      1638.0   2523.0   5033.0\n",
       "Genitourinary                                  5054.0   8232.0   6519.0\n",
       "Infectious and Parasitic                       2585.0   1868.0   1825.0\n",
       "Injury and Poisoning                           6878.0   2389.0   1904.0\n",
       "Mental Disorders                               2259.0   2648.0   3116.0\n",
       "Missing                                          20.0      NaN      NaN\n",
       "Musculoskeletal System and Connective Tissue   4941.0   1762.0   1903.0\n",
       "Neoplasms                                      3134.0   2418.0   1719.0\n",
       "Nervous                                         928.0   1085.0   1460.0\n",
       "Not Required                                      NaN    357.0   1420.0\n",
       "Other Symptoms                                 2526.0   2395.0   2345.0\n",
       "Pregnancy, Childbirth                           686.0    414.0    308.0\n",
       "Respiratory                                   14072.0  10504.0   7096.0\n",
       "Sense Organs                                    264.0    160.0    262.0\n",
       "Skin and Subcutaneous Tissue                   2597.0   3639.0   2570.0"
      ]
     },
     "execution_count": 63,
     "metadata": {},
     "output_type": "execute_result"
    }
   ],
   "source": [
    "df1 = pd.DataFrame(df['diag_1'].value_counts())\n",
    "df2 = df1.merge(pd.DataFrame(df['diag_2'].value_counts()), how = 'outer', left_index = True, right_index = True)\n",
    "df2.merge(pd.DataFrame(df['diag_3'].value_counts()), how = 'outer', left_index = True, right_index = True)"
   ]
  },
  {
   "cell_type": "code",
   "execution_count": null,
   "metadata": {},
   "outputs": [],
   "source": []
  }
 ],
 "metadata": {
  "kernelspec": {
   "display_name": "Python 3",
   "language": "python",
   "name": "python3"
  },
  "language_info": {
   "codemirror_mode": {
    "name": "ipython",
    "version": 3
   },
   "file_extension": ".py",
   "mimetype": "text/x-python",
   "name": "python",
   "nbconvert_exporter": "python",
   "pygments_lexer": "ipython3",
   "version": "3.8.3"
  }
 },
 "nbformat": 4,
 "nbformat_minor": 2
}
