{
  "nbformat": 4,
  "nbformat_minor": 0,
  "metadata": {
    "colab": {
      "name": "Baseline_Model_Comparisons_Saurabh.ipynb",
      "provenance": [],
      "collapsed_sections": [
        "MsvvBZaU4lD3"
      ],
      "mount_file_id": "12FPv-bazr8qvNWNVkFyxb2pG6-DEyNNG",
      "authorship_tag": "ABX9TyNJVKDWUGXFiQzJE3/jbFJJ",
      "include_colab_link": true
    },
    "kernelspec": {
      "name": "python3",
      "display_name": "Python 3"
    }
  },
  "cells": [
    {
      "cell_type": "markdown",
      "metadata": {
        "id": "view-in-github",
        "colab_type": "text"
      },
      "source": [
        "<a href=\"https://colab.research.google.com/github/saurabhtayal/Capstone-Project---Diabetic-Patients-Readmission-Prediction/blob/master/Baseline_Model_Comparisons_Saurabh.ipynb\" target=\"_parent\"><img src=\"https://colab.research.google.com/assets/colab-badge.svg\" alt=\"Open In Colab\"/></a>"
      ]
    },
    {
      "cell_type": "markdown",
      "metadata": {
        "id": "MsvvBZaU4lD3",
        "colab_type": "text"
      },
      "source": [
        "# Baseline Model Raw"
      ]
    },
    {
      "cell_type": "code",
      "metadata": {
        "id": "81bT7i7STYsK",
        "colab_type": "code",
        "colab": {}
      },
      "source": [
        "import numpy as np\n",
        "import pandas as pd\n",
        "from sklearn.model_selection import train_test_split\n",
        "from sklearn.linear_model import LogisticRegression\n",
        "from sklearn.metrics import recall_score, f1_score, confusion_matrix, classification_report"
      ],
      "execution_count": 1,
      "outputs": []
    },
    {
      "cell_type": "code",
      "metadata": {
        "id": "QiqQSuCHZGCA",
        "colab_type": "code",
        "colab": {}
      },
      "source": [
        "df = pd.read_csv('https://raw.githubusercontent.com/saurabhtayal/Capstone-Project---Diabetic-Patients-Readmission-Prediction/master/diabetic_data.csv')"
      ],
      "execution_count": 2,
      "outputs": []
    },
    {
      "cell_type": "code",
      "metadata": {
        "id": "8NnqI4duZRFa",
        "colab_type": "code",
        "colab": {
          "base_uri": "https://localhost:8080/",
          "height": 0
        },
        "outputId": "9322403e-064d-4542-cc48-c426ee507c09"
      },
      "source": [
        "df.head()"
      ],
      "execution_count": 3,
      "outputs": [
        {
          "output_type": "execute_result",
          "data": {
            "text/html": [
              "<div>\n",
              "<style scoped>\n",
              "    .dataframe tbody tr th:only-of-type {\n",
              "        vertical-align: middle;\n",
              "    }\n",
              "\n",
              "    .dataframe tbody tr th {\n",
              "        vertical-align: top;\n",
              "    }\n",
              "\n",
              "    .dataframe thead th {\n",
              "        text-align: right;\n",
              "    }\n",
              "</style>\n",
              "<table border=\"1\" class=\"dataframe\">\n",
              "  <thead>\n",
              "    <tr style=\"text-align: right;\">\n",
              "      <th></th>\n",
              "      <th>encounter_id</th>\n",
              "      <th>patient_nbr</th>\n",
              "      <th>race</th>\n",
              "      <th>gender</th>\n",
              "      <th>age</th>\n",
              "      <th>weight</th>\n",
              "      <th>admission_type_id</th>\n",
              "      <th>discharge_disposition_id</th>\n",
              "      <th>admission_source_id</th>\n",
              "      <th>time_in_hospital</th>\n",
              "      <th>payer_code</th>\n",
              "      <th>medical_specialty</th>\n",
              "      <th>num_lab_procedures</th>\n",
              "      <th>num_procedures</th>\n",
              "      <th>num_medications</th>\n",
              "      <th>number_outpatient</th>\n",
              "      <th>number_emergency</th>\n",
              "      <th>number_inpatient</th>\n",
              "      <th>diag_1</th>\n",
              "      <th>diag_2</th>\n",
              "      <th>diag_3</th>\n",
              "      <th>number_diagnoses</th>\n",
              "      <th>max_glu_serum</th>\n",
              "      <th>A1Cresult</th>\n",
              "      <th>metformin</th>\n",
              "      <th>repaglinide</th>\n",
              "      <th>nateglinide</th>\n",
              "      <th>chlorpropamide</th>\n",
              "      <th>glimepiride</th>\n",
              "      <th>acetohexamide</th>\n",
              "      <th>glipizide</th>\n",
              "      <th>glyburide</th>\n",
              "      <th>tolbutamide</th>\n",
              "      <th>pioglitazone</th>\n",
              "      <th>rosiglitazone</th>\n",
              "      <th>acarbose</th>\n",
              "      <th>miglitol</th>\n",
              "      <th>troglitazone</th>\n",
              "      <th>tolazamide</th>\n",
              "      <th>examide</th>\n",
              "      <th>citoglipton</th>\n",
              "      <th>insulin</th>\n",
              "      <th>glyburide-metformin</th>\n",
              "      <th>glipizide-metformin</th>\n",
              "      <th>glimepiride-pioglitazone</th>\n",
              "      <th>metformin-rosiglitazone</th>\n",
              "      <th>metformin-pioglitazone</th>\n",
              "      <th>change</th>\n",
              "      <th>diabetesMed</th>\n",
              "      <th>readmitted</th>\n",
              "    </tr>\n",
              "  </thead>\n",
              "  <tbody>\n",
              "    <tr>\n",
              "      <th>0</th>\n",
              "      <td>2278392</td>\n",
              "      <td>8222157</td>\n",
              "      <td>Caucasian</td>\n",
              "      <td>Female</td>\n",
              "      <td>[0-10)</td>\n",
              "      <td>?</td>\n",
              "      <td>6</td>\n",
              "      <td>25</td>\n",
              "      <td>1</td>\n",
              "      <td>1</td>\n",
              "      <td>?</td>\n",
              "      <td>Pediatrics-Endocrinology</td>\n",
              "      <td>41</td>\n",
              "      <td>0</td>\n",
              "      <td>1</td>\n",
              "      <td>0</td>\n",
              "      <td>0</td>\n",
              "      <td>0</td>\n",
              "      <td>250.83</td>\n",
              "      <td>?</td>\n",
              "      <td>?</td>\n",
              "      <td>1</td>\n",
              "      <td>None</td>\n",
              "      <td>None</td>\n",
              "      <td>No</td>\n",
              "      <td>No</td>\n",
              "      <td>No</td>\n",
              "      <td>No</td>\n",
              "      <td>No</td>\n",
              "      <td>No</td>\n",
              "      <td>No</td>\n",
              "      <td>No</td>\n",
              "      <td>No</td>\n",
              "      <td>No</td>\n",
              "      <td>No</td>\n",
              "      <td>No</td>\n",
              "      <td>No</td>\n",
              "      <td>No</td>\n",
              "      <td>No</td>\n",
              "      <td>No</td>\n",
              "      <td>No</td>\n",
              "      <td>No</td>\n",
              "      <td>No</td>\n",
              "      <td>No</td>\n",
              "      <td>No</td>\n",
              "      <td>No</td>\n",
              "      <td>No</td>\n",
              "      <td>No</td>\n",
              "      <td>No</td>\n",
              "      <td>NO</td>\n",
              "    </tr>\n",
              "    <tr>\n",
              "      <th>1</th>\n",
              "      <td>149190</td>\n",
              "      <td>55629189</td>\n",
              "      <td>Caucasian</td>\n",
              "      <td>Female</td>\n",
              "      <td>[10-20)</td>\n",
              "      <td>?</td>\n",
              "      <td>1</td>\n",
              "      <td>1</td>\n",
              "      <td>7</td>\n",
              "      <td>3</td>\n",
              "      <td>?</td>\n",
              "      <td>?</td>\n",
              "      <td>59</td>\n",
              "      <td>0</td>\n",
              "      <td>18</td>\n",
              "      <td>0</td>\n",
              "      <td>0</td>\n",
              "      <td>0</td>\n",
              "      <td>276</td>\n",
              "      <td>250.01</td>\n",
              "      <td>255</td>\n",
              "      <td>9</td>\n",
              "      <td>None</td>\n",
              "      <td>None</td>\n",
              "      <td>No</td>\n",
              "      <td>No</td>\n",
              "      <td>No</td>\n",
              "      <td>No</td>\n",
              "      <td>No</td>\n",
              "      <td>No</td>\n",
              "      <td>No</td>\n",
              "      <td>No</td>\n",
              "      <td>No</td>\n",
              "      <td>No</td>\n",
              "      <td>No</td>\n",
              "      <td>No</td>\n",
              "      <td>No</td>\n",
              "      <td>No</td>\n",
              "      <td>No</td>\n",
              "      <td>No</td>\n",
              "      <td>No</td>\n",
              "      <td>Up</td>\n",
              "      <td>No</td>\n",
              "      <td>No</td>\n",
              "      <td>No</td>\n",
              "      <td>No</td>\n",
              "      <td>No</td>\n",
              "      <td>Ch</td>\n",
              "      <td>Yes</td>\n",
              "      <td>&gt;30</td>\n",
              "    </tr>\n",
              "    <tr>\n",
              "      <th>2</th>\n",
              "      <td>64410</td>\n",
              "      <td>86047875</td>\n",
              "      <td>AfricanAmerican</td>\n",
              "      <td>Female</td>\n",
              "      <td>[20-30)</td>\n",
              "      <td>?</td>\n",
              "      <td>1</td>\n",
              "      <td>1</td>\n",
              "      <td>7</td>\n",
              "      <td>2</td>\n",
              "      <td>?</td>\n",
              "      <td>?</td>\n",
              "      <td>11</td>\n",
              "      <td>5</td>\n",
              "      <td>13</td>\n",
              "      <td>2</td>\n",
              "      <td>0</td>\n",
              "      <td>1</td>\n",
              "      <td>648</td>\n",
              "      <td>250</td>\n",
              "      <td>V27</td>\n",
              "      <td>6</td>\n",
              "      <td>None</td>\n",
              "      <td>None</td>\n",
              "      <td>No</td>\n",
              "      <td>No</td>\n",
              "      <td>No</td>\n",
              "      <td>No</td>\n",
              "      <td>No</td>\n",
              "      <td>No</td>\n",
              "      <td>Steady</td>\n",
              "      <td>No</td>\n",
              "      <td>No</td>\n",
              "      <td>No</td>\n",
              "      <td>No</td>\n",
              "      <td>No</td>\n",
              "      <td>No</td>\n",
              "      <td>No</td>\n",
              "      <td>No</td>\n",
              "      <td>No</td>\n",
              "      <td>No</td>\n",
              "      <td>No</td>\n",
              "      <td>No</td>\n",
              "      <td>No</td>\n",
              "      <td>No</td>\n",
              "      <td>No</td>\n",
              "      <td>No</td>\n",
              "      <td>No</td>\n",
              "      <td>Yes</td>\n",
              "      <td>NO</td>\n",
              "    </tr>\n",
              "    <tr>\n",
              "      <th>3</th>\n",
              "      <td>500364</td>\n",
              "      <td>82442376</td>\n",
              "      <td>Caucasian</td>\n",
              "      <td>Male</td>\n",
              "      <td>[30-40)</td>\n",
              "      <td>?</td>\n",
              "      <td>1</td>\n",
              "      <td>1</td>\n",
              "      <td>7</td>\n",
              "      <td>2</td>\n",
              "      <td>?</td>\n",
              "      <td>?</td>\n",
              "      <td>44</td>\n",
              "      <td>1</td>\n",
              "      <td>16</td>\n",
              "      <td>0</td>\n",
              "      <td>0</td>\n",
              "      <td>0</td>\n",
              "      <td>8</td>\n",
              "      <td>250.43</td>\n",
              "      <td>403</td>\n",
              "      <td>7</td>\n",
              "      <td>None</td>\n",
              "      <td>None</td>\n",
              "      <td>No</td>\n",
              "      <td>No</td>\n",
              "      <td>No</td>\n",
              "      <td>No</td>\n",
              "      <td>No</td>\n",
              "      <td>No</td>\n",
              "      <td>No</td>\n",
              "      <td>No</td>\n",
              "      <td>No</td>\n",
              "      <td>No</td>\n",
              "      <td>No</td>\n",
              "      <td>No</td>\n",
              "      <td>No</td>\n",
              "      <td>No</td>\n",
              "      <td>No</td>\n",
              "      <td>No</td>\n",
              "      <td>No</td>\n",
              "      <td>Up</td>\n",
              "      <td>No</td>\n",
              "      <td>No</td>\n",
              "      <td>No</td>\n",
              "      <td>No</td>\n",
              "      <td>No</td>\n",
              "      <td>Ch</td>\n",
              "      <td>Yes</td>\n",
              "      <td>NO</td>\n",
              "    </tr>\n",
              "    <tr>\n",
              "      <th>4</th>\n",
              "      <td>16680</td>\n",
              "      <td>42519267</td>\n",
              "      <td>Caucasian</td>\n",
              "      <td>Male</td>\n",
              "      <td>[40-50)</td>\n",
              "      <td>?</td>\n",
              "      <td>1</td>\n",
              "      <td>1</td>\n",
              "      <td>7</td>\n",
              "      <td>1</td>\n",
              "      <td>?</td>\n",
              "      <td>?</td>\n",
              "      <td>51</td>\n",
              "      <td>0</td>\n",
              "      <td>8</td>\n",
              "      <td>0</td>\n",
              "      <td>0</td>\n",
              "      <td>0</td>\n",
              "      <td>197</td>\n",
              "      <td>157</td>\n",
              "      <td>250</td>\n",
              "      <td>5</td>\n",
              "      <td>None</td>\n",
              "      <td>None</td>\n",
              "      <td>No</td>\n",
              "      <td>No</td>\n",
              "      <td>No</td>\n",
              "      <td>No</td>\n",
              "      <td>No</td>\n",
              "      <td>No</td>\n",
              "      <td>Steady</td>\n",
              "      <td>No</td>\n",
              "      <td>No</td>\n",
              "      <td>No</td>\n",
              "      <td>No</td>\n",
              "      <td>No</td>\n",
              "      <td>No</td>\n",
              "      <td>No</td>\n",
              "      <td>No</td>\n",
              "      <td>No</td>\n",
              "      <td>No</td>\n",
              "      <td>Steady</td>\n",
              "      <td>No</td>\n",
              "      <td>No</td>\n",
              "      <td>No</td>\n",
              "      <td>No</td>\n",
              "      <td>No</td>\n",
              "      <td>Ch</td>\n",
              "      <td>Yes</td>\n",
              "      <td>NO</td>\n",
              "    </tr>\n",
              "  </tbody>\n",
              "</table>\n",
              "</div>"
            ],
            "text/plain": [
              "   encounter_id  patient_nbr             race  ... change diabetesMed readmitted\n",
              "0       2278392      8222157        Caucasian  ...     No          No         NO\n",
              "1        149190     55629189        Caucasian  ...     Ch         Yes        >30\n",
              "2         64410     86047875  AfricanAmerican  ...     No         Yes         NO\n",
              "3        500364     82442376        Caucasian  ...     Ch         Yes         NO\n",
              "4         16680     42519267        Caucasian  ...     Ch         Yes         NO\n",
              "\n",
              "[5 rows x 50 columns]"
            ]
          },
          "metadata": {
            "tags": []
          },
          "execution_count": 3
        }
      ]
    },
    {
      "cell_type": "code",
      "metadata": {
        "id": "k4K6sXwFZTPU",
        "colab_type": "code",
        "colab": {}
      },
      "source": [
        "X = pd.get_dummies(df.drop('readmitted', axis = 1), drop_first = True)\n",
        "y = df['readmitted'].replace({'NO' : 0, '>30' : 0, '<30' : 1})"
      ],
      "execution_count": 4,
      "outputs": []
    },
    {
      "cell_type": "code",
      "metadata": {
        "id": "JgAPFOMzZr5_",
        "colab_type": "code",
        "colab": {
          "base_uri": "https://localhost:8080/",
          "height": 0
        },
        "outputId": "c8882929-499e-44bb-ad54-3eb63ff74a0d"
      },
      "source": [
        "X.head()"
      ],
      "execution_count": 5,
      "outputs": [
        {
          "output_type": "execute_result",
          "data": {
            "text/html": [
              "<div>\n",
              "<style scoped>\n",
              "    .dataframe tbody tr th:only-of-type {\n",
              "        vertical-align: middle;\n",
              "    }\n",
              "\n",
              "    .dataframe tbody tr th {\n",
              "        vertical-align: top;\n",
              "    }\n",
              "\n",
              "    .dataframe thead th {\n",
              "        text-align: right;\n",
              "    }\n",
              "</style>\n",
              "<table border=\"1\" class=\"dataframe\">\n",
              "  <thead>\n",
              "    <tr style=\"text-align: right;\">\n",
              "      <th></th>\n",
              "      <th>encounter_id</th>\n",
              "      <th>patient_nbr</th>\n",
              "      <th>admission_type_id</th>\n",
              "      <th>discharge_disposition_id</th>\n",
              "      <th>admission_source_id</th>\n",
              "      <th>time_in_hospital</th>\n",
              "      <th>num_lab_procedures</th>\n",
              "      <th>num_procedures</th>\n",
              "      <th>num_medications</th>\n",
              "      <th>number_outpatient</th>\n",
              "      <th>number_emergency</th>\n",
              "      <th>number_inpatient</th>\n",
              "      <th>number_diagnoses</th>\n",
              "      <th>race_AfricanAmerican</th>\n",
              "      <th>race_Asian</th>\n",
              "      <th>race_Caucasian</th>\n",
              "      <th>race_Hispanic</th>\n",
              "      <th>race_Other</th>\n",
              "      <th>gender_Male</th>\n",
              "      <th>gender_Unknown/Invalid</th>\n",
              "      <th>age_[10-20)</th>\n",
              "      <th>age_[20-30)</th>\n",
              "      <th>age_[30-40)</th>\n",
              "      <th>age_[40-50)</th>\n",
              "      <th>age_[50-60)</th>\n",
              "      <th>age_[60-70)</th>\n",
              "      <th>age_[70-80)</th>\n",
              "      <th>age_[80-90)</th>\n",
              "      <th>age_[90-100)</th>\n",
              "      <th>weight_?</th>\n",
              "      <th>weight_[0-25)</th>\n",
              "      <th>weight_[100-125)</th>\n",
              "      <th>weight_[125-150)</th>\n",
              "      <th>weight_[150-175)</th>\n",
              "      <th>weight_[175-200)</th>\n",
              "      <th>weight_[25-50)</th>\n",
              "      <th>weight_[50-75)</th>\n",
              "      <th>weight_[75-100)</th>\n",
              "      <th>payer_code_BC</th>\n",
              "      <th>payer_code_CH</th>\n",
              "      <th>...</th>\n",
              "      <th>chlorpropamide_Steady</th>\n",
              "      <th>chlorpropamide_Up</th>\n",
              "      <th>glimepiride_No</th>\n",
              "      <th>glimepiride_Steady</th>\n",
              "      <th>glimepiride_Up</th>\n",
              "      <th>acetohexamide_Steady</th>\n",
              "      <th>glipizide_No</th>\n",
              "      <th>glipizide_Steady</th>\n",
              "      <th>glipizide_Up</th>\n",
              "      <th>glyburide_No</th>\n",
              "      <th>glyburide_Steady</th>\n",
              "      <th>glyburide_Up</th>\n",
              "      <th>tolbutamide_Steady</th>\n",
              "      <th>pioglitazone_No</th>\n",
              "      <th>pioglitazone_Steady</th>\n",
              "      <th>pioglitazone_Up</th>\n",
              "      <th>rosiglitazone_No</th>\n",
              "      <th>rosiglitazone_Steady</th>\n",
              "      <th>rosiglitazone_Up</th>\n",
              "      <th>acarbose_No</th>\n",
              "      <th>acarbose_Steady</th>\n",
              "      <th>acarbose_Up</th>\n",
              "      <th>miglitol_No</th>\n",
              "      <th>miglitol_Steady</th>\n",
              "      <th>miglitol_Up</th>\n",
              "      <th>troglitazone_Steady</th>\n",
              "      <th>tolazamide_Steady</th>\n",
              "      <th>tolazamide_Up</th>\n",
              "      <th>insulin_No</th>\n",
              "      <th>insulin_Steady</th>\n",
              "      <th>insulin_Up</th>\n",
              "      <th>glyburide-metformin_No</th>\n",
              "      <th>glyburide-metformin_Steady</th>\n",
              "      <th>glyburide-metformin_Up</th>\n",
              "      <th>glipizide-metformin_Steady</th>\n",
              "      <th>glimepiride-pioglitazone_Steady</th>\n",
              "      <th>metformin-rosiglitazone_Steady</th>\n",
              "      <th>metformin-pioglitazone_Steady</th>\n",
              "      <th>change_No</th>\n",
              "      <th>diabetesMed_Yes</th>\n",
              "    </tr>\n",
              "  </thead>\n",
              "  <tbody>\n",
              "    <tr>\n",
              "      <th>0</th>\n",
              "      <td>2278392</td>\n",
              "      <td>8222157</td>\n",
              "      <td>6</td>\n",
              "      <td>25</td>\n",
              "      <td>1</td>\n",
              "      <td>1</td>\n",
              "      <td>41</td>\n",
              "      <td>0</td>\n",
              "      <td>1</td>\n",
              "      <td>0</td>\n",
              "      <td>0</td>\n",
              "      <td>0</td>\n",
              "      <td>1</td>\n",
              "      <td>0</td>\n",
              "      <td>0</td>\n",
              "      <td>1</td>\n",
              "      <td>0</td>\n",
              "      <td>0</td>\n",
              "      <td>0</td>\n",
              "      <td>0</td>\n",
              "      <td>0</td>\n",
              "      <td>0</td>\n",
              "      <td>0</td>\n",
              "      <td>0</td>\n",
              "      <td>0</td>\n",
              "      <td>0</td>\n",
              "      <td>0</td>\n",
              "      <td>0</td>\n",
              "      <td>0</td>\n",
              "      <td>1</td>\n",
              "      <td>0</td>\n",
              "      <td>0</td>\n",
              "      <td>0</td>\n",
              "      <td>0</td>\n",
              "      <td>0</td>\n",
              "      <td>0</td>\n",
              "      <td>0</td>\n",
              "      <td>0</td>\n",
              "      <td>0</td>\n",
              "      <td>0</td>\n",
              "      <td>...</td>\n",
              "      <td>0</td>\n",
              "      <td>0</td>\n",
              "      <td>1</td>\n",
              "      <td>0</td>\n",
              "      <td>0</td>\n",
              "      <td>0</td>\n",
              "      <td>1</td>\n",
              "      <td>0</td>\n",
              "      <td>0</td>\n",
              "      <td>1</td>\n",
              "      <td>0</td>\n",
              "      <td>0</td>\n",
              "      <td>0</td>\n",
              "      <td>1</td>\n",
              "      <td>0</td>\n",
              "      <td>0</td>\n",
              "      <td>1</td>\n",
              "      <td>0</td>\n",
              "      <td>0</td>\n",
              "      <td>1</td>\n",
              "      <td>0</td>\n",
              "      <td>0</td>\n",
              "      <td>1</td>\n",
              "      <td>0</td>\n",
              "      <td>0</td>\n",
              "      <td>0</td>\n",
              "      <td>0</td>\n",
              "      <td>0</td>\n",
              "      <td>1</td>\n",
              "      <td>0</td>\n",
              "      <td>0</td>\n",
              "      <td>1</td>\n",
              "      <td>0</td>\n",
              "      <td>0</td>\n",
              "      <td>0</td>\n",
              "      <td>0</td>\n",
              "      <td>0</td>\n",
              "      <td>0</td>\n",
              "      <td>1</td>\n",
              "      <td>0</td>\n",
              "    </tr>\n",
              "    <tr>\n",
              "      <th>1</th>\n",
              "      <td>149190</td>\n",
              "      <td>55629189</td>\n",
              "      <td>1</td>\n",
              "      <td>1</td>\n",
              "      <td>7</td>\n",
              "      <td>3</td>\n",
              "      <td>59</td>\n",
              "      <td>0</td>\n",
              "      <td>18</td>\n",
              "      <td>0</td>\n",
              "      <td>0</td>\n",
              "      <td>0</td>\n",
              "      <td>9</td>\n",
              "      <td>0</td>\n",
              "      <td>0</td>\n",
              "      <td>1</td>\n",
              "      <td>0</td>\n",
              "      <td>0</td>\n",
              "      <td>0</td>\n",
              "      <td>0</td>\n",
              "      <td>1</td>\n",
              "      <td>0</td>\n",
              "      <td>0</td>\n",
              "      <td>0</td>\n",
              "      <td>0</td>\n",
              "      <td>0</td>\n",
              "      <td>0</td>\n",
              "      <td>0</td>\n",
              "      <td>0</td>\n",
              "      <td>1</td>\n",
              "      <td>0</td>\n",
              "      <td>0</td>\n",
              "      <td>0</td>\n",
              "      <td>0</td>\n",
              "      <td>0</td>\n",
              "      <td>0</td>\n",
              "      <td>0</td>\n",
              "      <td>0</td>\n",
              "      <td>0</td>\n",
              "      <td>0</td>\n",
              "      <td>...</td>\n",
              "      <td>0</td>\n",
              "      <td>0</td>\n",
              "      <td>1</td>\n",
              "      <td>0</td>\n",
              "      <td>0</td>\n",
              "      <td>0</td>\n",
              "      <td>1</td>\n",
              "      <td>0</td>\n",
              "      <td>0</td>\n",
              "      <td>1</td>\n",
              "      <td>0</td>\n",
              "      <td>0</td>\n",
              "      <td>0</td>\n",
              "      <td>1</td>\n",
              "      <td>0</td>\n",
              "      <td>0</td>\n",
              "      <td>1</td>\n",
              "      <td>0</td>\n",
              "      <td>0</td>\n",
              "      <td>1</td>\n",
              "      <td>0</td>\n",
              "      <td>0</td>\n",
              "      <td>1</td>\n",
              "      <td>0</td>\n",
              "      <td>0</td>\n",
              "      <td>0</td>\n",
              "      <td>0</td>\n",
              "      <td>0</td>\n",
              "      <td>0</td>\n",
              "      <td>0</td>\n",
              "      <td>1</td>\n",
              "      <td>1</td>\n",
              "      <td>0</td>\n",
              "      <td>0</td>\n",
              "      <td>0</td>\n",
              "      <td>0</td>\n",
              "      <td>0</td>\n",
              "      <td>0</td>\n",
              "      <td>0</td>\n",
              "      <td>1</td>\n",
              "    </tr>\n",
              "    <tr>\n",
              "      <th>2</th>\n",
              "      <td>64410</td>\n",
              "      <td>86047875</td>\n",
              "      <td>1</td>\n",
              "      <td>1</td>\n",
              "      <td>7</td>\n",
              "      <td>2</td>\n",
              "      <td>11</td>\n",
              "      <td>5</td>\n",
              "      <td>13</td>\n",
              "      <td>2</td>\n",
              "      <td>0</td>\n",
              "      <td>1</td>\n",
              "      <td>6</td>\n",
              "      <td>1</td>\n",
              "      <td>0</td>\n",
              "      <td>0</td>\n",
              "      <td>0</td>\n",
              "      <td>0</td>\n",
              "      <td>0</td>\n",
              "      <td>0</td>\n",
              "      <td>0</td>\n",
              "      <td>1</td>\n",
              "      <td>0</td>\n",
              "      <td>0</td>\n",
              "      <td>0</td>\n",
              "      <td>0</td>\n",
              "      <td>0</td>\n",
              "      <td>0</td>\n",
              "      <td>0</td>\n",
              "      <td>1</td>\n",
              "      <td>0</td>\n",
              "      <td>0</td>\n",
              "      <td>0</td>\n",
              "      <td>0</td>\n",
              "      <td>0</td>\n",
              "      <td>0</td>\n",
              "      <td>0</td>\n",
              "      <td>0</td>\n",
              "      <td>0</td>\n",
              "      <td>0</td>\n",
              "      <td>...</td>\n",
              "      <td>0</td>\n",
              "      <td>0</td>\n",
              "      <td>1</td>\n",
              "      <td>0</td>\n",
              "      <td>0</td>\n",
              "      <td>0</td>\n",
              "      <td>0</td>\n",
              "      <td>1</td>\n",
              "      <td>0</td>\n",
              "      <td>1</td>\n",
              "      <td>0</td>\n",
              "      <td>0</td>\n",
              "      <td>0</td>\n",
              "      <td>1</td>\n",
              "      <td>0</td>\n",
              "      <td>0</td>\n",
              "      <td>1</td>\n",
              "      <td>0</td>\n",
              "      <td>0</td>\n",
              "      <td>1</td>\n",
              "      <td>0</td>\n",
              "      <td>0</td>\n",
              "      <td>1</td>\n",
              "      <td>0</td>\n",
              "      <td>0</td>\n",
              "      <td>0</td>\n",
              "      <td>0</td>\n",
              "      <td>0</td>\n",
              "      <td>1</td>\n",
              "      <td>0</td>\n",
              "      <td>0</td>\n",
              "      <td>1</td>\n",
              "      <td>0</td>\n",
              "      <td>0</td>\n",
              "      <td>0</td>\n",
              "      <td>0</td>\n",
              "      <td>0</td>\n",
              "      <td>0</td>\n",
              "      <td>1</td>\n",
              "      <td>1</td>\n",
              "    </tr>\n",
              "    <tr>\n",
              "      <th>3</th>\n",
              "      <td>500364</td>\n",
              "      <td>82442376</td>\n",
              "      <td>1</td>\n",
              "      <td>1</td>\n",
              "      <td>7</td>\n",
              "      <td>2</td>\n",
              "      <td>44</td>\n",
              "      <td>1</td>\n",
              "      <td>16</td>\n",
              "      <td>0</td>\n",
              "      <td>0</td>\n",
              "      <td>0</td>\n",
              "      <td>7</td>\n",
              "      <td>0</td>\n",
              "      <td>0</td>\n",
              "      <td>1</td>\n",
              "      <td>0</td>\n",
              "      <td>0</td>\n",
              "      <td>1</td>\n",
              "      <td>0</td>\n",
              "      <td>0</td>\n",
              "      <td>0</td>\n",
              "      <td>1</td>\n",
              "      <td>0</td>\n",
              "      <td>0</td>\n",
              "      <td>0</td>\n",
              "      <td>0</td>\n",
              "      <td>0</td>\n",
              "      <td>0</td>\n",
              "      <td>1</td>\n",
              "      <td>0</td>\n",
              "      <td>0</td>\n",
              "      <td>0</td>\n",
              "      <td>0</td>\n",
              "      <td>0</td>\n",
              "      <td>0</td>\n",
              "      <td>0</td>\n",
              "      <td>0</td>\n",
              "      <td>0</td>\n",
              "      <td>0</td>\n",
              "      <td>...</td>\n",
              "      <td>0</td>\n",
              "      <td>0</td>\n",
              "      <td>1</td>\n",
              "      <td>0</td>\n",
              "      <td>0</td>\n",
              "      <td>0</td>\n",
              "      <td>1</td>\n",
              "      <td>0</td>\n",
              "      <td>0</td>\n",
              "      <td>1</td>\n",
              "      <td>0</td>\n",
              "      <td>0</td>\n",
              "      <td>0</td>\n",
              "      <td>1</td>\n",
              "      <td>0</td>\n",
              "      <td>0</td>\n",
              "      <td>1</td>\n",
              "      <td>0</td>\n",
              "      <td>0</td>\n",
              "      <td>1</td>\n",
              "      <td>0</td>\n",
              "      <td>0</td>\n",
              "      <td>1</td>\n",
              "      <td>0</td>\n",
              "      <td>0</td>\n",
              "      <td>0</td>\n",
              "      <td>0</td>\n",
              "      <td>0</td>\n",
              "      <td>0</td>\n",
              "      <td>0</td>\n",
              "      <td>1</td>\n",
              "      <td>1</td>\n",
              "      <td>0</td>\n",
              "      <td>0</td>\n",
              "      <td>0</td>\n",
              "      <td>0</td>\n",
              "      <td>0</td>\n",
              "      <td>0</td>\n",
              "      <td>0</td>\n",
              "      <td>1</td>\n",
              "    </tr>\n",
              "    <tr>\n",
              "      <th>4</th>\n",
              "      <td>16680</td>\n",
              "      <td>42519267</td>\n",
              "      <td>1</td>\n",
              "      <td>1</td>\n",
              "      <td>7</td>\n",
              "      <td>1</td>\n",
              "      <td>51</td>\n",
              "      <td>0</td>\n",
              "      <td>8</td>\n",
              "      <td>0</td>\n",
              "      <td>0</td>\n",
              "      <td>0</td>\n",
              "      <td>5</td>\n",
              "      <td>0</td>\n",
              "      <td>0</td>\n",
              "      <td>1</td>\n",
              "      <td>0</td>\n",
              "      <td>0</td>\n",
              "      <td>1</td>\n",
              "      <td>0</td>\n",
              "      <td>0</td>\n",
              "      <td>0</td>\n",
              "      <td>0</td>\n",
              "      <td>1</td>\n",
              "      <td>0</td>\n",
              "      <td>0</td>\n",
              "      <td>0</td>\n",
              "      <td>0</td>\n",
              "      <td>0</td>\n",
              "      <td>1</td>\n",
              "      <td>0</td>\n",
              "      <td>0</td>\n",
              "      <td>0</td>\n",
              "      <td>0</td>\n",
              "      <td>0</td>\n",
              "      <td>0</td>\n",
              "      <td>0</td>\n",
              "      <td>0</td>\n",
              "      <td>0</td>\n",
              "      <td>0</td>\n",
              "      <td>...</td>\n",
              "      <td>0</td>\n",
              "      <td>0</td>\n",
              "      <td>1</td>\n",
              "      <td>0</td>\n",
              "      <td>0</td>\n",
              "      <td>0</td>\n",
              "      <td>0</td>\n",
              "      <td>1</td>\n",
              "      <td>0</td>\n",
              "      <td>1</td>\n",
              "      <td>0</td>\n",
              "      <td>0</td>\n",
              "      <td>0</td>\n",
              "      <td>1</td>\n",
              "      <td>0</td>\n",
              "      <td>0</td>\n",
              "      <td>1</td>\n",
              "      <td>0</td>\n",
              "      <td>0</td>\n",
              "      <td>1</td>\n",
              "      <td>0</td>\n",
              "      <td>0</td>\n",
              "      <td>1</td>\n",
              "      <td>0</td>\n",
              "      <td>0</td>\n",
              "      <td>0</td>\n",
              "      <td>0</td>\n",
              "      <td>0</td>\n",
              "      <td>0</td>\n",
              "      <td>1</td>\n",
              "      <td>0</td>\n",
              "      <td>1</td>\n",
              "      <td>0</td>\n",
              "      <td>0</td>\n",
              "      <td>0</td>\n",
              "      <td>0</td>\n",
              "      <td>0</td>\n",
              "      <td>0</td>\n",
              "      <td>0</td>\n",
              "      <td>1</td>\n",
              "    </tr>\n",
              "  </tbody>\n",
              "</table>\n",
              "<p>5 rows × 2436 columns</p>\n",
              "</div>"
            ],
            "text/plain": [
              "   encounter_id  patient_nbr  ...  change_No  diabetesMed_Yes\n",
              "0       2278392      8222157  ...          1                0\n",
              "1        149190     55629189  ...          0                1\n",
              "2         64410     86047875  ...          1                1\n",
              "3        500364     82442376  ...          0                1\n",
              "4         16680     42519267  ...          0                1\n",
              "\n",
              "[5 rows x 2436 columns]"
            ]
          },
          "metadata": {
            "tags": []
          },
          "execution_count": 5
        }
      ]
    },
    {
      "cell_type": "code",
      "metadata": {
        "id": "3N6UXXCRZ53O",
        "colab_type": "code",
        "colab": {
          "base_uri": "https://localhost:8080/",
          "height": 0
        },
        "outputId": "1c12c82a-71f6-43c5-dfe4-fd215886df98"
      },
      "source": [
        "y.value_counts()"
      ],
      "execution_count": 6,
      "outputs": [
        {
          "output_type": "execute_result",
          "data": {
            "text/plain": [
              "0    90409\n",
              "1    11357\n",
              "Name: readmitted, dtype: int64"
            ]
          },
          "metadata": {
            "tags": []
          },
          "execution_count": 6
        }
      ]
    },
    {
      "cell_type": "code",
      "metadata": {
        "id": "53epNwJZZ7ij",
        "colab_type": "code",
        "colab": {
          "base_uri": "https://localhost:8080/",
          "height": 0
        },
        "outputId": "de64e357-0a12-4c4d-ade1-db48ea95dcdf"
      },
      "source": [
        "X.shape"
      ],
      "execution_count": 7,
      "outputs": [
        {
          "output_type": "execute_result",
          "data": {
            "text/plain": [
              "(101766, 2436)"
            ]
          },
          "metadata": {
            "tags": []
          },
          "execution_count": 7
        }
      ]
    },
    {
      "cell_type": "code",
      "metadata": {
        "id": "VHu_hxUvaCqW",
        "colab_type": "code",
        "colab": {}
      },
      "source": [
        "X_train, X_test, y_train, y_test = train_test_split(X, y, random_state = 0, test_size = 0.3)"
      ],
      "execution_count": 8,
      "outputs": []
    },
    {
      "cell_type": "code",
      "metadata": {
        "id": "ll1cKU9maN_4",
        "colab_type": "code",
        "colab": {}
      },
      "source": [
        "lr = LogisticRegression(random_state = 0)"
      ],
      "execution_count": 9,
      "outputs": []
    },
    {
      "cell_type": "code",
      "metadata": {
        "id": "sjN-Pl2KaRfq",
        "colab_type": "code",
        "colab": {
          "base_uri": "https://localhost:8080/",
          "height": 0
        },
        "outputId": "26b977d3-cf5e-47bb-ecf3-ef451310dc56"
      },
      "source": [
        "lr.fit(X_train, y_train)\n",
        "y_pred = lr.predict(X_test)\n",
        "recall_score(y_test, y_pred)"
      ],
      "execution_count": 10,
      "outputs": [
        {
          "output_type": "execute_result",
          "data": {
            "text/plain": [
              "0.0"
            ]
          },
          "metadata": {
            "tags": []
          },
          "execution_count": 10
        }
      ]
    },
    {
      "cell_type": "code",
      "metadata": {
        "id": "fzYxRa1Iac7t",
        "colab_type": "code",
        "colab": {
          "base_uri": "https://localhost:8080/",
          "height": 0
        },
        "outputId": "961cbdc6-6b0e-4add-e1de-3bfdad2cf2e0"
      },
      "source": [
        "confusion_matrix(y_test, y_pred)"
      ],
      "execution_count": 11,
      "outputs": [
        {
          "output_type": "execute_result",
          "data": {
            "text/plain": [
              "array([[27108,     0],\n",
              "       [ 3422,     0]])"
            ]
          },
          "metadata": {
            "tags": []
          },
          "execution_count": 11
        }
      ]
    },
    {
      "cell_type": "code",
      "metadata": {
        "id": "wJ67tIoQbgbx",
        "colab_type": "code",
        "colab": {
          "base_uri": "https://localhost:8080/",
          "height": 0
        },
        "outputId": "f9ec3cde-631c-4627-c0ed-d4c513e5cb3f"
      },
      "source": [
        "print(classification_report(y_test, y_pred))"
      ],
      "execution_count": 12,
      "outputs": [
        {
          "output_type": "stream",
          "text": [
            "              precision    recall  f1-score   support\n",
            "\n",
            "           0       0.89      1.00      0.94     27108\n",
            "           1       0.00      0.00      0.00      3422\n",
            "\n",
            "    accuracy                           0.89     30530\n",
            "   macro avg       0.44      0.50      0.47     30530\n",
            "weighted avg       0.79      0.89      0.84     30530\n",
            "\n"
          ],
          "name": "stdout"
        },
        {
          "output_type": "stream",
          "text": [
            "/usr/local/lib/python3.6/dist-packages/sklearn/metrics/_classification.py:1272: UndefinedMetricWarning: Precision and F-score are ill-defined and being set to 0.0 in labels with no predicted samples. Use `zero_division` parameter to control this behavior.\n",
            "  _warn_prf(average, modifier, msg_start, len(result))\n"
          ],
          "name": "stderr"
        }
      ]
    },
    {
      "cell_type": "markdown",
      "metadata": {
        "id": "gvDDt9w-DpuW",
        "colab_type": "text"
      },
      "source": [
        "# 2nd Iteration with some-preprocessed data"
      ]
    },
    {
      "cell_type": "markdown",
      "metadata": {
        "id": "W2oK5YS14r03",
        "colab_type": "text"
      },
      "source": [
        "## Filling Not Available values in admission columns w.r.t emergencies relative to each other"
      ]
    },
    {
      "cell_type": "code",
      "metadata": {
        "id": "0nwqZoRT6F16",
        "colab_type": "code",
        "colab": {
          "base_uri": "https://localhost:8080/",
          "height": 394
        },
        "outputId": "cbcdc73c-1a11-4334-a745-fdfd5b2e072a"
      },
      "source": [
        "df = pd.read_csv('/content/drive/My Drive/PGPDSE/Capstone/CSV Files/diabetes_half_preprocessed_2.csv')\n",
        "df.head()"
      ],
      "execution_count": 13,
      "outputs": [
        {
          "output_type": "execute_result",
          "data": {
            "text/html": [
              "<div>\n",
              "<style scoped>\n",
              "    .dataframe tbody tr th:only-of-type {\n",
              "        vertical-align: middle;\n",
              "    }\n",
              "\n",
              "    .dataframe tbody tr th {\n",
              "        vertical-align: top;\n",
              "    }\n",
              "\n",
              "    .dataframe thead th {\n",
              "        text-align: right;\n",
              "    }\n",
              "</style>\n",
              "<table border=\"1\" class=\"dataframe\">\n",
              "  <thead>\n",
              "    <tr style=\"text-align: right;\">\n",
              "      <th></th>\n",
              "      <th>race</th>\n",
              "      <th>gender</th>\n",
              "      <th>age</th>\n",
              "      <th>admission_type_id</th>\n",
              "      <th>discharge_disposition_id</th>\n",
              "      <th>admission_source_id</th>\n",
              "      <th>time_in_hospital</th>\n",
              "      <th>num_lab_procedures</th>\n",
              "      <th>num_procedures</th>\n",
              "      <th>num_medications</th>\n",
              "      <th>number_outpatient</th>\n",
              "      <th>number_emergency</th>\n",
              "      <th>number_inpatient</th>\n",
              "      <th>diag_1</th>\n",
              "      <th>diag_2</th>\n",
              "      <th>diag_3</th>\n",
              "      <th>number_diagnoses</th>\n",
              "      <th>max_glu_serum</th>\n",
              "      <th>A1Cresult</th>\n",
              "      <th>metformin</th>\n",
              "      <th>repaglinide</th>\n",
              "      <th>nateglinide</th>\n",
              "      <th>chlorpropamide</th>\n",
              "      <th>glimepiride</th>\n",
              "      <th>acetohexamide</th>\n",
              "      <th>glipizide</th>\n",
              "      <th>glyburide</th>\n",
              "      <th>tolbutamide</th>\n",
              "      <th>pioglitazone</th>\n",
              "      <th>rosiglitazone</th>\n",
              "      <th>acarbose</th>\n",
              "      <th>miglitol</th>\n",
              "      <th>troglitazone</th>\n",
              "      <th>tolazamide</th>\n",
              "      <th>insulin</th>\n",
              "      <th>glyburide-metformin</th>\n",
              "      <th>glipizide-metformin</th>\n",
              "      <th>glimepiride-pioglitazone</th>\n",
              "      <th>metformin-rosiglitazone</th>\n",
              "      <th>metformin-pioglitazone</th>\n",
              "      <th>change</th>\n",
              "      <th>diabetesMed</th>\n",
              "      <th>readmitted</th>\n",
              "      <th>preceding_year_visits</th>\n",
              "    </tr>\n",
              "  </thead>\n",
              "  <tbody>\n",
              "    <tr>\n",
              "      <th>0</th>\n",
              "      <td>Caucasian</td>\n",
              "      <td>0</td>\n",
              "      <td>[0-10)</td>\n",
              "      <td>Not Available</td>\n",
              "      <td>Not Available</td>\n",
              "      <td>Referral</td>\n",
              "      <td>1</td>\n",
              "      <td>41</td>\n",
              "      <td>0</td>\n",
              "      <td>1</td>\n",
              "      <td>0</td>\n",
              "      <td>0</td>\n",
              "      <td>0</td>\n",
              "      <td>Diabetes</td>\n",
              "      <td>Not Required</td>\n",
              "      <td>Not Required</td>\n",
              "      <td>1</td>\n",
              "      <td>None</td>\n",
              "      <td>None</td>\n",
              "      <td>-2</td>\n",
              "      <td>-2</td>\n",
              "      <td>-2</td>\n",
              "      <td>-2</td>\n",
              "      <td>-2</td>\n",
              "      <td>-2</td>\n",
              "      <td>-2</td>\n",
              "      <td>-2</td>\n",
              "      <td>-2</td>\n",
              "      <td>-2</td>\n",
              "      <td>-2</td>\n",
              "      <td>-2</td>\n",
              "      <td>-2</td>\n",
              "      <td>-2</td>\n",
              "      <td>-2</td>\n",
              "      <td>-2</td>\n",
              "      <td>-2</td>\n",
              "      <td>-2</td>\n",
              "      <td>-2</td>\n",
              "      <td>-2</td>\n",
              "      <td>-2</td>\n",
              "      <td>0</td>\n",
              "      <td>0</td>\n",
              "      <td>0</td>\n",
              "      <td>0</td>\n",
              "    </tr>\n",
              "    <tr>\n",
              "      <th>1</th>\n",
              "      <td>Caucasian</td>\n",
              "      <td>0</td>\n",
              "      <td>[10-20)</td>\n",
              "      <td>Emergency</td>\n",
              "      <td>Discharged to home</td>\n",
              "      <td>Emergency</td>\n",
              "      <td>3</td>\n",
              "      <td>59</td>\n",
              "      <td>0</td>\n",
              "      <td>18</td>\n",
              "      <td>0</td>\n",
              "      <td>0</td>\n",
              "      <td>0</td>\n",
              "      <td>Endocrine, Nutritional, Metabolic, Immunity</td>\n",
              "      <td>Diabetes</td>\n",
              "      <td>Endocrine, Nutritional, Metabolic, Immunity</td>\n",
              "      <td>9</td>\n",
              "      <td>None</td>\n",
              "      <td>None</td>\n",
              "      <td>-2</td>\n",
              "      <td>-2</td>\n",
              "      <td>-2</td>\n",
              "      <td>-2</td>\n",
              "      <td>-2</td>\n",
              "      <td>-2</td>\n",
              "      <td>-2</td>\n",
              "      <td>-2</td>\n",
              "      <td>-2</td>\n",
              "      <td>-2</td>\n",
              "      <td>-2</td>\n",
              "      <td>-2</td>\n",
              "      <td>-2</td>\n",
              "      <td>-2</td>\n",
              "      <td>-2</td>\n",
              "      <td>1</td>\n",
              "      <td>-2</td>\n",
              "      <td>-2</td>\n",
              "      <td>-2</td>\n",
              "      <td>-2</td>\n",
              "      <td>-2</td>\n",
              "      <td>1</td>\n",
              "      <td>1</td>\n",
              "      <td>0</td>\n",
              "      <td>0</td>\n",
              "    </tr>\n",
              "    <tr>\n",
              "      <th>2</th>\n",
              "      <td>AfricanAmerican</td>\n",
              "      <td>0</td>\n",
              "      <td>[20-30)</td>\n",
              "      <td>Emergency</td>\n",
              "      <td>Discharged to home</td>\n",
              "      <td>Emergency</td>\n",
              "      <td>2</td>\n",
              "      <td>11</td>\n",
              "      <td>5</td>\n",
              "      <td>13</td>\n",
              "      <td>2</td>\n",
              "      <td>0</td>\n",
              "      <td>1</td>\n",
              "      <td>Pregnancy, Childbirth</td>\n",
              "      <td>Diabetes</td>\n",
              "      <td>External causes of injury</td>\n",
              "      <td>6</td>\n",
              "      <td>None</td>\n",
              "      <td>None</td>\n",
              "      <td>-2</td>\n",
              "      <td>-2</td>\n",
              "      <td>-2</td>\n",
              "      <td>-2</td>\n",
              "      <td>-2</td>\n",
              "      <td>-2</td>\n",
              "      <td>0</td>\n",
              "      <td>-2</td>\n",
              "      <td>-2</td>\n",
              "      <td>-2</td>\n",
              "      <td>-2</td>\n",
              "      <td>-2</td>\n",
              "      <td>-2</td>\n",
              "      <td>-2</td>\n",
              "      <td>-2</td>\n",
              "      <td>-2</td>\n",
              "      <td>-2</td>\n",
              "      <td>-2</td>\n",
              "      <td>-2</td>\n",
              "      <td>-2</td>\n",
              "      <td>-2</td>\n",
              "      <td>0</td>\n",
              "      <td>1</td>\n",
              "      <td>0</td>\n",
              "      <td>3</td>\n",
              "    </tr>\n",
              "    <tr>\n",
              "      <th>3</th>\n",
              "      <td>Caucasian</td>\n",
              "      <td>1</td>\n",
              "      <td>[30-40)</td>\n",
              "      <td>Emergency</td>\n",
              "      <td>Discharged to home</td>\n",
              "      <td>Emergency</td>\n",
              "      <td>2</td>\n",
              "      <td>44</td>\n",
              "      <td>1</td>\n",
              "      <td>16</td>\n",
              "      <td>0</td>\n",
              "      <td>0</td>\n",
              "      <td>0</td>\n",
              "      <td>Infectious and Parasitic</td>\n",
              "      <td>Diabetes</td>\n",
              "      <td>Circulatory</td>\n",
              "      <td>7</td>\n",
              "      <td>None</td>\n",
              "      <td>None</td>\n",
              "      <td>-2</td>\n",
              "      <td>-2</td>\n",
              "      <td>-2</td>\n",
              "      <td>-2</td>\n",
              "      <td>-2</td>\n",
              "      <td>-2</td>\n",
              "      <td>-2</td>\n",
              "      <td>-2</td>\n",
              "      <td>-2</td>\n",
              "      <td>-2</td>\n",
              "      <td>-2</td>\n",
              "      <td>-2</td>\n",
              "      <td>-2</td>\n",
              "      <td>-2</td>\n",
              "      <td>-2</td>\n",
              "      <td>1</td>\n",
              "      <td>-2</td>\n",
              "      <td>-2</td>\n",
              "      <td>-2</td>\n",
              "      <td>-2</td>\n",
              "      <td>-2</td>\n",
              "      <td>1</td>\n",
              "      <td>1</td>\n",
              "      <td>0</td>\n",
              "      <td>0</td>\n",
              "    </tr>\n",
              "    <tr>\n",
              "      <th>4</th>\n",
              "      <td>Caucasian</td>\n",
              "      <td>1</td>\n",
              "      <td>[40-50)</td>\n",
              "      <td>Emergency</td>\n",
              "      <td>Discharged to home</td>\n",
              "      <td>Emergency</td>\n",
              "      <td>1</td>\n",
              "      <td>51</td>\n",
              "      <td>0</td>\n",
              "      <td>8</td>\n",
              "      <td>0</td>\n",
              "      <td>0</td>\n",
              "      <td>0</td>\n",
              "      <td>Neoplasms</td>\n",
              "      <td>Neoplasms</td>\n",
              "      <td>Diabetes</td>\n",
              "      <td>5</td>\n",
              "      <td>None</td>\n",
              "      <td>None</td>\n",
              "      <td>-2</td>\n",
              "      <td>-2</td>\n",
              "      <td>-2</td>\n",
              "      <td>-2</td>\n",
              "      <td>-2</td>\n",
              "      <td>-2</td>\n",
              "      <td>0</td>\n",
              "      <td>-2</td>\n",
              "      <td>-2</td>\n",
              "      <td>-2</td>\n",
              "      <td>-2</td>\n",
              "      <td>-2</td>\n",
              "      <td>-2</td>\n",
              "      <td>-2</td>\n",
              "      <td>-2</td>\n",
              "      <td>0</td>\n",
              "      <td>-2</td>\n",
              "      <td>-2</td>\n",
              "      <td>-2</td>\n",
              "      <td>-2</td>\n",
              "      <td>-2</td>\n",
              "      <td>1</td>\n",
              "      <td>1</td>\n",
              "      <td>0</td>\n",
              "      <td>0</td>\n",
              "    </tr>\n",
              "  </tbody>\n",
              "</table>\n",
              "</div>"
            ],
            "text/plain": [
              "              race  gender  ... readmitted preceding_year_visits\n",
              "0        Caucasian       0  ...          0                     0\n",
              "1        Caucasian       0  ...          0                     0\n",
              "2  AfricanAmerican       0  ...          0                     3\n",
              "3        Caucasian       1  ...          0                     0\n",
              "4        Caucasian       1  ...          0                     0\n",
              "\n",
              "[5 rows x 44 columns]"
            ]
          },
          "metadata": {
            "tags": []
          },
          "execution_count": 13
        }
      ]
    },
    {
      "cell_type": "code",
      "metadata": {
        "id": "Hf-WXv0x6zCV",
        "colab_type": "code",
        "colab": {
          "base_uri": "https://localhost:8080/",
          "height": 34
        },
        "outputId": "c06f6ac8-692a-4e83-f0a8-47e2932dc4a2"
      },
      "source": [
        "df.shape"
      ],
      "execution_count": 14,
      "outputs": [
        {
          "output_type": "execute_result",
          "data": {
            "text/plain": [
              "(99300, 44)"
            ]
          },
          "metadata": {
            "tags": []
          },
          "execution_count": 14
        }
      ]
    },
    {
      "cell_type": "code",
      "metadata": {
        "id": "DG-cpy2b60o7",
        "colab_type": "code",
        "colab": {
          "base_uri": "https://localhost:8080/",
          "height": 884
        },
        "outputId": "b82aa477-0bfb-4373-f12b-9bcc1b3f77ab"
      },
      "source": [
        "df.info()"
      ],
      "execution_count": 15,
      "outputs": [
        {
          "output_type": "stream",
          "text": [
            "<class 'pandas.core.frame.DataFrame'>\n",
            "RangeIndex: 99300 entries, 0 to 99299\n",
            "Data columns (total 44 columns):\n",
            " #   Column                    Non-Null Count  Dtype \n",
            "---  ------                    --------------  ----- \n",
            " 0   race                      97070 non-null  object\n",
            " 1   gender                    99300 non-null  int64 \n",
            " 2   age                       99300 non-null  object\n",
            " 3   admission_type_id         99300 non-null  object\n",
            " 4   discharge_disposition_id  99300 non-null  object\n",
            " 5   admission_source_id       99300 non-null  object\n",
            " 6   time_in_hospital          99300 non-null  int64 \n",
            " 7   num_lab_procedures        99300 non-null  int64 \n",
            " 8   num_procedures            99300 non-null  int64 \n",
            " 9   num_medications           99300 non-null  int64 \n",
            " 10  number_outpatient         99300 non-null  int64 \n",
            " 11  number_emergency          99300 non-null  int64 \n",
            " 12  number_inpatient          99300 non-null  int64 \n",
            " 13  diag_1                    99300 non-null  object\n",
            " 14  diag_2                    99300 non-null  object\n",
            " 15  diag_3                    99300 non-null  object\n",
            " 16  number_diagnoses          99300 non-null  int64 \n",
            " 17  max_glu_serum             99300 non-null  object\n",
            " 18  A1Cresult                 99300 non-null  object\n",
            " 19  metformin                 99300 non-null  int64 \n",
            " 20  repaglinide               99300 non-null  int64 \n",
            " 21  nateglinide               99300 non-null  int64 \n",
            " 22  chlorpropamide            99300 non-null  int64 \n",
            " 23  glimepiride               99300 non-null  int64 \n",
            " 24  acetohexamide             99300 non-null  int64 \n",
            " 25  glipizide                 99300 non-null  int64 \n",
            " 26  glyburide                 99300 non-null  int64 \n",
            " 27  tolbutamide               99300 non-null  int64 \n",
            " 28  pioglitazone              99300 non-null  int64 \n",
            " 29  rosiglitazone             99300 non-null  int64 \n",
            " 30  acarbose                  99300 non-null  int64 \n",
            " 31  miglitol                  99300 non-null  int64 \n",
            " 32  troglitazone              99300 non-null  int64 \n",
            " 33  tolazamide                99300 non-null  int64 \n",
            " 34  insulin                   99300 non-null  int64 \n",
            " 35  glyburide-metformin       99300 non-null  int64 \n",
            " 36  glipizide-metformin       99300 non-null  int64 \n",
            " 37  glimepiride-pioglitazone  99300 non-null  int64 \n",
            " 38  metformin-rosiglitazone   99300 non-null  int64 \n",
            " 39  metformin-pioglitazone    99300 non-null  int64 \n",
            " 40  change                    99300 non-null  int64 \n",
            " 41  diabetesMed               99300 non-null  int64 \n",
            " 42  readmitted                99300 non-null  int64 \n",
            " 43  preceding_year_visits     99300 non-null  int64 \n",
            "dtypes: int64(34), object(10)\n",
            "memory usage: 33.3+ MB\n"
          ],
          "name": "stdout"
        }
      ]
    },
    {
      "cell_type": "code",
      "metadata": {
        "id": "8PMnv4EJ6fIA",
        "colab_type": "code",
        "colab": {
          "base_uri": "https://localhost:8080/",
          "height": 1000
        },
        "outputId": "2392d635-eb1f-46a4-fbea-76d68794de61"
      },
      "source": [
        "for i in df.columns:\n",
        "    print(i, '\\n', df[i].unique(), '\\n')"
      ],
      "execution_count": 16,
      "outputs": [
        {
          "output_type": "stream",
          "text": [
            "race \n",
            " ['Caucasian' 'AfricanAmerican' nan 'Other' 'Asian' 'Hispanic'] \n",
            "\n",
            "gender \n",
            " [0 1] \n",
            "\n",
            "age \n",
            " ['[0-10)' '[10-20)' '[20-30)' '[30-40)' '[40-50)' '[50-60)' '[60-70)'\n",
            " '[70-80)' '[80-90)' '[90-100)'] \n",
            "\n",
            "admission_type_id \n",
            " ['Not Available' 'Emergency' 'Elective'] \n",
            "\n",
            "discharge_disposition_id \n",
            " ['Not Available' 'Discharged to home'\n",
            " 'Transferred to another medical facility'\n",
            " 'Discharged to home with home health service' 'Left AMA'\n",
            " 'Still patient/referred to this institution'] \n",
            "\n",
            "admission_source_id \n",
            " ['Referral' 'Emergency' 'Transferred from another health care facility'\n",
            " 'Not Available'] \n",
            "\n",
            "time_in_hospital \n",
            " [ 1  3  2  4  5 13 12  9  7 10  6 11  8 14] \n",
            "\n",
            "num_lab_procedures \n",
            " [ 41  59  11  44  51  31  70  73  68  33  47  62  60  55  49  75  45  29\n",
            "  35  42  66  36  19  64  25  53  52  87  27  37  28  48  10   2  65  67\n",
            "  40  54  58  57  43  32  83  34  39  69  38  72  22  96  46  78  56  61\n",
            "  88  50   1  18  82   9  63  24  71  77  81  76  90  93   3 103  13  80\n",
            "  85  16  15  12  30  23  17  21  79  26   5  95  97  84  14  74 105  86\n",
            "  98  20   6  94   8 102   7  89  91  92   4 101  99 100 114 113 111 129\n",
            " 107 108 106 104 109 120 132 121 126 118] \n",
            "\n",
            "num_procedures \n",
            " [0 5 1 6 2 3 4] \n",
            "\n",
            "num_medications \n",
            " [ 1 18 13 16  8 21 12 28 17 11 15 31  2 23 19  7 20 14 10 22  9 25  4 32\n",
            "  6 26 24 33  5 27 39  3 30 29 61 40 46 41 36 34 35 50 43 42 37 51 38 45\n",
            " 54 52 49 62 55 47 44 53 48 57 59 56 60 63 58 70 67 64 69 65 68 66 81 79\n",
            " 75 72 74] \n",
            "\n",
            "number_outpatient \n",
            " [ 0  2  1  5  7  9  3  8  4 12 11  6 20 15 10 13 14 16 21 35 17 29 36 18\n",
            " 19 27 22 24 42 39 34 26 33 25 23 28 37 38 40] \n",
            "\n",
            "number_emergency \n",
            " [ 0  1  2  4  3  9  5  7  6  8 22 25 10 13 42 16 11 28 15 14 18 12 21 20\n",
            " 19 46 76 37 64 63 54 24 29] \n",
            "\n",
            "number_inpatient \n",
            " [ 0  1  2  3  6  5  4  7  9  8 15 10 11 14 12 13 17 16 21 18 19] \n",
            "\n",
            "diag_1 \n",
            " ['Diabetes' 'Endocrine, Nutritional, Metabolic, Immunity'\n",
            " 'Pregnancy, Childbirth' 'Infectious and Parasitic' 'Neoplasms'\n",
            " 'Circulatory' 'Respiratory' 'Injury and Poisoning'\n",
            " 'Skin and Subcutaneous Tissue'\n",
            " 'Musculoskeletal System and Connective Tissue' 'Digestive'\n",
            " 'External causes of injury' 'Genitourinary' 'Mental Disorders'\n",
            " 'Other Symptoms' 'Nervous' 'Congenital Anomalies'\n",
            " 'Blood and Blood-Forming Organs' 'Sense Organs'] \n",
            "\n",
            "diag_2 \n",
            " ['Not Required' 'Diabetes' 'Neoplasms' 'Circulatory' 'Respiratory'\n",
            " 'Blood and Blood-Forming Organs' 'Injury and Poisoning'\n",
            " 'Musculoskeletal System and Connective Tissue' 'Genitourinary'\n",
            " 'Infectious and Parasitic' 'Endocrine, Nutritional, Metabolic, Immunity'\n",
            " 'Digestive' 'Skin and Subcutaneous Tissue' 'External causes of injury'\n",
            " 'Nervous' 'Other Symptoms' 'Mental Disorders' 'Pregnancy, Childbirth'\n",
            " 'Congenital Anomalies' 'Sense Organs'] \n",
            "\n",
            "diag_3 \n",
            " ['Not Required' 'Endocrine, Nutritional, Metabolic, Immunity'\n",
            " 'External causes of injury' 'Circulatory' 'Diabetes'\n",
            " 'Infectious and Parasitic' 'Respiratory' 'Injury and Poisoning'\n",
            " 'Neoplasms' 'Genitourinary'\n",
            " 'Musculoskeletal System and Connective Tissue' 'Other Symptoms'\n",
            " 'Digestive' 'Skin and Subcutaneous Tissue' 'Mental Disorders'\n",
            " 'Congenital Anomalies' 'Nervous' 'Sense Organs' 'Pregnancy, Childbirth'\n",
            " 'Blood and Blood-Forming Organs'] \n",
            "\n",
            "number_diagnoses \n",
            " [ 1  9  6  7  5  8  3  4  2 16 12 13 15 10 11 14] \n",
            "\n",
            "max_glu_serum \n",
            " ['None' '>300' 'Norm' '>200'] \n",
            "\n",
            "A1Cresult \n",
            " ['None' '>7' '>8' 'Norm'] \n",
            "\n",
            "metformin \n",
            " [-2  0  1 -1] \n",
            "\n",
            "repaglinide \n",
            " [-2  1  0 -1] \n",
            "\n",
            "nateglinide \n",
            " [-2  0 -1  1] \n",
            "\n",
            "chlorpropamide \n",
            " [-2  0 -1  1] \n",
            "\n",
            "glimepiride \n",
            " [-2  0 -1  1] \n",
            "\n",
            "acetohexamide \n",
            " [-2  0] \n",
            "\n",
            "glipizide \n",
            " [-2  0  1 -1] \n",
            "\n",
            "glyburide \n",
            " [-2  0  1 -1] \n",
            "\n",
            "tolbutamide \n",
            " [-2  0] \n",
            "\n",
            "pioglitazone \n",
            " [-2  0  1 -1] \n",
            "\n",
            "rosiglitazone \n",
            " [-2  0  1 -1] \n",
            "\n",
            "acarbose \n",
            " [-2  0  1 -1] \n",
            "\n",
            "miglitol \n",
            " [-2  0 -1  1] \n",
            "\n",
            "troglitazone \n",
            " [-2  0] \n",
            "\n",
            "tolazamide \n",
            " [-2  0  1] \n",
            "\n",
            "insulin \n",
            " [-2  1  0 -1] \n",
            "\n",
            "glyburide-metformin \n",
            " [-2  0 -1  1] \n",
            "\n",
            "glipizide-metformin \n",
            " [-2  0] \n",
            "\n",
            "glimepiride-pioglitazone \n",
            " [-2  0] \n",
            "\n",
            "metformin-rosiglitazone \n",
            " [-2  0] \n",
            "\n",
            "metformin-pioglitazone \n",
            " [-2  0] \n",
            "\n",
            "change \n",
            " [0 1] \n",
            "\n",
            "diabetesMed \n",
            " [0 1] \n",
            "\n",
            "readmitted \n",
            " [0 1] \n",
            "\n",
            "preceding_year_visits \n",
            " [ 0  3  1  2  6  7 10  5  4 14 15  8 12  9 13 11 18 17 25 27 23 30 16 31\n",
            " 19 20 21 22 35 49 34 38 28 26 24 32 42 40 36 33 29 37 48 80 68 61 41] \n",
            "\n"
          ],
          "name": "stdout"
        }
      ]
    },
    {
      "cell_type": "code",
      "metadata": {
        "id": "VgrWK3u99sn2",
        "colab_type": "code",
        "colab": {
          "base_uri": "https://localhost:8080/",
          "height": 170
        },
        "outputId": "6f13af85-0f05-4814-d2e7-64d69e31497f"
      },
      "source": [
        "for i in ['admission_type_id', 'admission_source_id']:\n",
        "    print(df[i].value_counts())"
      ],
      "execution_count": 17,
      "outputs": [
        {
          "output_type": "stream",
          "text": [
            "Emergency        70504\n",
            "Elective         18659\n",
            "Not Available    10137\n",
            "Name: admission_type_id, dtype: int64\n",
            "Emergency                                        55850\n",
            "Referral                                         30418\n",
            "Not Available                                     6853\n",
            "Transferred from another health care facility     6179\n",
            "Name: admission_source_id, dtype: int64\n"
          ],
          "name": "stdout"
        }
      ]
    },
    {
      "cell_type": "code",
      "metadata": {
        "id": "_4uwl_xL6pqW",
        "colab_type": "code",
        "colab": {
          "base_uri": "https://localhost:8080/",
          "height": 85
        },
        "outputId": "a08101c9-55b6-41fe-bd89-730f704f06c3"
      },
      "source": [
        "for i in range(len(df['admission_type_id'])):\n",
        "    if df.loc[i, 'admission_type_id'] == 'Not Available' and df.loc[i, 'admission_source_id'] == 'Emergency':\n",
        "        df.loc[i, 'admission_type_id'] = 'Emergency'\n",
        "print(df['admission_type_id'].value_counts())"
      ],
      "execution_count": 18,
      "outputs": [
        {
          "output_type": "stream",
          "text": [
            "Emergency        72365\n",
            "Elective         18659\n",
            "Not Available     8276\n",
            "Name: admission_type_id, dtype: int64\n"
          ],
          "name": "stdout"
        }
      ]
    },
    {
      "cell_type": "code",
      "metadata": {
        "id": "th-06Lzb_aLB",
        "colab_type": "code",
        "colab": {
          "base_uri": "https://localhost:8080/",
          "height": 102
        },
        "outputId": "20a33d03-ec9f-45bf-c285-76c94216bf4b"
      },
      "source": [
        "for i in range(len(df['admission_source_id'])):\n",
        "    if df.loc[i, 'admission_source_id'] == 'Not Available' and df.loc[i, 'admission_type_id'] == 'Emergency':\n",
        "        df.loc[i, 'admission_source_id'] = 'Emergency'\n",
        "print(df['admission_source_id'].value_counts())"
      ],
      "execution_count": 19,
      "outputs": [
        {
          "output_type": "stream",
          "text": [
            "Emergency                                        56912\n",
            "Referral                                         30418\n",
            "Transferred from another health care facility     6179\n",
            "Not Available                                     5791\n",
            "Name: admission_source_id, dtype: int64\n"
          ],
          "name": "stdout"
        }
      ]
    },
    {
      "cell_type": "code",
      "metadata": {
        "id": "nZ85lp1FAbIn",
        "colab_type": "code",
        "colab": {
          "base_uri": "https://localhost:8080/",
          "height": 85
        },
        "outputId": "7ea3f2a0-53a4-4280-a4f9-8ae4251e3c20"
      },
      "source": [
        "for i in range(len(df['admission_type_id'])):\n",
        "    if df.loc[i, 'admission_type_id'] == 'Not Available' and df.loc[i, 'admission_source_id'] == 'Emergency':\n",
        "        df.loc[i, 'admission_type_id'] = 'Emergency'\n",
        "print(df['admission_type_id'].value_counts())"
      ],
      "execution_count": 20,
      "outputs": [
        {
          "output_type": "stream",
          "text": [
            "Emergency        72365\n",
            "Elective         18659\n",
            "Not Available     8276\n",
            "Name: admission_type_id, dtype: int64\n"
          ],
          "name": "stdout"
        }
      ]
    },
    {
      "cell_type": "code",
      "metadata": {
        "id": "pnAlH8NnAvt-",
        "colab_type": "code",
        "colab": {
          "base_uri": "https://localhost:8080/",
          "height": 102
        },
        "outputId": "6175d30b-cd70-43d5-d94f-7c26d47f7394"
      },
      "source": [
        "for i in range(len(df['admission_source_id'])):\n",
        "    if df.loc[i, 'admission_source_id'] == 'Not Available' and df.loc[i, 'admission_type_id'] == 'Emergency':\n",
        "        df.loc[i, 'admission_source_id'] = 'Emergency'\n",
        "print(df['admission_source_id'].value_counts())"
      ],
      "execution_count": 21,
      "outputs": [
        {
          "output_type": "stream",
          "text": [
            "Emergency                                        56912\n",
            "Referral                                         30418\n",
            "Transferred from another health care facility     6179\n",
            "Not Available                                     5791\n",
            "Name: admission_source_id, dtype: int64\n"
          ],
          "name": "stdout"
        }
      ]
    },
    {
      "cell_type": "code",
      "metadata": {
        "id": "g95M2UtsxGx4",
        "colab_type": "code",
        "colab": {
          "base_uri": "https://localhost:8080/",
          "height": 85
        },
        "outputId": "0f3451e3-4a8e-4a98-c2bf-1c3afcc41c99"
      },
      "source": [
        "df[df['admission_type_id'] == 'Emergency']['admission_source_id'].value_counts()"
      ],
      "execution_count": 22,
      "outputs": [
        {
          "output_type": "execute_result",
          "data": {
            "text/plain": [
              "Emergency                                        55991\n",
              "Referral                                         11513\n",
              "Transferred from another health care facility     4861\n",
              "Name: admission_source_id, dtype: int64"
            ]
          },
          "metadata": {
            "tags": []
          },
          "execution_count": 22
        }
      ]
    },
    {
      "cell_type": "code",
      "metadata": {
        "id": "iYaeoRJlxl3w",
        "colab_type": "code",
        "colab": {
          "base_uri": "https://localhost:8080/",
          "height": 102
        },
        "outputId": "618e7a39-73b1-451c-9e15-5f0bbdea6f80"
      },
      "source": [
        "df[df['admission_type_id'] == 'Elective']['admission_source_id'].value_counts()"
      ],
      "execution_count": 23,
      "outputs": [
        {
          "output_type": "execute_result",
          "data": {
            "text/plain": [
              "Referral                                         16432\n",
              "Transferred from another health care facility     1247\n",
              "Emergency                                          921\n",
              "Not Available                                       59\n",
              "Name: admission_source_id, dtype: int64"
            ]
          },
          "metadata": {
            "tags": []
          },
          "execution_count": 23
        }
      ]
    },
    {
      "cell_type": "code",
      "metadata": {
        "id": "es6MRUEYxuBf",
        "colab_type": "code",
        "colab": {
          "base_uri": "https://localhost:8080/",
          "height": 85
        },
        "outputId": "4bf3a509-2d51-4743-9ea3-5eb286803eba"
      },
      "source": [
        "df[df['admission_type_id'] == 'Not Available']['admission_source_id'].value_counts()"
      ],
      "execution_count": 24,
      "outputs": [
        {
          "output_type": "execute_result",
          "data": {
            "text/plain": [
              "Not Available                                    5732\n",
              "Referral                                         2473\n",
              "Transferred from another health care facility      71\n",
              "Name: admission_source_id, dtype: int64"
            ]
          },
          "metadata": {
            "tags": []
          },
          "execution_count": 24
        }
      ]
    },
    {
      "cell_type": "code",
      "metadata": {
        "id": "oCHapSrW7zG7",
        "colab_type": "code",
        "colab": {
          "base_uri": "https://localhost:8080/",
          "height": 68
        },
        "outputId": "6d68fbf2-2350-41cf-e71d-122b93eaa97f"
      },
      "source": [
        "df[df['admission_source_id'] == 'Emergency']['admission_type_id'].value_counts()"
      ],
      "execution_count": 25,
      "outputs": [
        {
          "output_type": "execute_result",
          "data": {
            "text/plain": [
              "Emergency    55991\n",
              "Elective       921\n",
              "Name: admission_type_id, dtype: int64"
            ]
          },
          "metadata": {
            "tags": []
          },
          "execution_count": 25
        }
      ]
    },
    {
      "cell_type": "code",
      "metadata": {
        "id": "KKlD2-3479HB",
        "colab_type": "code",
        "colab": {
          "base_uri": "https://localhost:8080/",
          "height": 85
        },
        "outputId": "b1ac7372-42d6-4803-ab59-ec8977c46b80"
      },
      "source": [
        "df[df['admission_source_id'] == 'Referral']['admission_type_id'].value_counts()"
      ],
      "execution_count": 26,
      "outputs": [
        {
          "output_type": "execute_result",
          "data": {
            "text/plain": [
              "Elective         16432\n",
              "Emergency        11513\n",
              "Not Available     2473\n",
              "Name: admission_type_id, dtype: int64"
            ]
          },
          "metadata": {
            "tags": []
          },
          "execution_count": 26
        }
      ]
    },
    {
      "cell_type": "code",
      "metadata": {
        "id": "qUO2Z_sg8BwV",
        "colab_type": "code",
        "colab": {
          "base_uri": "https://localhost:8080/",
          "height": 85
        },
        "outputId": "8b582e00-5298-444b-8bcf-f02b609caeab"
      },
      "source": [
        "df[df['admission_source_id'] == 'Transferred from another health care facility']['admission_type_id'].value_counts()"
      ],
      "execution_count": 27,
      "outputs": [
        {
          "output_type": "execute_result",
          "data": {
            "text/plain": [
              "Emergency        4861\n",
              "Elective         1247\n",
              "Not Available      71\n",
              "Name: admission_type_id, dtype: int64"
            ]
          },
          "metadata": {
            "tags": []
          },
          "execution_count": 27
        }
      ]
    },
    {
      "cell_type": "code",
      "metadata": {
        "id": "v88m14YR8NiA",
        "colab_type": "code",
        "colab": {
          "base_uri": "https://localhost:8080/",
          "height": 68
        },
        "outputId": "7b93b413-ee62-4c58-eb52-a647890c6696"
      },
      "source": [
        "df[df['admission_source_id'] == 'Not Available']['admission_type_id'].value_counts()"
      ],
      "execution_count": 28,
      "outputs": [
        {
          "output_type": "execute_result",
          "data": {
            "text/plain": [
              "Not Available    5732\n",
              "Elective           59\n",
              "Name: admission_type_id, dtype: int64"
            ]
          },
          "metadata": {
            "tags": []
          },
          "execution_count": 28
        }
      ]
    },
    {
      "cell_type": "markdown",
      "metadata": {
        "id": "HUpJ0HvLGTyk",
        "colab_type": "text"
      },
      "source": [
        "## Checking Race Values"
      ]
    },
    {
      "cell_type": "markdown",
      "metadata": {
        "id": "oeBU8i3QGXaB",
        "colab_type": "text"
      },
      "source": [
        "### Dropping Nan"
      ]
    },
    {
      "cell_type": "code",
      "metadata": {
        "id": "gbdTnL6BA0cW",
        "colab_type": "code",
        "colab": {
          "base_uri": "https://localhost:8080/",
          "height": 34
        },
        "outputId": "d7be8427-71c4-4980-b91d-8222a78134c3"
      },
      "source": [
        "df_2 = df.dropna()\n",
        "df.shape, df_2.shape"
      ],
      "execution_count": 29,
      "outputs": [
        {
          "output_type": "execute_result",
          "data": {
            "text/plain": [
              "((99300, 44), (97070, 44))"
            ]
          },
          "metadata": {
            "tags": []
          },
          "execution_count": 29
        }
      ]
    },
    {
      "cell_type": "code",
      "metadata": {
        "id": "EP6AVkJpFjyC",
        "colab_type": "code",
        "colab": {}
      },
      "source": [
        "X = df_2.drop('readmitted', axis = 1)\n",
        "X = pd.get_dummies(X, drop_first = True)"
      ],
      "execution_count": 30,
      "outputs": []
    },
    {
      "cell_type": "code",
      "metadata": {
        "id": "Nuw5YRTeFndd",
        "colab_type": "code",
        "colab": {}
      },
      "source": [
        "y = df_2['readmitted']"
      ],
      "execution_count": 31,
      "outputs": []
    },
    {
      "cell_type": "code",
      "metadata": {
        "id": "C1AkyV32F0YW",
        "colab_type": "code",
        "colab": {
          "base_uri": "https://localhost:8080/",
          "height": 34
        },
        "outputId": "f90ef448-9fbf-4420-fd9c-730a6b63646b"
      },
      "source": [
        "lr = LogisticRegression(random_state = 1, solver = 'liblinear')\n",
        "X_train, X_test, y_train, y_test = train_test_split(X, y, random_state = 1, test_size = 0.3)\n",
        "lr.fit(X_train, y_train)\n",
        "y_pred = lr.predict(X_test)\n",
        "recall_score(y_test, y_pred)"
      ],
      "execution_count": 32,
      "outputs": [
        {
          "output_type": "execute_result",
          "data": {
            "text/plain": [
              "0.01415236374585968"
            ]
          },
          "metadata": {
            "tags": []
          },
          "execution_count": 32
        }
      ]
    },
    {
      "cell_type": "markdown",
      "metadata": {
        "id": "NRnuYpkSHMsh",
        "colab_type": "text"
      },
      "source": [
        "### Relacing with Mode"
      ]
    },
    {
      "cell_type": "code",
      "metadata": {
        "id": "VQ7ODR7NSING",
        "colab_type": "code",
        "colab": {
          "base_uri": "https://localhost:8080/",
          "height": 34
        },
        "outputId": "e5b7ed98-8be1-4c32-ebe0-7eb9039a4c53"
      },
      "source": [
        "df['race'].isna().sum()"
      ],
      "execution_count": 33,
      "outputs": [
        {
          "output_type": "execute_result",
          "data": {
            "text/plain": [
              "2230"
            ]
          },
          "metadata": {
            "tags": []
          },
          "execution_count": 33
        }
      ]
    },
    {
      "cell_type": "code",
      "metadata": {
        "id": "v_k5Oma5G1w2",
        "colab_type": "code",
        "colab": {
          "base_uri": "https://localhost:8080/",
          "height": 34
        },
        "outputId": "25d84142-75fb-4f35-b2fc-a71724eb173c"
      },
      "source": [
        "X = df.drop('readmitted', axis = 1)\n",
        "X['race'] = X['race'].fillna(X['race'].mode()[0])\n",
        "print(X['race'].isna().sum())\n",
        "X = pd.get_dummies(X, drop_first = True)\n",
        "y = df['readmitted']"
      ],
      "execution_count": 34,
      "outputs": [
        {
          "output_type": "stream",
          "text": [
            "0\n"
          ],
          "name": "stdout"
        }
      ]
    },
    {
      "cell_type": "code",
      "metadata": {
        "id": "ZG6XpQMRHoC2",
        "colab_type": "code",
        "colab": {
          "base_uri": "https://localhost:8080/",
          "height": 34
        },
        "outputId": "7a6b1106-8314-44a6-95ce-63fc7685cde5"
      },
      "source": [
        "lr = LogisticRegression(random_state = 1, solver = 'liblinear')\n",
        "X_train, X_test, y_train, y_test = train_test_split(X, y, random_state = 1, test_size = 0.3)\n",
        "lr.fit(X_train, y_train)\n",
        "y_pred = lr.predict(X_test)\n",
        "recall_score(y_test, y_pred)"
      ],
      "execution_count": 35,
      "outputs": [
        {
          "output_type": "execute_result",
          "data": {
            "text/plain": [
              "0.013657957244655582"
            ]
          },
          "metadata": {
            "tags": []
          },
          "execution_count": 35
        }
      ]
    },
    {
      "cell_type": "markdown",
      "metadata": {
        "id": "ZQVcEJYQH3Qo",
        "colab_type": "text"
      },
      "source": [
        "### Filling with probability ratio"
      ]
    },
    {
      "cell_type": "code",
      "metadata": {
        "id": "hFO9uqDgSi7V",
        "colab_type": "code",
        "colab": {
          "base_uri": "https://localhost:8080/",
          "height": 34
        },
        "outputId": "402c8ed5-c016-479b-db3c-244a65585025"
      },
      "source": [
        "df['race'].isna().sum()"
      ],
      "execution_count": 36,
      "outputs": [
        {
          "output_type": "execute_result",
          "data": {
            "text/plain": [
              "2230"
            ]
          },
          "metadata": {
            "tags": []
          },
          "execution_count": 36
        }
      ]
    },
    {
      "cell_type": "code",
      "metadata": {
        "id": "x0GIBDm2HpHo",
        "colab_type": "code",
        "colab": {
          "base_uri": "https://localhost:8080/",
          "height": 34
        },
        "outputId": "95ce45d7-19c4-45e9-a060-dee6eee4bc99"
      },
      "source": [
        "X = df.drop('readmitted', axis = 1)\n",
        "vc = X['race'].value_counts(normalize = True)\n",
        "miss = X['race'].isna()\n",
        "X.loc[miss, 'race'] = np.random.choice(vc.index, size = miss.sum(), p = vc.values)\n",
        "X['race'].isna().sum()"
      ],
      "execution_count": 37,
      "outputs": [
        {
          "output_type": "execute_result",
          "data": {
            "text/plain": [
              "0"
            ]
          },
          "metadata": {
            "tags": []
          },
          "execution_count": 37
        }
      ]
    },
    {
      "cell_type": "code",
      "metadata": {
        "id": "y3UV15_DS_z_",
        "colab_type": "code",
        "colab": {
          "base_uri": "https://localhost:8080/",
          "height": 34
        },
        "outputId": "07dfca45-4f56-49aa-a96b-76320acaaef6"
      },
      "source": [
        "X = pd.get_dummies(X, drop_first = True)\n",
        "y = df['readmitted']\n",
        "lr = LogisticRegression(random_state = 1, solver = 'liblinear')\n",
        "X_train, X_test, y_train, y_test = train_test_split(X, y, random_state = 1, test_size = 0.3)\n",
        "lr.fit(X_train, y_train)\n",
        "y_pred = lr.predict(X_test)\n",
        "recall_score(y_test, y_pred)"
      ],
      "execution_count": 38,
      "outputs": [
        {
          "output_type": "execute_result",
          "data": {
            "text/plain": [
              "0.01336104513064133"
            ]
          },
          "metadata": {
            "tags": []
          },
          "execution_count": 38
        }
      ]
    },
    {
      "cell_type": "markdown",
      "metadata": {
        "id": "d3o2UtzAFBXg",
        "colab_type": "text"
      },
      "source": [
        "## Treating Race Column (Dropping Nans) before moving on Age Column"
      ]
    },
    {
      "cell_type": "code",
      "metadata": {
        "id": "wLh2aDWvYYQp",
        "colab_type": "code",
        "colab": {
          "base_uri": "https://localhost:8080/",
          "height": 34
        },
        "outputId": "e5294ad6-9d27-4295-f8d0-9ad275a9891b"
      },
      "source": [
        "df['race'].isna().sum(), df.shape"
      ],
      "execution_count": 39,
      "outputs": [
        {
          "output_type": "execute_result",
          "data": {
            "text/plain": [
              "(2230, (99300, 44))"
            ]
          },
          "metadata": {
            "tags": []
          },
          "execution_count": 39
        }
      ]
    },
    {
      "cell_type": "code",
      "metadata": {
        "id": "XGYAy_IMTEEl",
        "colab_type": "code",
        "colab": {
          "base_uri": "https://localhost:8080/",
          "height": 34
        },
        "outputId": "c949fc04-2bb7-440b-d279-cb5af7f50cc1"
      },
      "source": [
        "df = df.dropna()\n",
        "df['race'].isna().sum(), df.shape"
      ],
      "execution_count": 40,
      "outputs": [
        {
          "output_type": "execute_result",
          "data": {
            "text/plain": [
              "(0, (97070, 44))"
            ]
          },
          "metadata": {
            "tags": []
          },
          "execution_count": 40
        }
      ]
    },
    {
      "cell_type": "markdown",
      "metadata": {
        "id": "4lcWeETVWk8w",
        "colab_type": "text"
      },
      "source": [
        "## Age Values"
      ]
    },
    {
      "cell_type": "markdown",
      "metadata": {
        "id": "OZdHKK6HnV00",
        "colab_type": "text"
      },
      "source": [
        "### Original Categories"
      ]
    },
    {
      "cell_type": "code",
      "metadata": {
        "id": "5UaUEUZAo50N",
        "colab_type": "code",
        "colab": {
          "base_uri": "https://localhost:8080/",
          "height": 34
        },
        "outputId": "19427807-784c-4215-e8a7-767d03f0d64e"
      },
      "source": [
        "X = df.drop('readmitted', 1)\n",
        "X = pd.get_dummies(X, drop_first = True)\n",
        "y = df['readmitted']\n",
        "lr = LogisticRegression(random_state = 1, solver = 'liblinear')\n",
        "X_train, X_test, y_train, y_test = train_test_split(X, y, random_state = 1, test_size = 0.3)\n",
        "lr.fit(X_train, y_train)\n",
        "y_pred = lr.predict(X_test)\n",
        "recall_score(y_test, y_pred)"
      ],
      "execution_count": 41,
      "outputs": [
        {
          "output_type": "execute_result",
          "data": {
            "text/plain": [
              "0.01415236374585968"
            ]
          },
          "metadata": {
            "tags": []
          },
          "execution_count": 41
        }
      ]
    },
    {
      "cell_type": "markdown",
      "metadata": {
        "id": "-_sDy4-iWqg8",
        "colab_type": "text"
      },
      "source": [
        "Lower Numerical Range of Original Categories"
      ]
    },
    {
      "cell_type": "code",
      "metadata": {
        "id": "vsOoEzjTYhIt",
        "colab_type": "code",
        "colab": {
          "base_uri": "https://localhost:8080/",
          "height": 204
        },
        "outputId": "342079a0-6c9a-4aee-801a-4276e1951346"
      },
      "source": [
        "X = df.drop('readmitted', 1)\n",
        "X['age'].value_counts()"
      ],
      "execution_count": 42,
      "outputs": [
        {
          "output_type": "execute_result",
          "data": {
            "text/plain": [
              "[70-80)     24732\n",
              "[60-70)     21562\n",
              "[50-60)     16698\n",
              "[80-90)     16042\n",
              "[40-50)      9386\n",
              "[30-40)      3688\n",
              "[90-100)     2521\n",
              "[20-30)      1601\n",
              "[10-20)       682\n",
              "[0-10)        158\n",
              "Name: age, dtype: int64"
            ]
          },
          "metadata": {
            "tags": []
          },
          "execution_count": 42
        }
      ]
    },
    {
      "cell_type": "code",
      "metadata": {
        "id": "7TaWHz97YwPG",
        "colab_type": "code",
        "colab": {}
      },
      "source": [
        "X['age'] = X['age'].replace({'[0-10)' : 0,\n",
        "                             '[10-20)' : 10,\n",
        "                             '[20-30)' : 20,\n",
        "                             '[30-40)' : 30,\n",
        "                             '[40-50)' : 40,\n",
        "                             '[50-60)' : 50,\n",
        "                             '[60-70)' : 60,\n",
        "                             '[70-80)' : 70,\n",
        "                             '[80-90)' : 80,\n",
        "                             '[90-100)' : 90})"
      ],
      "execution_count": 43,
      "outputs": []
    },
    {
      "cell_type": "code",
      "metadata": {
        "id": "HpUCuKIvd96v",
        "colab_type": "code",
        "colab": {
          "base_uri": "https://localhost:8080/",
          "height": 34
        },
        "outputId": "d7cc9e62-933e-459c-84aa-764aa1b4d47f"
      },
      "source": [
        "X = pd.get_dummies(X, drop_first = True)\n",
        "y = df['readmitted']\n",
        "lr = LogisticRegression(random_state = 1, solver = 'liblinear')\n",
        "X_train, X_test, y_train, y_test = train_test_split(X, y, random_state = 1, test_size = 0.3)\n",
        "lr.fit(X_train, y_train)\n",
        "y_pred = lr.predict(X_test)\n",
        "recall_score(y_test, y_pred)"
      ],
      "execution_count": 44,
      "outputs": [
        {
          "output_type": "execute_result",
          "data": {
            "text/plain": [
              "0.01415236374585968"
            ]
          },
          "metadata": {
            "tags": []
          },
          "execution_count": 44
        }
      ]
    },
    {
      "cell_type": "markdown",
      "metadata": {
        "id": "Q1CVPcs2ed0q",
        "colab_type": "text"
      },
      "source": [
        "Mid Numeircal Value of Original Categories"
      ]
    },
    {
      "cell_type": "code",
      "metadata": {
        "id": "wah4vid6elKz",
        "colab_type": "code",
        "colab": {
          "base_uri": "https://localhost:8080/",
          "height": 34
        },
        "outputId": "a680fd27-48b5-472b-d79d-01a3614ad811"
      },
      "source": [
        "X = df.drop('readmitted', 1)\n",
        "X['age'] = X['age'].replace({'[0-10)' : 5,\n",
        "                             '[10-20)' : 15,\n",
        "                             '[20-30)' : 25,\n",
        "                             '[30-40)' : 35,\n",
        "                             '[40-50)' : 45,\n",
        "                             '[50-60)' : 55,\n",
        "                             '[60-70)' : 65,\n",
        "                             '[70-80)' : 75,\n",
        "                             '[80-90)' : 85,\n",
        "                             '[90-100)' : 95})\n",
        "X = pd.get_dummies(X, drop_first = True)\n",
        "y = df['readmitted']\n",
        "lr = LogisticRegression(random_state = 1, solver = 'liblinear')\n",
        "X_train, X_test, y_train, y_test = train_test_split(X, y, random_state = 1, test_size = 0.3)\n",
        "lr.fit(X_train, y_train)\n",
        "y_pred = lr.predict(X_test)\n",
        "recall_score(y_test, y_pred)"
      ],
      "execution_count": 45,
      "outputs": [
        {
          "output_type": "execute_result",
          "data": {
            "text/plain": [
              "0.013550135501355014"
            ]
          },
          "metadata": {
            "tags": []
          },
          "execution_count": 45
        }
      ]
    },
    {
      "cell_type": "markdown",
      "metadata": {
        "id": "T38UYR1Om3Ip",
        "colab_type": "text"
      },
      "source": [
        "Higher Numeical Values of Original Categories"
      ]
    },
    {
      "cell_type": "code",
      "metadata": {
        "id": "mRGUrTYomQ_v",
        "colab_type": "code",
        "colab": {
          "base_uri": "https://localhost:8080/",
          "height": 34
        },
        "outputId": "7154bbee-cb7a-46cb-c3fc-261e4727205f"
      },
      "source": [
        "X = df.drop('readmitted', 1)\n",
        "X['age'] = X['age'].replace({'[0-10)' : 10,\n",
        "                             '[10-20)' : 20,\n",
        "                             '[20-30)' : 30,\n",
        "                             '[30-40)' : 40,\n",
        "                             '[40-50)' : 50,\n",
        "                             '[50-60)' : 60,\n",
        "                             '[60-70)' : 70,\n",
        "                             '[70-80)' : 80,\n",
        "                             '[80-90)' : 90,\n",
        "                             '[90-100)' : 100})\n",
        "X = pd.get_dummies(X, drop_first = True)\n",
        "y = df['readmitted']\n",
        "lr = LogisticRegression(random_state = 1, solver = 'liblinear')\n",
        "X_train, X_test, y_train, y_test = train_test_split(X, y, random_state = 1, test_size = 0.3)\n",
        "lr.fit(X_train, y_train)\n",
        "y_pred = lr.predict(X_test)\n",
        "recall_score(y_test, y_pred)"
      ],
      "execution_count": 46,
      "outputs": [
        {
          "output_type": "execute_result",
          "data": {
            "text/plain": [
              "0.01415236374585968"
            ]
          },
          "metadata": {
            "tags": []
          },
          "execution_count": 46
        }
      ]
    },
    {
      "cell_type": "markdown",
      "metadata": {
        "id": "r21njefCnC_V",
        "colab_type": "text"
      },
      "source": [
        "### 5 Categories (0-20) (20-40) (40-60) (60-90) (90-100)"
      ]
    },
    {
      "cell_type": "code",
      "metadata": {
        "id": "2QBUeQOJpEdL",
        "colab_type": "code",
        "colab": {
          "base_uri": "https://localhost:8080/",
          "height": 34
        },
        "outputId": "6d975fb2-03b0-43b8-e49d-8841cebdd1f0"
      },
      "source": [
        "X = df.drop('readmitted', 1)\n",
        "X['age'] = X['age'].replace({'[0-10)' : '[0-20)',\n",
        "                             '[10-20)' : '[0-20)',\n",
        "                             '[20-30)' : '[20-40)',\n",
        "                             '[30-40)' : '[20-40)',\n",
        "                             '[40-50)' : '[40-60)',\n",
        "                             '[50-60)' : '[40-60)',\n",
        "                             '[60-70)' : '[60-90)',\n",
        "                             '[70-80)' : '[60-90)',\n",
        "                             '[80-90)' : '[60-90)',\n",
        "                             '[90-100)' : '[90-100)'})\n",
        "X = pd.get_dummies(X, drop_first = True)\n",
        "y = df['readmitted']\n",
        "lr = LogisticRegression(random_state = 1, solver = 'liblinear')\n",
        "X_train, X_test, y_train, y_test = train_test_split(X, y, random_state = 1, test_size = 0.3)\n",
        "lr.fit(X_train, y_train)\n",
        "y_pred = lr.predict(X_test)\n",
        "recall_score(y_test, y_pred)"
      ],
      "execution_count": 47,
      "outputs": [
        {
          "output_type": "execute_result",
          "data": {
            "text/plain": [
              "0.013550135501355014"
            ]
          },
          "metadata": {
            "tags": []
          },
          "execution_count": 47
        }
      ]
    },
    {
      "cell_type": "markdown",
      "metadata": {
        "id": "dX3OXe2Hnjly",
        "colab_type": "text"
      },
      "source": [
        "Lower Numerical Values"
      ]
    },
    {
      "cell_type": "code",
      "metadata": {
        "id": "1tp_bMfzm8jR",
        "colab_type": "code",
        "colab": {
          "base_uri": "https://localhost:8080/",
          "height": 34
        },
        "outputId": "8372ed31-e4ed-47b9-be2c-2860915c8e41"
      },
      "source": [
        "X = df.drop('readmitted', 1)\n",
        "X['age'] = X['age'].replace({'[0-10)' : 0,\n",
        "                             '[10-20)' : 0,\n",
        "                             '[20-30)' : 20,\n",
        "                             '[30-40)' : 20,\n",
        "                             '[40-50)' : 40,\n",
        "                             '[50-60)' : 40,\n",
        "                             '[60-70)' : 60,\n",
        "                             '[70-80)' : 60,\n",
        "                             '[80-90)' : 60,\n",
        "                             '[90-100)' : 90})\n",
        "X = pd.get_dummies(X, drop_first = True)\n",
        "y = df['readmitted']\n",
        "lr = LogisticRegression(random_state = 1, solver = 'liblinear')\n",
        "X_train, X_test, y_train, y_test = train_test_split(X, y, random_state = 1, test_size = 0.3)\n",
        "lr.fit(X_train, y_train)\n",
        "y_pred = lr.predict(X_test)\n",
        "recall_score(y_test, y_pred)"
      ],
      "execution_count": 48,
      "outputs": [
        {
          "output_type": "execute_result",
          "data": {
            "text/plain": [
              "0.01415236374585968"
            ]
          },
          "metadata": {
            "tags": []
          },
          "execution_count": 48
        }
      ]
    },
    {
      "cell_type": "markdown",
      "metadata": {
        "id": "JWnK_i2bpmqX",
        "colab_type": "text"
      },
      "source": [
        "Mid Numeircal Values"
      ]
    },
    {
      "cell_type": "code",
      "metadata": {
        "id": "B8LLUidLpixE",
        "colab_type": "code",
        "colab": {
          "base_uri": "https://localhost:8080/",
          "height": 34
        },
        "outputId": "4c4426dc-2372-4d24-9d2f-960e16b4d7ac"
      },
      "source": [
        "X = df.drop('readmitted', 1)\n",
        "X['age'] = X['age'].replace({'[0-10)' : 10,\n",
        "                             '[10-20)' : 10,\n",
        "                             '[20-30)' : 30,\n",
        "                             '[30-40)' : 30,\n",
        "                             '[40-50)' : 50,\n",
        "                             '[50-60)' : 50,\n",
        "                             '[60-70)' : 75,\n",
        "                             '[70-80)' : 75,\n",
        "                             '[80-90)' : 75,\n",
        "                             '[90-100)' : 95})\n",
        "X = pd.get_dummies(X, drop_first = True)\n",
        "y = df['readmitted']\n",
        "lr = LogisticRegression(random_state = 1, solver = 'liblinear')\n",
        "X_train, X_test, y_train, y_test = train_test_split(X, y, random_state = 1, test_size = 0.3)\n",
        "lr.fit(X_train, y_train)\n",
        "y_pred = lr.predict(X_test)\n",
        "recall_score(y_test, y_pred)"
      ],
      "execution_count": 49,
      "outputs": [
        {
          "output_type": "execute_result",
          "data": {
            "text/plain": [
              "0.014453477868112014"
            ]
          },
          "metadata": {
            "tags": []
          },
          "execution_count": 49
        }
      ]
    },
    {
      "cell_type": "markdown",
      "metadata": {
        "id": "cchp3NW8pz78",
        "colab_type": "text"
      },
      "source": [
        "Higher Numerical Values"
      ]
    },
    {
      "cell_type": "code",
      "metadata": {
        "id": "19X7mlmMpxUH",
        "colab_type": "code",
        "colab": {
          "base_uri": "https://localhost:8080/",
          "height": 34
        },
        "outputId": "99edaf0f-d9fd-4aad-bca4-574c2dcd6c64"
      },
      "source": [
        "X = df.drop('readmitted', 1)\n",
        "X['age'] = X['age'].replace({'[0-10)' : 20,\n",
        "                             '[10-20)' : 20,\n",
        "                             '[20-30)' : 40,\n",
        "                             '[30-40)' : 40,\n",
        "                             '[40-50)' : 60,\n",
        "                             '[50-60)' : 60,\n",
        "                             '[60-70)' : 90,\n",
        "                             '[70-80)' : 90,\n",
        "                             '[80-90)' : 90,\n",
        "                             '[90-100)' : 100})\n",
        "X = pd.get_dummies(X, drop_first = True)\n",
        "y = df['readmitted']\n",
        "lr = LogisticRegression(random_state = 1, solver = 'liblinear')\n",
        "X_train, X_test, y_train, y_test = train_test_split(X, y, random_state = 1, test_size = 0.3)\n",
        "lr.fit(X_train, y_train)\n",
        "y_pred = lr.predict(X_test)\n",
        "recall_score(y_test, y_pred)"
      ],
      "execution_count": 50,
      "outputs": [
        {
          "output_type": "execute_result",
          "data": {
            "text/plain": [
              "0.01415236374585968"
            ]
          },
          "metadata": {
            "tags": []
          },
          "execution_count": 50
        }
      ]
    },
    {
      "cell_type": "markdown",
      "metadata": {
        "id": "RZGvFggUqFHU",
        "colab_type": "text"
      },
      "source": [
        "### 3 Categories (0-40) (40-90) (90-100)"
      ]
    },
    {
      "cell_type": "code",
      "metadata": {
        "id": "ySSaob1sqBdg",
        "colab_type": "code",
        "colab": {
          "base_uri": "https://localhost:8080/",
          "height": 34
        },
        "outputId": "24ee874f-3347-4c1f-a16e-f4a9ac54f4e6"
      },
      "source": [
        "X = df.drop('readmitted', 1)\n",
        "X['age'] = X['age'].replace({'[0-10)' : '[0-40)',\n",
        "                             '[10-20)' : '[0-40)',\n",
        "                             '[20-30)' : '[0-40)',\n",
        "                             '[30-40)' : '[0-40)',\n",
        "                             '[40-50)' : '[40-90)',\n",
        "                             '[50-60)' : '[40-90)',\n",
        "                             '[60-70)' : '[40-90)',\n",
        "                             '[70-80)' : '[40-90)',\n",
        "                             '[80-90)' : '[40-90)',\n",
        "                             '[90-100)' : '[90-100)'})\n",
        "X = pd.get_dummies(X, drop_first = True)\n",
        "y = df['readmitted']\n",
        "lr = LogisticRegression(random_state = 1, solver = 'liblinear')\n",
        "X_train, X_test, y_train, y_test = train_test_split(X, y, random_state = 1, test_size = 0.3)\n",
        "lr.fit(X_train, y_train)\n",
        "y_pred = lr.predict(X_test)\n",
        "recall_score(y_test, y_pred)"
      ],
      "execution_count": 51,
      "outputs": [
        {
          "output_type": "execute_result",
          "data": {
            "text/plain": [
              "0.01415236374585968"
            ]
          },
          "metadata": {
            "tags": []
          },
          "execution_count": 51
        }
      ]
    },
    {
      "cell_type": "markdown",
      "metadata": {
        "id": "iJYV6d_VutOF",
        "colab_type": "text"
      },
      "source": [
        "Lower Numeical Values"
      ]
    },
    {
      "cell_type": "code",
      "metadata": {
        "id": "T9gIIAUquoCZ",
        "colab_type": "code",
        "colab": {
          "base_uri": "https://localhost:8080/",
          "height": 34
        },
        "outputId": "7c758d51-11c2-4e4e-f063-38e774fa1cec"
      },
      "source": [
        "X = df.drop('readmitted', 1)\n",
        "X['age'] = X['age'].replace({'[0-10)' : 0,\n",
        "                             '[10-20)' : 0,\n",
        "                             '[20-30)' : 0,\n",
        "                             '[30-40)' : 0,\n",
        "                             '[40-50)' : 40,\n",
        "                             '[50-60)' : 40,\n",
        "                             '[60-70)' : 40,\n",
        "                             '[70-80)' : 40,\n",
        "                             '[80-90)' : 40,\n",
        "                             '[90-100)' : 90})\n",
        "X = pd.get_dummies(X, drop_first = True)\n",
        "y = df['readmitted']\n",
        "lr = LogisticRegression(random_state = 1, solver = 'liblinear')\n",
        "X_train, X_test, y_train, y_test = train_test_split(X, y, random_state = 1, test_size = 0.3)\n",
        "lr.fit(X_train, y_train)\n",
        "y_pred = lr.predict(X_test)\n",
        "recall_score(y_test, y_pred)"
      ],
      "execution_count": 52,
      "outputs": [
        {
          "output_type": "execute_result",
          "data": {
            "text/plain": [
              "0.01415236374585968"
            ]
          },
          "metadata": {
            "tags": []
          },
          "execution_count": 52
        }
      ]
    },
    {
      "cell_type": "markdown",
      "metadata": {
        "id": "Kr6Hqnwtu2eP",
        "colab_type": "text"
      },
      "source": [
        "Mid Numerical Values"
      ]
    },
    {
      "cell_type": "code",
      "metadata": {
        "id": "I65V4EpYuzS3",
        "colab_type": "code",
        "colab": {
          "base_uri": "https://localhost:8080/",
          "height": 34
        },
        "outputId": "6dddbdee-eb4a-4392-977f-e320e88bbcc1"
      },
      "source": [
        "X = df.drop('readmitted', 1)\n",
        "X['age'] = X['age'].replace({'[0-10)' : 20,\n",
        "                             '[10-20)' : 20,\n",
        "                             '[20-30)' : 20,\n",
        "                             '[30-40)' : 20,\n",
        "                             '[40-50)' : 65,\n",
        "                             '[50-60)' : 65,\n",
        "                             '[60-70)' : 65,\n",
        "                             '[70-80)' : 65,\n",
        "                             '[80-90)' : 65,\n",
        "                             '[90-100)' : 95})\n",
        "X = pd.get_dummies(X, drop_first = True)\n",
        "y = df['readmitted']\n",
        "lr = LogisticRegression(random_state = 1, solver = 'liblinear')\n",
        "X_train, X_test, y_train, y_test = train_test_split(X, y, random_state = 1, test_size = 0.3)\n",
        "lr.fit(X_train, y_train)\n",
        "y_pred = lr.predict(X_test)\n",
        "recall_score(y_test, y_pred)"
      ],
      "execution_count": 53,
      "outputs": [
        {
          "output_type": "execute_result",
          "data": {
            "text/plain": [
              "0.01415236374585968"
            ]
          },
          "metadata": {
            "tags": []
          },
          "execution_count": 53
        }
      ]
    },
    {
      "cell_type": "markdown",
      "metadata": {
        "id": "ZULdM18yvHL7",
        "colab_type": "text"
      },
      "source": [
        "Higher Numerical Values"
      ]
    },
    {
      "cell_type": "code",
      "metadata": {
        "id": "auSE5bKivBiE",
        "colab_type": "code",
        "colab": {
          "base_uri": "https://localhost:8080/",
          "height": 34
        },
        "outputId": "e8341e25-afe8-4a5f-9cda-7faf68d8e118"
      },
      "source": [
        "X = df.drop('readmitted', 1)\n",
        "X['age'] = X['age'].replace({'[0-10)' : 40,\n",
        "                             '[10-20)' : 40,\n",
        "                             '[20-30)' : 40,\n",
        "                             '[30-40)' : 40,\n",
        "                             '[40-50)' : 90,\n",
        "                             '[50-60)' : 90,\n",
        "                             '[60-70)' : 90,\n",
        "                             '[70-80)' : 90,\n",
        "                             '[80-90)' : 90,\n",
        "                             '[90-100)' : 100})\n",
        "X = pd.get_dummies(X, drop_first = True)\n",
        "y = df['readmitted']\n",
        "lr = LogisticRegression(random_state = 1, solver = 'liblinear')\n",
        "X_train, X_test, y_train, y_test = train_test_split(X, y, random_state = 1, test_size = 0.3)\n",
        "lr.fit(X_train, y_train)\n",
        "y_pred = lr.predict(X_test)\n",
        "recall_score(y_test, y_pred)"
      ],
      "execution_count": 54,
      "outputs": [
        {
          "output_type": "execute_result",
          "data": {
            "text/plain": [
              "0.01415236374585968"
            ]
          },
          "metadata": {
            "tags": []
          },
          "execution_count": 54
        }
      ]
    },
    {
      "cell_type": "markdown",
      "metadata": {
        "colab_type": "text",
        "id": "K6DrxrnUvdne"
      },
      "source": [
        "### 3 Categories (0-50) (50-90) (90-100)"
      ]
    },
    {
      "cell_type": "code",
      "metadata": {
        "colab_type": "code",
        "id": "nocynxZivdng",
        "colab": {
          "base_uri": "https://localhost:8080/",
          "height": 34
        },
        "outputId": "26ec9902-ae03-4a75-efaf-231cfb570852"
      },
      "source": [
        "X = df.drop('readmitted', 1)\n",
        "X['age'] = X['age'].replace({'[0-10)' : '[0-50)',\n",
        "                             '[10-20)' : '[0-50)',\n",
        "                             '[20-30)' : '[0-50)',\n",
        "                             '[30-40)' : '[0-50)',\n",
        "                             '[40-50)' : '[0-50)',\n",
        "                             '[50-60)' : '[50-90)',\n",
        "                             '[60-70)' : '[50-90)',\n",
        "                             '[70-80)' : '[50-90)',\n",
        "                             '[80-90)' : '[50-90)',\n",
        "                             '[90-100)' : '[90-100)'})\n",
        "X = pd.get_dummies(X, drop_first = True)\n",
        "y = df['readmitted']\n",
        "lr = LogisticRegression(random_state = 1, solver = 'liblinear')\n",
        "X_train, X_test, y_train, y_test = train_test_split(X, y, random_state = 1, test_size = 0.3)\n",
        "lr.fit(X_train, y_train)\n",
        "y_pred = lr.predict(X_test)\n",
        "recall_score(y_test, y_pred)"
      ],
      "execution_count": 55,
      "outputs": [
        {
          "output_type": "execute_result",
          "data": {
            "text/plain": [
              "0.01415236374585968"
            ]
          },
          "metadata": {
            "tags": []
          },
          "execution_count": 55
        }
      ]
    },
    {
      "cell_type": "markdown",
      "metadata": {
        "colab_type": "text",
        "id": "JwL6ZCRYvdnm"
      },
      "source": [
        "Lower Numeical Values"
      ]
    },
    {
      "cell_type": "code",
      "metadata": {
        "colab_type": "code",
        "id": "fhcvHtsFvdnn",
        "colab": {
          "base_uri": "https://localhost:8080/",
          "height": 34
        },
        "outputId": "9c6aaa41-f4b8-4228-cc5c-30fec43afe43"
      },
      "source": [
        "X = df.drop('readmitted', 1)\n",
        "X['age'] = X['age'].replace({'[0-10)' : 0,\n",
        "                             '[10-20)' : 0,\n",
        "                             '[20-30)' : 0,\n",
        "                             '[30-40)' : 0,\n",
        "                             '[40-50)' : 0,\n",
        "                             '[50-60)' : 50,\n",
        "                             '[60-70)' : 50,\n",
        "                             '[70-80)' : 50,\n",
        "                             '[80-90)' : 50,\n",
        "                             '[90-100)' : 90})\n",
        "X = pd.get_dummies(X, drop_first = True)\n",
        "y = df['readmitted']\n",
        "lr = LogisticRegression(random_state = 1, solver = 'liblinear')\n",
        "X_train, X_test, y_train, y_test = train_test_split(X, y, random_state = 1, test_size = 0.3)\n",
        "lr.fit(X_train, y_train)\n",
        "y_pred = lr.predict(X_test)\n",
        "recall_score(y_test, y_pred)"
      ],
      "execution_count": 56,
      "outputs": [
        {
          "output_type": "execute_result",
          "data": {
            "text/plain": [
              "0.01415236374585968"
            ]
          },
          "metadata": {
            "tags": []
          },
          "execution_count": 56
        }
      ]
    },
    {
      "cell_type": "markdown",
      "metadata": {
        "colab_type": "text",
        "id": "oI4ZVZamvdns"
      },
      "source": [
        "Mid Numerical Values"
      ]
    },
    {
      "cell_type": "code",
      "metadata": {
        "colab_type": "code",
        "id": "uaaAW756vdnt",
        "colab": {
          "base_uri": "https://localhost:8080/",
          "height": 34
        },
        "outputId": "966becf4-3874-4553-cbcf-1b34e0dccd1c"
      },
      "source": [
        "X = df.drop('readmitted', 1)\n",
        "X['age'] = X['age'].replace({'[0-10)' : 25,\n",
        "                             '[10-20)' : 25,\n",
        "                             '[20-30)' : 25,\n",
        "                             '[30-40)' : 25,\n",
        "                             '[40-50)' : 25,\n",
        "                             '[50-60)' : 70,\n",
        "                             '[60-70)' : 70,\n",
        "                             '[70-80)' : 70,\n",
        "                             '[80-90)' : 70,\n",
        "                             '[90-100)' : 95})\n",
        "X = pd.get_dummies(X, drop_first = True)\n",
        "y = df['readmitted']\n",
        "lr = LogisticRegression(random_state = 1, solver = 'liblinear')\n",
        "X_train, X_test, y_train, y_test = train_test_split(X, y, random_state = 1, test_size = 0.3)\n",
        "lr.fit(X_train, y_train)\n",
        "y_pred = lr.predict(X_test)\n",
        "recall_score(y_test, y_pred)"
      ],
      "execution_count": 57,
      "outputs": [
        {
          "output_type": "execute_result",
          "data": {
            "text/plain": [
              "0.01415236374585968"
            ]
          },
          "metadata": {
            "tags": []
          },
          "execution_count": 57
        }
      ]
    },
    {
      "cell_type": "markdown",
      "metadata": {
        "colab_type": "text",
        "id": "dhnfUQeVvdn5"
      },
      "source": [
        "Higher Numerical Values"
      ]
    },
    {
      "cell_type": "code",
      "metadata": {
        "colab_type": "code",
        "id": "vdSKxppevdn6",
        "colab": {
          "base_uri": "https://localhost:8080/",
          "height": 34
        },
        "outputId": "4ffee845-99a8-4a07-abea-fa706eecdd71"
      },
      "source": [
        "X = df.drop('readmitted', 1)\n",
        "X['age'] = X['age'].replace({'[0-10)' : 50,\n",
        "                             '[10-20)' : 50,\n",
        "                             '[20-30)' : 50,\n",
        "                             '[30-40)' : 50,\n",
        "                             '[40-50)' : 50,\n",
        "                             '[50-60)' : 90,\n",
        "                             '[60-70)' : 90,\n",
        "                             '[70-80)' : 90,\n",
        "                             '[80-90)' : 90,\n",
        "                             '[90-100)' : 100})\n",
        "X = pd.get_dummies(X, drop_first = True)\n",
        "y = df['readmitted']\n",
        "lr = LogisticRegression(random_state = 1, solver = 'liblinear')\n",
        "X_train, X_test, y_train, y_test = train_test_split(X, y, random_state = 1, test_size = 0.3)\n",
        "lr.fit(X_train, y_train)\n",
        "y_pred = lr.predict(X_test)\n",
        "recall_score(y_test, y_pred)"
      ],
      "execution_count": 58,
      "outputs": [
        {
          "output_type": "execute_result",
          "data": {
            "text/plain": [
              "0.01415236374585968"
            ]
          },
          "metadata": {
            "tags": []
          },
          "execution_count": 58
        }
      ]
    },
    {
      "cell_type": "markdown",
      "metadata": {
        "id": "ma0EC1UA0DpH",
        "colab_type": "text"
      },
      "source": [
        "### 4 Categories According to Age Range - Child (0-10), Teen (10-20), Adult (20-60), Old (60-100)"
      ]
    },
    {
      "cell_type": "code",
      "metadata": {
        "id": "dm9_MK9WwBkY",
        "colab_type": "code",
        "colab": {
          "base_uri": "https://localhost:8080/",
          "height": 34
        },
        "outputId": "e66a3a65-75e6-4f86-9c3c-c27e30927743"
      },
      "source": [
        "X = df.drop('readmitted', 1)\n",
        "X['age'] = X['age'].replace({'[0-10)' : 'Child',\n",
        "                             '[10-20)' : 'Teen',\n",
        "                             '[20-30)' : 'Adult',\n",
        "                             '[30-40)' : 'Adult',\n",
        "                             '[40-50)' : 'Adult',\n",
        "                             '[50-60)' : 'Adult',\n",
        "                             '[60-70)' : 'Old',\n",
        "                             '[70-80)' : 'Old',\n",
        "                             '[80-90)' : 'Old',\n",
        "                             '[90-100)' : 'Old'})\n",
        "X = pd.get_dummies(X, drop_first = True)\n",
        "y = df['readmitted']\n",
        "lr = LogisticRegression(random_state = 1, solver = 'liblinear')\n",
        "X_train, X_test, y_train, y_test = train_test_split(X, y, random_state = 1, test_size = 0.3)\n",
        "lr.fit(X_train, y_train)\n",
        "y_pred = lr.predict(X_test)\n",
        "recall_score(y_test, y_pred)"
      ],
      "execution_count": 59,
      "outputs": [
        {
          "output_type": "execute_result",
          "data": {
            "text/plain": [
              "0.01415236374585968"
            ]
          },
          "metadata": {
            "tags": []
          },
          "execution_count": 59
        }
      ]
    },
    {
      "cell_type": "markdown",
      "metadata": {
        "colab_type": "text",
        "id": "HvM8TkN4AQdR"
      },
      "source": [
        "Lower Numeical Values"
      ]
    },
    {
      "cell_type": "code",
      "metadata": {
        "colab_type": "code",
        "id": "ScW3dJc4AQdj",
        "colab": {
          "base_uri": "https://localhost:8080/",
          "height": 34
        },
        "outputId": "dd90b7fb-adce-4095-d27e-69e27b0837f5"
      },
      "source": [
        "X = df.drop('readmitted', 1)\n",
        "X['age'] = X['age'].replace({'[0-10)' : 0,\n",
        "                             '[10-20)' : 10,\n",
        "                             '[20-30)' : 20,\n",
        "                             '[30-40)' : 20,\n",
        "                             '[40-50)' : 20,\n",
        "                             '[50-60)' : 20,\n",
        "                             '[60-70)' : 60,\n",
        "                             '[70-80)' : 60,\n",
        "                             '[80-90)' : 60,\n",
        "                             '[90-100)' : 60})\n",
        "X = pd.get_dummies(X, drop_first = True)\n",
        "y = df['readmitted']\n",
        "lr = LogisticRegression(random_state = 1, solver = 'liblinear')\n",
        "X_train, X_test, y_train, y_test = train_test_split(X, y, random_state = 1, test_size = 0.3)\n",
        "lr.fit(X_train, y_train)\n",
        "y_pred = lr.predict(X_test)\n",
        "recall_score(y_test, y_pred)"
      ],
      "execution_count": 60,
      "outputs": [
        {
          "output_type": "execute_result",
          "data": {
            "text/plain": [
              "0.01415236374585968"
            ]
          },
          "metadata": {
            "tags": []
          },
          "execution_count": 60
        }
      ]
    },
    {
      "cell_type": "markdown",
      "metadata": {
        "colab_type": "text",
        "id": "GBvGvkrjAQdx"
      },
      "source": [
        "Mid Numerical Values"
      ]
    },
    {
      "cell_type": "code",
      "metadata": {
        "colab_type": "code",
        "id": "Cu4tJ9LjAQdy",
        "colab": {
          "base_uri": "https://localhost:8080/",
          "height": 34
        },
        "outputId": "bc9bb603-fe9f-4247-a652-1de010b887c6"
      },
      "source": [
        "X = df.drop('readmitted', 1)\n",
        "X['age'] = X['age'].replace({'[0-10)' : 5,\n",
        "                             '[10-20)' : 15,\n",
        "                             '[20-30)' : 40,\n",
        "                             '[30-40)' : 40,\n",
        "                             '[40-50)' : 40,\n",
        "                             '[50-60)' : 40,\n",
        "                             '[60-70)' : 80,\n",
        "                             '[70-80)' : 80,\n",
        "                             '[80-90)' : 80,\n",
        "                             '[90-100)' : 80})\n",
        "X = pd.get_dummies(X, drop_first = True)\n",
        "y = df['readmitted']\n",
        "lr = LogisticRegression(random_state = 1, solver = 'liblinear')\n",
        "X_train, X_test, y_train, y_test = train_test_split(X, y, random_state = 1, test_size = 0.3)\n",
        "lr.fit(X_train, y_train)\n",
        "y_pred = lr.predict(X_test)\n",
        "recall_score(y_test, y_pred)"
      ],
      "execution_count": 61,
      "outputs": [
        {
          "output_type": "execute_result",
          "data": {
            "text/plain": [
              "0.01415236374585968"
            ]
          },
          "metadata": {
            "tags": []
          },
          "execution_count": 61
        }
      ]
    },
    {
      "cell_type": "markdown",
      "metadata": {
        "colab_type": "text",
        "id": "jaIS3SS9AQd3"
      },
      "source": [
        "Higher Numerical Values"
      ]
    },
    {
      "cell_type": "code",
      "metadata": {
        "colab_type": "code",
        "id": "tohHtu6XAQd3",
        "colab": {
          "base_uri": "https://localhost:8080/",
          "height": 34
        },
        "outputId": "65fe17f9-5938-484f-f965-285ecee27040"
      },
      "source": [
        "X = df.drop('readmitted', 1)\n",
        "X['age'] = X['age'].replace({'[0-10)' : 10,\n",
        "                             '[10-20)' : 20,\n",
        "                             '[20-30)' : 60,\n",
        "                             '[30-40)' : 60,\n",
        "                             '[40-50)' : 60,\n",
        "                             '[50-60)' : 60,\n",
        "                             '[60-70)' : 100,\n",
        "                             '[70-80)' : 100,\n",
        "                             '[80-90)' : 100,\n",
        "                             '[90-100)' : 100})\n",
        "X = pd.get_dummies(X, drop_first = True)\n",
        "y = df['readmitted']\n",
        "lr = LogisticRegression(random_state = 1, solver = 'liblinear')\n",
        "X_train, X_test, y_train, y_test = train_test_split(X, y, random_state = 1, test_size = 0.3)\n",
        "lr.fit(X_train, y_train)\n",
        "y_pred = lr.predict(X_test)\n",
        "recall_score(y_test, y_pred)"
      ],
      "execution_count": 62,
      "outputs": [
        {
          "output_type": "execute_result",
          "data": {
            "text/plain": [
              "0.01415236374585968"
            ]
          },
          "metadata": {
            "tags": []
          },
          "execution_count": 62
        }
      ]
    },
    {
      "cell_type": "markdown",
      "metadata": {
        "id": "ka0bJVtd14_M",
        "colab_type": "text"
      },
      "source": [
        "### 3 Categories According to Age Range - Young (0-20), Adult (20-60), Old (60-100)"
      ]
    },
    {
      "cell_type": "code",
      "metadata": {
        "id": "T2Xv_4y-1zZj",
        "colab_type": "code",
        "colab": {
          "base_uri": "https://localhost:8080/",
          "height": 34
        },
        "outputId": "22bf1c0e-b4cd-4448-eb96-8501566e712d"
      },
      "source": [
        "X = df.drop('readmitted', 1)\n",
        "X['age'] = X['age'].replace({'[0-10)' : 'Young',\n",
        "                             '[10-20)' : 'Young',\n",
        "                             '[20-30)' : 'Adult',\n",
        "                             '[30-40)' : 'Adult',\n",
        "                             '[40-50)' : 'Adult',\n",
        "                             '[50-60)' : 'Adult',\n",
        "                             '[60-70)' : 'Old',\n",
        "                             '[70-80)' : 'Old',\n",
        "                             '[80-90)' : 'Old',\n",
        "                             '[90-100)' : 'Old'})\n",
        "X = pd.get_dummies(X, drop_first = True)\n",
        "y = df['readmitted']\n",
        "lr = LogisticRegression(random_state = 1, solver = 'liblinear')\n",
        "X_train, X_test, y_train, y_test = train_test_split(X, y, random_state = 1, test_size = 0.3)\n",
        "lr.fit(X_train, y_train)\n",
        "y_pred = lr.predict(X_test)\n",
        "recall_score(y_test, y_pred)"
      ],
      "execution_count": 63,
      "outputs": [
        {
          "output_type": "execute_result",
          "data": {
            "text/plain": [
              "0.01415236374585968"
            ]
          },
          "metadata": {
            "tags": []
          },
          "execution_count": 63
        }
      ]
    },
    {
      "cell_type": "markdown",
      "metadata": {
        "colab_type": "text",
        "id": "tAXGJT-AAVA6"
      },
      "source": [
        "Lower Numeical Values"
      ]
    },
    {
      "cell_type": "code",
      "metadata": {
        "colab_type": "code",
        "id": "3M3wVwmlAVA7",
        "colab": {
          "base_uri": "https://localhost:8080/",
          "height": 34
        },
        "outputId": "698e1925-2620-43bf-ec02-3f9050e9896a"
      },
      "source": [
        "X = df.drop('readmitted', 1)\n",
        "X['age'] = X['age'].replace({'[0-10)' : 0,\n",
        "                             '[10-20)' : 0,\n",
        "                             '[20-30)' : 20,\n",
        "                             '[30-40)' : 20,\n",
        "                             '[40-50)' : 20,\n",
        "                             '[50-60)' : 20,\n",
        "                             '[60-70)' : 60,\n",
        "                             '[70-80)' : 60,\n",
        "                             '[80-90)' : 60,\n",
        "                             '[90-100)' : 60})\n",
        "X = pd.get_dummies(X, drop_first = True)\n",
        "y = df['readmitted']\n",
        "lr = LogisticRegression(random_state = 1, solver = 'liblinear')\n",
        "X_train, X_test, y_train, y_test = train_test_split(X, y, random_state = 1, test_size = 0.3)\n",
        "lr.fit(X_train, y_train)\n",
        "y_pred = lr.predict(X_test)\n",
        "recall_score(y_test, y_pred)"
      ],
      "execution_count": 64,
      "outputs": [
        {
          "output_type": "execute_result",
          "data": {
            "text/plain": [
              "0.01415236374585968"
            ]
          },
          "metadata": {
            "tags": []
          },
          "execution_count": 64
        }
      ]
    },
    {
      "cell_type": "markdown",
      "metadata": {
        "colab_type": "text",
        "id": "gDZHcuCbAVA9"
      },
      "source": [
        "Mid Numerical Values"
      ]
    },
    {
      "cell_type": "code",
      "metadata": {
        "colab_type": "code",
        "id": "RRH0bc9EAVA-",
        "colab": {
          "base_uri": "https://localhost:8080/",
          "height": 34
        },
        "outputId": "b0c0470b-1993-4fdd-b2b3-9f6000766dde"
      },
      "source": [
        "X = df.drop('readmitted', 1)\n",
        "X['age'] = X['age'].replace({'[0-10)' : 10,\n",
        "                             '[10-20)' : 10,\n",
        "                             '[20-30)' : 40,\n",
        "                             '[30-40)' : 40,\n",
        "                             '[40-50)' : 40,\n",
        "                             '[50-60)' : 40,\n",
        "                             '[60-70)' : 80,\n",
        "                             '[70-80)' : 80,\n",
        "                             '[80-90)' : 80,\n",
        "                             '[90-100)' : 80})\n",
        "X = pd.get_dummies(X, drop_first = True)\n",
        "y = df['readmitted']\n",
        "lr = LogisticRegression(random_state = 1, solver = 'liblinear')\n",
        "X_train, X_test, y_train, y_test = train_test_split(X, y, random_state = 1, test_size = 0.3)\n",
        "lr.fit(X_train, y_train)\n",
        "y_pred = lr.predict(X_test)\n",
        "recall_score(y_test, y_pred)"
      ],
      "execution_count": 65,
      "outputs": [
        {
          "output_type": "execute_result",
          "data": {
            "text/plain": [
              "0.01415236374585968"
            ]
          },
          "metadata": {
            "tags": []
          },
          "execution_count": 65
        }
      ]
    },
    {
      "cell_type": "markdown",
      "metadata": {
        "colab_type": "text",
        "id": "wBvubcs2AVBA"
      },
      "source": [
        "Higher Numerical Values"
      ]
    },
    {
      "cell_type": "code",
      "metadata": {
        "colab_type": "code",
        "id": "hdSqVUwOAVBB",
        "colab": {
          "base_uri": "https://localhost:8080/",
          "height": 34
        },
        "outputId": "fb9045cc-fd59-41d3-cd20-ba95521ec676"
      },
      "source": [
        "X = df.drop('readmitted', 1)\n",
        "X['age'] = X['age'].replace({'[0-10)' : 20,\n",
        "                             '[10-20)' : 20,\n",
        "                             '[20-30)' : 60,\n",
        "                             '[30-40)' : 60,\n",
        "                             '[40-50)' : 60,\n",
        "                             '[50-60)' : 60,\n",
        "                             '[60-70)' : 100,\n",
        "                             '[70-80)' : 100,\n",
        "                             '[80-90)' : 100,\n",
        "                             '[90-100)' : 100})\n",
        "X = pd.get_dummies(X, drop_first = True)\n",
        "y = df['readmitted']\n",
        "lr = LogisticRegression(random_state = 1, solver = 'liblinear')\n",
        "X_train, X_test, y_train, y_test = train_test_split(X, y, random_state = 1, test_size = 0.3)\n",
        "lr.fit(X_train, y_train)\n",
        "y_pred = lr.predict(X_test)\n",
        "recall_score(y_test, y_pred)"
      ],
      "execution_count": 66,
      "outputs": [
        {
          "output_type": "execute_result",
          "data": {
            "text/plain": [
              "0.01415236374585968"
            ]
          },
          "metadata": {
            "tags": []
          },
          "execution_count": 66
        }
      ]
    },
    {
      "cell_type": "markdown",
      "metadata": {
        "id": "5LDP5bRb2GWj",
        "colab_type": "text"
      },
      "source": [
        "### 3 Categories According to Age Range - Young (0-30), Mid (30-60), Old (60-100)"
      ]
    },
    {
      "cell_type": "code",
      "metadata": {
        "id": "sD42zuJW2Cog",
        "colab_type": "code",
        "colab": {
          "base_uri": "https://localhost:8080/",
          "height": 34
        },
        "outputId": "9a099de2-5f77-4709-c941-9e71dfdec499"
      },
      "source": [
        "X = df.drop('readmitted', 1)\n",
        "X['age'] = X['age'].replace({'[0-10)' : 'Young',\n",
        "                             '[10-20)' : 'Young',\n",
        "                             '[20-30)' : 'Young',\n",
        "                             '[30-40)' : 'Mid',\n",
        "                             '[40-50)' : 'Mid',\n",
        "                             '[50-60)' : 'Mid',\n",
        "                             '[60-70)' : 'Old',\n",
        "                             '[70-80)' : 'Old',\n",
        "                             '[80-90)' : 'Old',\n",
        "                             '[90-100)' : 'Old'})\n",
        "X = pd.get_dummies(X, drop_first = True)\n",
        "y = df['readmitted']\n",
        "lr = LogisticRegression(random_state = 1, solver = 'liblinear')\n",
        "X_train, X_test, y_train, y_test = train_test_split(X, y, random_state = 1, test_size = 0.3)\n",
        "lr.fit(X_train, y_train)\n",
        "y_pred = lr.predict(X_test)\n",
        "recall_score(y_test, y_pred)"
      ],
      "execution_count": 67,
      "outputs": [
        {
          "output_type": "execute_result",
          "data": {
            "text/plain": [
              "0.014453477868112014"
            ]
          },
          "metadata": {
            "tags": []
          },
          "execution_count": 67
        }
      ]
    },
    {
      "cell_type": "markdown",
      "metadata": {
        "colab_type": "text",
        "id": "Ar-gYLwuAX5r"
      },
      "source": [
        "Lower Numeical Values"
      ]
    },
    {
      "cell_type": "code",
      "metadata": {
        "colab_type": "code",
        "id": "G3Y-qGUzAX5t",
        "colab": {
          "base_uri": "https://localhost:8080/",
          "height": 34
        },
        "outputId": "7934d867-016c-48d8-e578-75dad4d3bdf1"
      },
      "source": [
        "X = df.drop('readmitted', 1)\n",
        "X['age'] = X['age'].replace({'[0-10)' : 0,\n",
        "                             '[10-20)' : 0,\n",
        "                             '[20-30)' : 0,\n",
        "                             '[30-40)' : 30,\n",
        "                             '[40-50)' : 30,\n",
        "                             '[50-60)' : 30,\n",
        "                             '[60-70)' : 60,\n",
        "                             '[70-80)' : 60,\n",
        "                             '[80-90)' : 60,\n",
        "                             '[90-100)' : 60})\n",
        "X = pd.get_dummies(X, drop_first = True)\n",
        "y = df['readmitted']\n",
        "lr = LogisticRegression(random_state = 1, solver = 'liblinear')\n",
        "X_train, X_test, y_train, y_test = train_test_split(X, y, random_state = 1, test_size = 0.3)\n",
        "lr.fit(X_train, y_train)\n",
        "y_pred = lr.predict(X_test)\n",
        "recall_score(y_test, y_pred)"
      ],
      "execution_count": 68,
      "outputs": [
        {
          "output_type": "execute_result",
          "data": {
            "text/plain": [
              "0.01415236374585968"
            ]
          },
          "metadata": {
            "tags": []
          },
          "execution_count": 68
        }
      ]
    },
    {
      "cell_type": "markdown",
      "metadata": {
        "colab_type": "text",
        "id": "b92DVnY_AX5y"
      },
      "source": [
        "Mid Numerical Values"
      ]
    },
    {
      "cell_type": "code",
      "metadata": {
        "colab_type": "code",
        "id": "be4gKdfCAX5z",
        "colab": {
          "base_uri": "https://localhost:8080/",
          "height": 34
        },
        "outputId": "1d2e9389-0bcd-4afc-edac-1bd79b303358"
      },
      "source": [
        "X = df.drop('readmitted', 1)\n",
        "X['age'] = X['age'].replace({'[0-10)' : 15,\n",
        "                             '[10-20)' : 15,\n",
        "                             '[20-30)' : 15,\n",
        "                             '[30-40)' : 45,\n",
        "                             '[40-50)' : 45,\n",
        "                             '[50-60)' : 45,\n",
        "                             '[60-70)' : 80,\n",
        "                             '[70-80)' : 80,\n",
        "                             '[80-90)' : 80,\n",
        "                             '[90-100)' : 80})\n",
        "X = pd.get_dummies(X, drop_first = True)\n",
        "y = df['readmitted']\n",
        "lr = LogisticRegression(random_state = 1, solver = 'liblinear')\n",
        "X_train, X_test, y_train, y_test = train_test_split(X, y, random_state = 1, test_size = 0.3)\n",
        "lr.fit(X_train, y_train)\n",
        "y_pred = lr.predict(X_test)\n",
        "recall_score(y_test, y_pred)"
      ],
      "execution_count": 69,
      "outputs": [
        {
          "output_type": "execute_result",
          "data": {
            "text/plain": [
              "0.01415236374585968"
            ]
          },
          "metadata": {
            "tags": []
          },
          "execution_count": 69
        }
      ]
    },
    {
      "cell_type": "markdown",
      "metadata": {
        "colab_type": "text",
        "id": "2uXPaGj3AX54"
      },
      "source": [
        "Higher Numerical Values"
      ]
    },
    {
      "cell_type": "code",
      "metadata": {
        "colab_type": "code",
        "id": "QsF4U1NkAX55",
        "colab": {
          "base_uri": "https://localhost:8080/",
          "height": 34
        },
        "outputId": "12f5e495-26c5-492a-d7f3-5096e66e291a"
      },
      "source": [
        "X = df.drop('readmitted', 1)\n",
        "X['age'] = X['age'].replace({'[0-10)' : 30,\n",
        "                             '[10-20)' : 30,\n",
        "                             '[20-30)' : 30,\n",
        "                             '[30-40)' : 60,\n",
        "                             '[40-50)' : 60,\n",
        "                             '[50-60)' : 60,\n",
        "                             '[60-70)' : 100,\n",
        "                             '[70-80)' : 100,\n",
        "                             '[80-90)' : 100,\n",
        "                             '[90-100)' : 100})\n",
        "X = pd.get_dummies(X, drop_first = True)\n",
        "y = df['readmitted']\n",
        "lr = LogisticRegression(random_state = 1, solver = 'liblinear')\n",
        "X_train, X_test, y_train, y_test = train_test_split(X, y, random_state = 1, test_size = 0.3)\n",
        "lr.fit(X_train, y_train)\n",
        "y_pred = lr.predict(X_test)\n",
        "recall_score(y_test, y_pred)"
      ],
      "execution_count": 70,
      "outputs": [
        {
          "output_type": "execute_result",
          "data": {
            "text/plain": [
              "0.01415236374585968"
            ]
          },
          "metadata": {
            "tags": []
          },
          "execution_count": 70
        }
      ]
    },
    {
      "cell_type": "markdown",
      "metadata": {
        "colab_type": "text",
        "id": "NDKRtjTF2WNJ"
      },
      "source": [
        "### 5 Categories According to Readmission Rate"
      ]
    },
    {
      "cell_type": "code",
      "metadata": {
        "id": "9IOpaI_52lRF",
        "colab_type": "code",
        "colab": {
          "base_uri": "https://localhost:8080/",
          "height": 34
        },
        "outputId": "2dae1fe8-babf-4f26-ca36-bc67b03bde41"
      },
      "source": [
        "X = df.drop('readmitted', 1)\n",
        "X['age'] = X['age'].replace({'[0-10)' : 'A',\n",
        "                             '[10-20)' : 'A',\n",
        "                             '[20-30)' : 'B',\n",
        "                             '[30-40)' : 'B',\n",
        "                             '[40-50)' : 'C',\n",
        "                             '[50-60)' : 'C',\n",
        "                             '[60-70)' : 'D',\n",
        "                             '[70-80)' : 'E',\n",
        "                             '[80-90)' : 'D',\n",
        "                             '[90-100)' : 'B'})\n",
        "X = pd.get_dummies(X, drop_first = True)\n",
        "y = df['readmitted']\n",
        "lr = LogisticRegression(random_state = 1, solver = 'liblinear')\n",
        "X_train, X_test, y_train, y_test = train_test_split(X, y, random_state = 1, test_size = 0.3)\n",
        "lr.fit(X_train, y_train)\n",
        "y_pred = lr.predict(X_test)\n",
        "recall_score(y_test, y_pred)"
      ],
      "execution_count": 71,
      "outputs": [
        {
          "output_type": "execute_result",
          "data": {
            "text/plain": [
              "0.01415236374585968"
            ]
          },
          "metadata": {
            "tags": []
          },
          "execution_count": 71
        }
      ]
    },
    {
      "cell_type": "markdown",
      "metadata": {
        "colab_type": "text",
        "id": "6psfgYvV3FmV"
      },
      "source": [
        "### 4 Categories According to Readmission Rate"
      ]
    },
    {
      "cell_type": "code",
      "metadata": {
        "colab_type": "code",
        "id": "WUbn87kp3FmX",
        "colab": {
          "base_uri": "https://localhost:8080/",
          "height": 34
        },
        "outputId": "74f27bdf-3d0e-48e7-a2d6-d3bd8a9ea8fe"
      },
      "source": [
        "X = df.drop('readmitted', 1)\n",
        "X['age'] = X['age'].replace({'[0-10)' : 'A',\n",
        "                             '[10-20)' : 'A',\n",
        "                             '[20-30)' : 'B',\n",
        "                             '[30-40)' : 'B',\n",
        "                             '[40-50)' : 'C',\n",
        "                             '[50-60)' : 'C',\n",
        "                             '[60-70)' : 'D',\n",
        "                             '[70-80)' : 'D',\n",
        "                             '[80-90)' : 'D',\n",
        "                             '[90-100)' : 'B'})\n",
        "X = pd.get_dummies(X, drop_first = True)\n",
        "y = df['readmitted']\n",
        "lr = LogisticRegression(random_state = 1, solver = 'liblinear')\n",
        "X_train, X_test, y_train, y_test = train_test_split(X, y, random_state = 1, test_size = 0.3)\n",
        "lr.fit(X_train, y_train)\n",
        "y_pred = lr.predict(X_test)\n",
        "recall_score(y_test, y_pred)"
      ],
      "execution_count": 72,
      "outputs": [
        {
          "output_type": "execute_result",
          "data": {
            "text/plain": [
              "0.01415236374585968"
            ]
          },
          "metadata": {
            "tags": []
          },
          "execution_count": 72
        }
      ]
    },
    {
      "cell_type": "markdown",
      "metadata": {
        "colab_type": "text",
        "id": "U7EcQHif3bjO"
      },
      "source": [
        "### 3 Categories According to Readmission Rate"
      ]
    },
    {
      "cell_type": "code",
      "metadata": {
        "colab_type": "code",
        "id": "pm7Q3HXl3bjO",
        "colab": {
          "base_uri": "https://localhost:8080/",
          "height": 34
        },
        "outputId": "eb23c43f-bde5-4b35-b7cc-559721166269"
      },
      "source": [
        "X = df.drop('readmitted', 1)\n",
        "X['age'] = X['age'].replace({'[0-10)' : 'A',\n",
        "                             '[10-20)' : 'A',\n",
        "                             '[20-30)' : 'A',\n",
        "                             '[30-40)' : 'A',\n",
        "                             '[40-50)' : 'B',\n",
        "                             '[50-60)' : 'B',\n",
        "                             '[60-70)' : 'C',\n",
        "                             '[70-80)' : 'C',\n",
        "                             '[80-90)' : 'C',\n",
        "                             '[90-100)' : 'A'})\n",
        "X = pd.get_dummies(X, drop_first = True)\n",
        "y = df['readmitted']\n",
        "lr = LogisticRegression(random_state = 1, solver = 'liblinear')\n",
        "X_train, X_test, y_train, y_test = train_test_split(X, y, random_state = 1, test_size = 0.3)\n",
        "lr.fit(X_train, y_train)\n",
        "y_pred = lr.predict(X_test)\n",
        "recall_score(y_test, y_pred)"
      ],
      "execution_count": 73,
      "outputs": [
        {
          "output_type": "execute_result",
          "data": {
            "text/plain": [
              "0.01415236374585968"
            ]
          },
          "metadata": {
            "tags": []
          },
          "execution_count": 73
        }
      ]
    },
    {
      "cell_type": "markdown",
      "metadata": {
        "id": "ftoxrSPyQKuC",
        "colab_type": "text"
      },
      "source": [
        "## Treating Age column (Taking Middle Numerical value after making 5 categories)"
      ]
    },
    {
      "cell_type": "code",
      "metadata": {
        "id": "rHAgbSX0PjSt",
        "colab_type": "code",
        "colab": {
          "base_uri": "https://localhost:8080/",
          "height": 377
        },
        "outputId": "7785c600-aa0f-4c49-e5fe-b4841e633128"
      },
      "source": [
        "df['age'] = df['age'].replace({'[0-10)' : 10,\n",
        "                             '[10-20)' : 10,\n",
        "                             '[20-30)' : 30,\n",
        "                             '[30-40)' : 30,\n",
        "                             '[40-50)' : 50,\n",
        "                             '[50-60)' : 50,\n",
        "                             '[60-70)' : 75,\n",
        "                             '[70-80)' : 75,\n",
        "                             '[80-90)' : 75,\n",
        "                             '[90-100)' : 95})\n",
        "df.head()"
      ],
      "execution_count": 74,
      "outputs": [
        {
          "output_type": "execute_result",
          "data": {
            "text/html": [
              "<div>\n",
              "<style scoped>\n",
              "    .dataframe tbody tr th:only-of-type {\n",
              "        vertical-align: middle;\n",
              "    }\n",
              "\n",
              "    .dataframe tbody tr th {\n",
              "        vertical-align: top;\n",
              "    }\n",
              "\n",
              "    .dataframe thead th {\n",
              "        text-align: right;\n",
              "    }\n",
              "</style>\n",
              "<table border=\"1\" class=\"dataframe\">\n",
              "  <thead>\n",
              "    <tr style=\"text-align: right;\">\n",
              "      <th></th>\n",
              "      <th>race</th>\n",
              "      <th>gender</th>\n",
              "      <th>age</th>\n",
              "      <th>admission_type_id</th>\n",
              "      <th>discharge_disposition_id</th>\n",
              "      <th>admission_source_id</th>\n",
              "      <th>time_in_hospital</th>\n",
              "      <th>num_lab_procedures</th>\n",
              "      <th>num_procedures</th>\n",
              "      <th>num_medications</th>\n",
              "      <th>number_outpatient</th>\n",
              "      <th>number_emergency</th>\n",
              "      <th>number_inpatient</th>\n",
              "      <th>diag_1</th>\n",
              "      <th>diag_2</th>\n",
              "      <th>diag_3</th>\n",
              "      <th>number_diagnoses</th>\n",
              "      <th>max_glu_serum</th>\n",
              "      <th>A1Cresult</th>\n",
              "      <th>metformin</th>\n",
              "      <th>repaglinide</th>\n",
              "      <th>nateglinide</th>\n",
              "      <th>chlorpropamide</th>\n",
              "      <th>glimepiride</th>\n",
              "      <th>acetohexamide</th>\n",
              "      <th>glipizide</th>\n",
              "      <th>glyburide</th>\n",
              "      <th>tolbutamide</th>\n",
              "      <th>pioglitazone</th>\n",
              "      <th>rosiglitazone</th>\n",
              "      <th>acarbose</th>\n",
              "      <th>miglitol</th>\n",
              "      <th>troglitazone</th>\n",
              "      <th>tolazamide</th>\n",
              "      <th>insulin</th>\n",
              "      <th>glyburide-metformin</th>\n",
              "      <th>glipizide-metformin</th>\n",
              "      <th>glimepiride-pioglitazone</th>\n",
              "      <th>metformin-rosiglitazone</th>\n",
              "      <th>metformin-pioglitazone</th>\n",
              "      <th>change</th>\n",
              "      <th>diabetesMed</th>\n",
              "      <th>readmitted</th>\n",
              "      <th>preceding_year_visits</th>\n",
              "    </tr>\n",
              "  </thead>\n",
              "  <tbody>\n",
              "    <tr>\n",
              "      <th>0</th>\n",
              "      <td>Caucasian</td>\n",
              "      <td>0</td>\n",
              "      <td>10</td>\n",
              "      <td>Not Available</td>\n",
              "      <td>Not Available</td>\n",
              "      <td>Referral</td>\n",
              "      <td>1</td>\n",
              "      <td>41</td>\n",
              "      <td>0</td>\n",
              "      <td>1</td>\n",
              "      <td>0</td>\n",
              "      <td>0</td>\n",
              "      <td>0</td>\n",
              "      <td>Diabetes</td>\n",
              "      <td>Not Required</td>\n",
              "      <td>Not Required</td>\n",
              "      <td>1</td>\n",
              "      <td>None</td>\n",
              "      <td>None</td>\n",
              "      <td>-2</td>\n",
              "      <td>-2</td>\n",
              "      <td>-2</td>\n",
              "      <td>-2</td>\n",
              "      <td>-2</td>\n",
              "      <td>-2</td>\n",
              "      <td>-2</td>\n",
              "      <td>-2</td>\n",
              "      <td>-2</td>\n",
              "      <td>-2</td>\n",
              "      <td>-2</td>\n",
              "      <td>-2</td>\n",
              "      <td>-2</td>\n",
              "      <td>-2</td>\n",
              "      <td>-2</td>\n",
              "      <td>-2</td>\n",
              "      <td>-2</td>\n",
              "      <td>-2</td>\n",
              "      <td>-2</td>\n",
              "      <td>-2</td>\n",
              "      <td>-2</td>\n",
              "      <td>0</td>\n",
              "      <td>0</td>\n",
              "      <td>0</td>\n",
              "      <td>0</td>\n",
              "    </tr>\n",
              "    <tr>\n",
              "      <th>1</th>\n",
              "      <td>Caucasian</td>\n",
              "      <td>0</td>\n",
              "      <td>10</td>\n",
              "      <td>Emergency</td>\n",
              "      <td>Discharged to home</td>\n",
              "      <td>Emergency</td>\n",
              "      <td>3</td>\n",
              "      <td>59</td>\n",
              "      <td>0</td>\n",
              "      <td>18</td>\n",
              "      <td>0</td>\n",
              "      <td>0</td>\n",
              "      <td>0</td>\n",
              "      <td>Endocrine, Nutritional, Metabolic, Immunity</td>\n",
              "      <td>Diabetes</td>\n",
              "      <td>Endocrine, Nutritional, Metabolic, Immunity</td>\n",
              "      <td>9</td>\n",
              "      <td>None</td>\n",
              "      <td>None</td>\n",
              "      <td>-2</td>\n",
              "      <td>-2</td>\n",
              "      <td>-2</td>\n",
              "      <td>-2</td>\n",
              "      <td>-2</td>\n",
              "      <td>-2</td>\n",
              "      <td>-2</td>\n",
              "      <td>-2</td>\n",
              "      <td>-2</td>\n",
              "      <td>-2</td>\n",
              "      <td>-2</td>\n",
              "      <td>-2</td>\n",
              "      <td>-2</td>\n",
              "      <td>-2</td>\n",
              "      <td>-2</td>\n",
              "      <td>1</td>\n",
              "      <td>-2</td>\n",
              "      <td>-2</td>\n",
              "      <td>-2</td>\n",
              "      <td>-2</td>\n",
              "      <td>-2</td>\n",
              "      <td>1</td>\n",
              "      <td>1</td>\n",
              "      <td>0</td>\n",
              "      <td>0</td>\n",
              "    </tr>\n",
              "    <tr>\n",
              "      <th>2</th>\n",
              "      <td>AfricanAmerican</td>\n",
              "      <td>0</td>\n",
              "      <td>30</td>\n",
              "      <td>Emergency</td>\n",
              "      <td>Discharged to home</td>\n",
              "      <td>Emergency</td>\n",
              "      <td>2</td>\n",
              "      <td>11</td>\n",
              "      <td>5</td>\n",
              "      <td>13</td>\n",
              "      <td>2</td>\n",
              "      <td>0</td>\n",
              "      <td>1</td>\n",
              "      <td>Pregnancy, Childbirth</td>\n",
              "      <td>Diabetes</td>\n",
              "      <td>External causes of injury</td>\n",
              "      <td>6</td>\n",
              "      <td>None</td>\n",
              "      <td>None</td>\n",
              "      <td>-2</td>\n",
              "      <td>-2</td>\n",
              "      <td>-2</td>\n",
              "      <td>-2</td>\n",
              "      <td>-2</td>\n",
              "      <td>-2</td>\n",
              "      <td>0</td>\n",
              "      <td>-2</td>\n",
              "      <td>-2</td>\n",
              "      <td>-2</td>\n",
              "      <td>-2</td>\n",
              "      <td>-2</td>\n",
              "      <td>-2</td>\n",
              "      <td>-2</td>\n",
              "      <td>-2</td>\n",
              "      <td>-2</td>\n",
              "      <td>-2</td>\n",
              "      <td>-2</td>\n",
              "      <td>-2</td>\n",
              "      <td>-2</td>\n",
              "      <td>-2</td>\n",
              "      <td>0</td>\n",
              "      <td>1</td>\n",
              "      <td>0</td>\n",
              "      <td>3</td>\n",
              "    </tr>\n",
              "    <tr>\n",
              "      <th>3</th>\n",
              "      <td>Caucasian</td>\n",
              "      <td>1</td>\n",
              "      <td>30</td>\n",
              "      <td>Emergency</td>\n",
              "      <td>Discharged to home</td>\n",
              "      <td>Emergency</td>\n",
              "      <td>2</td>\n",
              "      <td>44</td>\n",
              "      <td>1</td>\n",
              "      <td>16</td>\n",
              "      <td>0</td>\n",
              "      <td>0</td>\n",
              "      <td>0</td>\n",
              "      <td>Infectious and Parasitic</td>\n",
              "      <td>Diabetes</td>\n",
              "      <td>Circulatory</td>\n",
              "      <td>7</td>\n",
              "      <td>None</td>\n",
              "      <td>None</td>\n",
              "      <td>-2</td>\n",
              "      <td>-2</td>\n",
              "      <td>-2</td>\n",
              "      <td>-2</td>\n",
              "      <td>-2</td>\n",
              "      <td>-2</td>\n",
              "      <td>-2</td>\n",
              "      <td>-2</td>\n",
              "      <td>-2</td>\n",
              "      <td>-2</td>\n",
              "      <td>-2</td>\n",
              "      <td>-2</td>\n",
              "      <td>-2</td>\n",
              "      <td>-2</td>\n",
              "      <td>-2</td>\n",
              "      <td>1</td>\n",
              "      <td>-2</td>\n",
              "      <td>-2</td>\n",
              "      <td>-2</td>\n",
              "      <td>-2</td>\n",
              "      <td>-2</td>\n",
              "      <td>1</td>\n",
              "      <td>1</td>\n",
              "      <td>0</td>\n",
              "      <td>0</td>\n",
              "    </tr>\n",
              "    <tr>\n",
              "      <th>4</th>\n",
              "      <td>Caucasian</td>\n",
              "      <td>1</td>\n",
              "      <td>50</td>\n",
              "      <td>Emergency</td>\n",
              "      <td>Discharged to home</td>\n",
              "      <td>Emergency</td>\n",
              "      <td>1</td>\n",
              "      <td>51</td>\n",
              "      <td>0</td>\n",
              "      <td>8</td>\n",
              "      <td>0</td>\n",
              "      <td>0</td>\n",
              "      <td>0</td>\n",
              "      <td>Neoplasms</td>\n",
              "      <td>Neoplasms</td>\n",
              "      <td>Diabetes</td>\n",
              "      <td>5</td>\n",
              "      <td>None</td>\n",
              "      <td>None</td>\n",
              "      <td>-2</td>\n",
              "      <td>-2</td>\n",
              "      <td>-2</td>\n",
              "      <td>-2</td>\n",
              "      <td>-2</td>\n",
              "      <td>-2</td>\n",
              "      <td>0</td>\n",
              "      <td>-2</td>\n",
              "      <td>-2</td>\n",
              "      <td>-2</td>\n",
              "      <td>-2</td>\n",
              "      <td>-2</td>\n",
              "      <td>-2</td>\n",
              "      <td>-2</td>\n",
              "      <td>-2</td>\n",
              "      <td>0</td>\n",
              "      <td>-2</td>\n",
              "      <td>-2</td>\n",
              "      <td>-2</td>\n",
              "      <td>-2</td>\n",
              "      <td>-2</td>\n",
              "      <td>1</td>\n",
              "      <td>1</td>\n",
              "      <td>0</td>\n",
              "      <td>0</td>\n",
              "    </tr>\n",
              "  </tbody>\n",
              "</table>\n",
              "</div>"
            ],
            "text/plain": [
              "              race  gender  age  ... diabetesMed readmitted preceding_year_visits\n",
              "0        Caucasian       0   10  ...           0          0                     0\n",
              "1        Caucasian       0   10  ...           1          0                     0\n",
              "2  AfricanAmerican       0   30  ...           1          0                     3\n",
              "3        Caucasian       1   30  ...           1          0                     0\n",
              "4        Caucasian       1   50  ...           1          0                     0\n",
              "\n",
              "[5 rows x 44 columns]"
            ]
          },
          "metadata": {
            "tags": []
          },
          "execution_count": 74
        }
      ]
    },
    {
      "cell_type": "code",
      "metadata": {
        "id": "t60pNd5ZQkGb",
        "colab_type": "code",
        "colab": {
          "base_uri": "https://localhost:8080/",
          "height": 34
        },
        "outputId": "6f39cf03-d903-4d97-e92e-5d4c8e8d0e75"
      },
      "source": [
        "df.shape"
      ],
      "execution_count": 75,
      "outputs": [
        {
          "output_type": "execute_result",
          "data": {
            "text/plain": [
              "(97070, 44)"
            ]
          },
          "metadata": {
            "tags": []
          },
          "execution_count": 75
        }
      ]
    },
    {
      "cell_type": "code",
      "metadata": {
        "id": "ZyLxy74qQlyu",
        "colab_type": "code",
        "colab": {
          "base_uri": "https://localhost:8080/",
          "height": 884
        },
        "outputId": "74a1c344-4aa1-44b5-804f-f15dea1cf28d"
      },
      "source": [
        "df.info()"
      ],
      "execution_count": 76,
      "outputs": [
        {
          "output_type": "stream",
          "text": [
            "<class 'pandas.core.frame.DataFrame'>\n",
            "Int64Index: 97070 entries, 0 to 99299\n",
            "Data columns (total 44 columns):\n",
            " #   Column                    Non-Null Count  Dtype \n",
            "---  ------                    --------------  ----- \n",
            " 0   race                      97070 non-null  object\n",
            " 1   gender                    97070 non-null  int64 \n",
            " 2   age                       97070 non-null  int64 \n",
            " 3   admission_type_id         97070 non-null  object\n",
            " 4   discharge_disposition_id  97070 non-null  object\n",
            " 5   admission_source_id       97070 non-null  object\n",
            " 6   time_in_hospital          97070 non-null  int64 \n",
            " 7   num_lab_procedures        97070 non-null  int64 \n",
            " 8   num_procedures            97070 non-null  int64 \n",
            " 9   num_medications           97070 non-null  int64 \n",
            " 10  number_outpatient         97070 non-null  int64 \n",
            " 11  number_emergency          97070 non-null  int64 \n",
            " 12  number_inpatient          97070 non-null  int64 \n",
            " 13  diag_1                    97070 non-null  object\n",
            " 14  diag_2                    97070 non-null  object\n",
            " 15  diag_3                    97070 non-null  object\n",
            " 16  number_diagnoses          97070 non-null  int64 \n",
            " 17  max_glu_serum             97070 non-null  object\n",
            " 18  A1Cresult                 97070 non-null  object\n",
            " 19  metformin                 97070 non-null  int64 \n",
            " 20  repaglinide               97070 non-null  int64 \n",
            " 21  nateglinide               97070 non-null  int64 \n",
            " 22  chlorpropamide            97070 non-null  int64 \n",
            " 23  glimepiride               97070 non-null  int64 \n",
            " 24  acetohexamide             97070 non-null  int64 \n",
            " 25  glipizide                 97070 non-null  int64 \n",
            " 26  glyburide                 97070 non-null  int64 \n",
            " 27  tolbutamide               97070 non-null  int64 \n",
            " 28  pioglitazone              97070 non-null  int64 \n",
            " 29  rosiglitazone             97070 non-null  int64 \n",
            " 30  acarbose                  97070 non-null  int64 \n",
            " 31  miglitol                  97070 non-null  int64 \n",
            " 32  troglitazone              97070 non-null  int64 \n",
            " 33  tolazamide                97070 non-null  int64 \n",
            " 34  insulin                   97070 non-null  int64 \n",
            " 35  glyburide-metformin       97070 non-null  int64 \n",
            " 36  glipizide-metformin       97070 non-null  int64 \n",
            " 37  glimepiride-pioglitazone  97070 non-null  int64 \n",
            " 38  metformin-rosiglitazone   97070 non-null  int64 \n",
            " 39  metformin-pioglitazone    97070 non-null  int64 \n",
            " 40  change                    97070 non-null  int64 \n",
            " 41  diabetesMed               97070 non-null  int64 \n",
            " 42  readmitted                97070 non-null  int64 \n",
            " 43  preceding_year_visits     97070 non-null  int64 \n",
            "dtypes: int64(35), object(9)\n",
            "memory usage: 33.3+ MB\n"
          ],
          "name": "stdout"
        }
      ]
    },
    {
      "cell_type": "code",
      "metadata": {
        "id": "dKfdVn59Q4DD",
        "colab_type": "code",
        "colab": {
          "base_uri": "https://localhost:8080/",
          "height": 427
        },
        "outputId": "188586a6-b48e-4998-a180-e29a19d5fd46"
      },
      "source": [
        "df.describe(include = 'all')"
      ],
      "execution_count": 77,
      "outputs": [
        {
          "output_type": "execute_result",
          "data": {
            "text/html": [
              "<div>\n",
              "<style scoped>\n",
              "    .dataframe tbody tr th:only-of-type {\n",
              "        vertical-align: middle;\n",
              "    }\n",
              "\n",
              "    .dataframe tbody tr th {\n",
              "        vertical-align: top;\n",
              "    }\n",
              "\n",
              "    .dataframe thead th {\n",
              "        text-align: right;\n",
              "    }\n",
              "</style>\n",
              "<table border=\"1\" class=\"dataframe\">\n",
              "  <thead>\n",
              "    <tr style=\"text-align: right;\">\n",
              "      <th></th>\n",
              "      <th>race</th>\n",
              "      <th>gender</th>\n",
              "      <th>age</th>\n",
              "      <th>admission_type_id</th>\n",
              "      <th>discharge_disposition_id</th>\n",
              "      <th>admission_source_id</th>\n",
              "      <th>time_in_hospital</th>\n",
              "      <th>num_lab_procedures</th>\n",
              "      <th>num_procedures</th>\n",
              "      <th>num_medications</th>\n",
              "      <th>number_outpatient</th>\n",
              "      <th>number_emergency</th>\n",
              "      <th>number_inpatient</th>\n",
              "      <th>diag_1</th>\n",
              "      <th>diag_2</th>\n",
              "      <th>diag_3</th>\n",
              "      <th>number_diagnoses</th>\n",
              "      <th>max_glu_serum</th>\n",
              "      <th>A1Cresult</th>\n",
              "      <th>metformin</th>\n",
              "      <th>repaglinide</th>\n",
              "      <th>nateglinide</th>\n",
              "      <th>chlorpropamide</th>\n",
              "      <th>glimepiride</th>\n",
              "      <th>acetohexamide</th>\n",
              "      <th>glipizide</th>\n",
              "      <th>glyburide</th>\n",
              "      <th>tolbutamide</th>\n",
              "      <th>pioglitazone</th>\n",
              "      <th>rosiglitazone</th>\n",
              "      <th>acarbose</th>\n",
              "      <th>miglitol</th>\n",
              "      <th>troglitazone</th>\n",
              "      <th>tolazamide</th>\n",
              "      <th>insulin</th>\n",
              "      <th>glyburide-metformin</th>\n",
              "      <th>glipizide-metformin</th>\n",
              "      <th>glimepiride-pioglitazone</th>\n",
              "      <th>metformin-rosiglitazone</th>\n",
              "      <th>metformin-pioglitazone</th>\n",
              "      <th>change</th>\n",
              "      <th>diabetesMed</th>\n",
              "      <th>readmitted</th>\n",
              "      <th>preceding_year_visits</th>\n",
              "    </tr>\n",
              "  </thead>\n",
              "  <tbody>\n",
              "    <tr>\n",
              "      <th>count</th>\n",
              "      <td>97070</td>\n",
              "      <td>97070.000000</td>\n",
              "      <td>97070.000000</td>\n",
              "      <td>97070</td>\n",
              "      <td>97070</td>\n",
              "      <td>97070</td>\n",
              "      <td>97070.000000</td>\n",
              "      <td>97070.000000</td>\n",
              "      <td>97070.000000</td>\n",
              "      <td>97070.000000</td>\n",
              "      <td>97070.000000</td>\n",
              "      <td>97070.000000</td>\n",
              "      <td>97070.000000</td>\n",
              "      <td>97070</td>\n",
              "      <td>97070</td>\n",
              "      <td>97070</td>\n",
              "      <td>97070.000000</td>\n",
              "      <td>97070</td>\n",
              "      <td>97070</td>\n",
              "      <td>97070.000000</td>\n",
              "      <td>97070.000000</td>\n",
              "      <td>97070.000000</td>\n",
              "      <td>97070.000000</td>\n",
              "      <td>97070.000000</td>\n",
              "      <td>97070.000000</td>\n",
              "      <td>97070.000000</td>\n",
              "      <td>97070.000000</td>\n",
              "      <td>97070.000000</td>\n",
              "      <td>97070.000000</td>\n",
              "      <td>97070.000000</td>\n",
              "      <td>97070.000000</td>\n",
              "      <td>97070.000000</td>\n",
              "      <td>97070.000000</td>\n",
              "      <td>97070.000000</td>\n",
              "      <td>97070.000000</td>\n",
              "      <td>97070.000000</td>\n",
              "      <td>97070.000000</td>\n",
              "      <td>97070.000000</td>\n",
              "      <td>97070.0</td>\n",
              "      <td>97070.000000</td>\n",
              "      <td>97070.000000</td>\n",
              "      <td>97070.000000</td>\n",
              "      <td>97070.000000</td>\n",
              "      <td>97070.000000</td>\n",
              "    </tr>\n",
              "    <tr>\n",
              "      <th>unique</th>\n",
              "      <td>5</td>\n",
              "      <td>NaN</td>\n",
              "      <td>NaN</td>\n",
              "      <td>3</td>\n",
              "      <td>6</td>\n",
              "      <td>4</td>\n",
              "      <td>NaN</td>\n",
              "      <td>NaN</td>\n",
              "      <td>NaN</td>\n",
              "      <td>NaN</td>\n",
              "      <td>NaN</td>\n",
              "      <td>NaN</td>\n",
              "      <td>NaN</td>\n",
              "      <td>19</td>\n",
              "      <td>20</td>\n",
              "      <td>20</td>\n",
              "      <td>NaN</td>\n",
              "      <td>4</td>\n",
              "      <td>4</td>\n",
              "      <td>NaN</td>\n",
              "      <td>NaN</td>\n",
              "      <td>NaN</td>\n",
              "      <td>NaN</td>\n",
              "      <td>NaN</td>\n",
              "      <td>NaN</td>\n",
              "      <td>NaN</td>\n",
              "      <td>NaN</td>\n",
              "      <td>NaN</td>\n",
              "      <td>NaN</td>\n",
              "      <td>NaN</td>\n",
              "      <td>NaN</td>\n",
              "      <td>NaN</td>\n",
              "      <td>NaN</td>\n",
              "      <td>NaN</td>\n",
              "      <td>NaN</td>\n",
              "      <td>NaN</td>\n",
              "      <td>NaN</td>\n",
              "      <td>NaN</td>\n",
              "      <td>NaN</td>\n",
              "      <td>NaN</td>\n",
              "      <td>NaN</td>\n",
              "      <td>NaN</td>\n",
              "      <td>NaN</td>\n",
              "      <td>NaN</td>\n",
              "    </tr>\n",
              "    <tr>\n",
              "      <th>top</th>\n",
              "      <td>Caucasian</td>\n",
              "      <td>NaN</td>\n",
              "      <td>NaN</td>\n",
              "      <td>Emergency</td>\n",
              "      <td>Discharged to home</td>\n",
              "      <td>Emergency</td>\n",
              "      <td>NaN</td>\n",
              "      <td>NaN</td>\n",
              "      <td>NaN</td>\n",
              "      <td>NaN</td>\n",
              "      <td>NaN</td>\n",
              "      <td>NaN</td>\n",
              "      <td>NaN</td>\n",
              "      <td>Circulatory</td>\n",
              "      <td>Circulatory</td>\n",
              "      <td>Circulatory</td>\n",
              "      <td>NaN</td>\n",
              "      <td>None</td>\n",
              "      <td>None</td>\n",
              "      <td>NaN</td>\n",
              "      <td>NaN</td>\n",
              "      <td>NaN</td>\n",
              "      <td>NaN</td>\n",
              "      <td>NaN</td>\n",
              "      <td>NaN</td>\n",
              "      <td>NaN</td>\n",
              "      <td>NaN</td>\n",
              "      <td>NaN</td>\n",
              "      <td>NaN</td>\n",
              "      <td>NaN</td>\n",
              "      <td>NaN</td>\n",
              "      <td>NaN</td>\n",
              "      <td>NaN</td>\n",
              "      <td>NaN</td>\n",
              "      <td>NaN</td>\n",
              "      <td>NaN</td>\n",
              "      <td>NaN</td>\n",
              "      <td>NaN</td>\n",
              "      <td>NaN</td>\n",
              "      <td>NaN</td>\n",
              "      <td>NaN</td>\n",
              "      <td>NaN</td>\n",
              "      <td>NaN</td>\n",
              "      <td>NaN</td>\n",
              "    </tr>\n",
              "    <tr>\n",
              "      <th>freq</th>\n",
              "      <td>74201</td>\n",
              "      <td>NaN</td>\n",
              "      <td>NaN</td>\n",
              "      <td>70595</td>\n",
              "      <td>58751</td>\n",
              "      <td>55994</td>\n",
              "      <td>NaN</td>\n",
              "      <td>NaN</td>\n",
              "      <td>NaN</td>\n",
              "      <td>NaN</td>\n",
              "      <td>NaN</td>\n",
              "      <td>NaN</td>\n",
              "      <td>NaN</td>\n",
              "      <td>29004</td>\n",
              "      <td>30463</td>\n",
              "      <td>28947</td>\n",
              "      <td>NaN</td>\n",
              "      <td>91978</td>\n",
              "      <td>80662</td>\n",
              "      <td>NaN</td>\n",
              "      <td>NaN</td>\n",
              "      <td>NaN</td>\n",
              "      <td>NaN</td>\n",
              "      <td>NaN</td>\n",
              "      <td>NaN</td>\n",
              "      <td>NaN</td>\n",
              "      <td>NaN</td>\n",
              "      <td>NaN</td>\n",
              "      <td>NaN</td>\n",
              "      <td>NaN</td>\n",
              "      <td>NaN</td>\n",
              "      <td>NaN</td>\n",
              "      <td>NaN</td>\n",
              "      <td>NaN</td>\n",
              "      <td>NaN</td>\n",
              "      <td>NaN</td>\n",
              "      <td>NaN</td>\n",
              "      <td>NaN</td>\n",
              "      <td>NaN</td>\n",
              "      <td>NaN</td>\n",
              "      <td>NaN</td>\n",
              "      <td>NaN</td>\n",
              "      <td>NaN</td>\n",
              "      <td>NaN</td>\n",
              "    </tr>\n",
              "    <tr>\n",
              "      <th>mean</th>\n",
              "      <td>NaN</td>\n",
              "      <td>0.460997</td>\n",
              "      <td>65.787215</td>\n",
              "      <td>NaN</td>\n",
              "      <td>NaN</td>\n",
              "      <td>NaN</td>\n",
              "      <td>4.381488</td>\n",
              "      <td>42.882775</td>\n",
              "      <td>1.335325</td>\n",
              "      <td>15.984928</td>\n",
              "      <td>0.373359</td>\n",
              "      <td>0.202009</td>\n",
              "      <td>0.638488</td>\n",
              "      <td>NaN</td>\n",
              "      <td>NaN</td>\n",
              "      <td>NaN</td>\n",
              "      <td>7.418955</td>\n",
              "      <td>NaN</td>\n",
              "      <td>NaN</td>\n",
              "      <td>-1.595962</td>\n",
              "      <td>-1.968281</td>\n",
              "      <td>-1.985845</td>\n",
              "      <td>-1.998238</td>\n",
              "      <td>-1.896333</td>\n",
              "      <td>-1.999979</td>\n",
              "      <td>-1.745524</td>\n",
              "      <td>-1.786329</td>\n",
              "      <td>-1.999588</td>\n",
              "      <td>-1.852581</td>\n",
              "      <td>-1.872134</td>\n",
              "      <td>-1.993767</td>\n",
              "      <td>-1.999248</td>\n",
              "      <td>-1.999938</td>\n",
              "      <td>-1.999186</td>\n",
              "      <td>-0.947553</td>\n",
              "      <td>-1.986144</td>\n",
              "      <td>-1.999732</td>\n",
              "      <td>-1.999979</td>\n",
              "      <td>-2.0</td>\n",
              "      <td>-1.999979</td>\n",
              "      <td>0.463830</td>\n",
              "      <td>0.771011</td>\n",
              "      <td>0.114557</td>\n",
              "      <td>1.213856</td>\n",
              "    </tr>\n",
              "    <tr>\n",
              "      <th>std</th>\n",
              "      <td>NaN</td>\n",
              "      <td>0.498479</td>\n",
              "      <td>15.503470</td>\n",
              "      <td>NaN</td>\n",
              "      <td>NaN</td>\n",
              "      <td>NaN</td>\n",
              "      <td>2.970267</td>\n",
              "      <td>19.629269</td>\n",
              "      <td>1.700854</td>\n",
              "      <td>8.087074</td>\n",
              "      <td>1.274882</td>\n",
              "      <td>0.947541</td>\n",
              "      <td>1.269112</td>\n",
              "      <td>NaN</td>\n",
              "      <td>NaN</td>\n",
              "      <td>NaN</td>\n",
              "      <td>1.933679</td>\n",
              "      <td>NaN</td>\n",
              "      <td>NaN</td>\n",
              "      <td>0.819173</td>\n",
              "      <td>0.255473</td>\n",
              "      <td>0.169431</td>\n",
              "      <td>0.060789</td>\n",
              "      <td>0.452185</td>\n",
              "      <td>0.006419</td>\n",
              "      <td>0.679585</td>\n",
              "      <td>0.632697</td>\n",
              "      <td>0.028705</td>\n",
              "      <td>0.528109</td>\n",
              "      <td>0.493693</td>\n",
              "      <td>0.112715</td>\n",
              "      <td>0.038908</td>\n",
              "      <td>0.011118</td>\n",
              "      <td>0.040718</td>\n",
              "      <td>1.099084</td>\n",
              "      <td>0.166357</td>\n",
              "      <td>0.023144</td>\n",
              "      <td>0.006419</td>\n",
              "      <td>0.0</td>\n",
              "      <td>0.006419</td>\n",
              "      <td>0.498693</td>\n",
              "      <td>0.420185</td>\n",
              "      <td>0.318488</td>\n",
              "      <td>2.311595</td>\n",
              "    </tr>\n",
              "    <tr>\n",
              "      <th>min</th>\n",
              "      <td>NaN</td>\n",
              "      <td>0.000000</td>\n",
              "      <td>10.000000</td>\n",
              "      <td>NaN</td>\n",
              "      <td>NaN</td>\n",
              "      <td>NaN</td>\n",
              "      <td>1.000000</td>\n",
              "      <td>1.000000</td>\n",
              "      <td>0.000000</td>\n",
              "      <td>1.000000</td>\n",
              "      <td>0.000000</td>\n",
              "      <td>0.000000</td>\n",
              "      <td>0.000000</td>\n",
              "      <td>NaN</td>\n",
              "      <td>NaN</td>\n",
              "      <td>NaN</td>\n",
              "      <td>1.000000</td>\n",
              "      <td>NaN</td>\n",
              "      <td>NaN</td>\n",
              "      <td>-2.000000</td>\n",
              "      <td>-2.000000</td>\n",
              "      <td>-2.000000</td>\n",
              "      <td>-2.000000</td>\n",
              "      <td>-2.000000</td>\n",
              "      <td>-2.000000</td>\n",
              "      <td>-2.000000</td>\n",
              "      <td>-2.000000</td>\n",
              "      <td>-2.000000</td>\n",
              "      <td>-2.000000</td>\n",
              "      <td>-2.000000</td>\n",
              "      <td>-2.000000</td>\n",
              "      <td>-2.000000</td>\n",
              "      <td>-2.000000</td>\n",
              "      <td>-2.000000</td>\n",
              "      <td>-2.000000</td>\n",
              "      <td>-2.000000</td>\n",
              "      <td>-2.000000</td>\n",
              "      <td>-2.000000</td>\n",
              "      <td>-2.0</td>\n",
              "      <td>-2.000000</td>\n",
              "      <td>0.000000</td>\n",
              "      <td>0.000000</td>\n",
              "      <td>0.000000</td>\n",
              "      <td>0.000000</td>\n",
              "    </tr>\n",
              "    <tr>\n",
              "      <th>25%</th>\n",
              "      <td>NaN</td>\n",
              "      <td>0.000000</td>\n",
              "      <td>50.000000</td>\n",
              "      <td>NaN</td>\n",
              "      <td>NaN</td>\n",
              "      <td>NaN</td>\n",
              "      <td>2.000000</td>\n",
              "      <td>31.000000</td>\n",
              "      <td>0.000000</td>\n",
              "      <td>10.000000</td>\n",
              "      <td>0.000000</td>\n",
              "      <td>0.000000</td>\n",
              "      <td>0.000000</td>\n",
              "      <td>NaN</td>\n",
              "      <td>NaN</td>\n",
              "      <td>NaN</td>\n",
              "      <td>6.000000</td>\n",
              "      <td>NaN</td>\n",
              "      <td>NaN</td>\n",
              "      <td>-2.000000</td>\n",
              "      <td>-2.000000</td>\n",
              "      <td>-2.000000</td>\n",
              "      <td>-2.000000</td>\n",
              "      <td>-2.000000</td>\n",
              "      <td>-2.000000</td>\n",
              "      <td>-2.000000</td>\n",
              "      <td>-2.000000</td>\n",
              "      <td>-2.000000</td>\n",
              "      <td>-2.000000</td>\n",
              "      <td>-2.000000</td>\n",
              "      <td>-2.000000</td>\n",
              "      <td>-2.000000</td>\n",
              "      <td>-2.000000</td>\n",
              "      <td>-2.000000</td>\n",
              "      <td>-2.000000</td>\n",
              "      <td>-2.000000</td>\n",
              "      <td>-2.000000</td>\n",
              "      <td>-2.000000</td>\n",
              "      <td>-2.0</td>\n",
              "      <td>-2.000000</td>\n",
              "      <td>0.000000</td>\n",
              "      <td>1.000000</td>\n",
              "      <td>0.000000</td>\n",
              "      <td>0.000000</td>\n",
              "    </tr>\n",
              "    <tr>\n",
              "      <th>50%</th>\n",
              "      <td>NaN</td>\n",
              "      <td>0.000000</td>\n",
              "      <td>75.000000</td>\n",
              "      <td>NaN</td>\n",
              "      <td>NaN</td>\n",
              "      <td>NaN</td>\n",
              "      <td>4.000000</td>\n",
              "      <td>44.000000</td>\n",
              "      <td>1.000000</td>\n",
              "      <td>15.000000</td>\n",
              "      <td>0.000000</td>\n",
              "      <td>0.000000</td>\n",
              "      <td>0.000000</td>\n",
              "      <td>NaN</td>\n",
              "      <td>NaN</td>\n",
              "      <td>NaN</td>\n",
              "      <td>8.000000</td>\n",
              "      <td>NaN</td>\n",
              "      <td>NaN</td>\n",
              "      <td>-2.000000</td>\n",
              "      <td>-2.000000</td>\n",
              "      <td>-2.000000</td>\n",
              "      <td>-2.000000</td>\n",
              "      <td>-2.000000</td>\n",
              "      <td>-2.000000</td>\n",
              "      <td>-2.000000</td>\n",
              "      <td>-2.000000</td>\n",
              "      <td>-2.000000</td>\n",
              "      <td>-2.000000</td>\n",
              "      <td>-2.000000</td>\n",
              "      <td>-2.000000</td>\n",
              "      <td>-2.000000</td>\n",
              "      <td>-2.000000</td>\n",
              "      <td>-2.000000</td>\n",
              "      <td>-1.000000</td>\n",
              "      <td>-2.000000</td>\n",
              "      <td>-2.000000</td>\n",
              "      <td>-2.000000</td>\n",
              "      <td>-2.0</td>\n",
              "      <td>-2.000000</td>\n",
              "      <td>0.000000</td>\n",
              "      <td>1.000000</td>\n",
              "      <td>0.000000</td>\n",
              "      <td>0.000000</td>\n",
              "    </tr>\n",
              "    <tr>\n",
              "      <th>75%</th>\n",
              "      <td>NaN</td>\n",
              "      <td>1.000000</td>\n",
              "      <td>75.000000</td>\n",
              "      <td>NaN</td>\n",
              "      <td>NaN</td>\n",
              "      <td>NaN</td>\n",
              "      <td>6.000000</td>\n",
              "      <td>57.000000</td>\n",
              "      <td>2.000000</td>\n",
              "      <td>20.000000</td>\n",
              "      <td>0.000000</td>\n",
              "      <td>0.000000</td>\n",
              "      <td>1.000000</td>\n",
              "      <td>NaN</td>\n",
              "      <td>NaN</td>\n",
              "      <td>NaN</td>\n",
              "      <td>9.000000</td>\n",
              "      <td>NaN</td>\n",
              "      <td>NaN</td>\n",
              "      <td>-2.000000</td>\n",
              "      <td>-2.000000</td>\n",
              "      <td>-2.000000</td>\n",
              "      <td>-2.000000</td>\n",
              "      <td>-2.000000</td>\n",
              "      <td>-2.000000</td>\n",
              "      <td>-2.000000</td>\n",
              "      <td>-2.000000</td>\n",
              "      <td>-2.000000</td>\n",
              "      <td>-2.000000</td>\n",
              "      <td>-2.000000</td>\n",
              "      <td>-2.000000</td>\n",
              "      <td>-2.000000</td>\n",
              "      <td>-2.000000</td>\n",
              "      <td>-2.000000</td>\n",
              "      <td>0.000000</td>\n",
              "      <td>-2.000000</td>\n",
              "      <td>-2.000000</td>\n",
              "      <td>-2.000000</td>\n",
              "      <td>-2.0</td>\n",
              "      <td>-2.000000</td>\n",
              "      <td>1.000000</td>\n",
              "      <td>1.000000</td>\n",
              "      <td>0.000000</td>\n",
              "      <td>2.000000</td>\n",
              "    </tr>\n",
              "    <tr>\n",
              "      <th>max</th>\n",
              "      <td>NaN</td>\n",
              "      <td>1.000000</td>\n",
              "      <td>95.000000</td>\n",
              "      <td>NaN</td>\n",
              "      <td>NaN</td>\n",
              "      <td>NaN</td>\n",
              "      <td>14.000000</td>\n",
              "      <td>132.000000</td>\n",
              "      <td>6.000000</td>\n",
              "      <td>81.000000</td>\n",
              "      <td>42.000000</td>\n",
              "      <td>76.000000</td>\n",
              "      <td>21.000000</td>\n",
              "      <td>NaN</td>\n",
              "      <td>NaN</td>\n",
              "      <td>NaN</td>\n",
              "      <td>16.000000</td>\n",
              "      <td>NaN</td>\n",
              "      <td>NaN</td>\n",
              "      <td>1.000000</td>\n",
              "      <td>1.000000</td>\n",
              "      <td>1.000000</td>\n",
              "      <td>1.000000</td>\n",
              "      <td>1.000000</td>\n",
              "      <td>0.000000</td>\n",
              "      <td>1.000000</td>\n",
              "      <td>1.000000</td>\n",
              "      <td>0.000000</td>\n",
              "      <td>1.000000</td>\n",
              "      <td>1.000000</td>\n",
              "      <td>1.000000</td>\n",
              "      <td>1.000000</td>\n",
              "      <td>0.000000</td>\n",
              "      <td>1.000000</td>\n",
              "      <td>1.000000</td>\n",
              "      <td>1.000000</td>\n",
              "      <td>0.000000</td>\n",
              "      <td>0.000000</td>\n",
              "      <td>-2.0</td>\n",
              "      <td>0.000000</td>\n",
              "      <td>1.000000</td>\n",
              "      <td>1.000000</td>\n",
              "      <td>1.000000</td>\n",
              "      <td>80.000000</td>\n",
              "    </tr>\n",
              "  </tbody>\n",
              "</table>\n",
              "</div>"
            ],
            "text/plain": [
              "             race        gender  ...    readmitted preceding_year_visits\n",
              "count       97070  97070.000000  ...  97070.000000          97070.000000\n",
              "unique          5           NaN  ...           NaN                   NaN\n",
              "top     Caucasian           NaN  ...           NaN                   NaN\n",
              "freq        74201           NaN  ...           NaN                   NaN\n",
              "mean          NaN      0.460997  ...      0.114557              1.213856\n",
              "std           NaN      0.498479  ...      0.318488              2.311595\n",
              "min           NaN      0.000000  ...      0.000000              0.000000\n",
              "25%           NaN      0.000000  ...      0.000000              0.000000\n",
              "50%           NaN      0.000000  ...      0.000000              0.000000\n",
              "75%           NaN      1.000000  ...      0.000000              2.000000\n",
              "max           NaN      1.000000  ...      1.000000             80.000000\n",
              "\n",
              "[11 rows x 44 columns]"
            ]
          },
          "metadata": {
            "tags": []
          },
          "execution_count": 77
        }
      ]
    },
    {
      "cell_type": "code",
      "metadata": {
        "id": "zT7jA0DNQ_0C",
        "colab_type": "code",
        "colab": {
          "base_uri": "https://localhost:8080/",
          "height": 1000
        },
        "outputId": "0724b168-4d6c-484c-e9a5-51ba0f94a451"
      },
      "source": [
        "for i in df.columns:\n",
        "    print(i, '\\n', df[i].value_counts(), '\\n')"
      ],
      "execution_count": 78,
      "outputs": [
        {
          "output_type": "stream",
          "text": [
            "race \n",
            " Caucasian          74201\n",
            "AfricanAmerican    18759\n",
            "Hispanic            2012\n",
            "Other               1471\n",
            "Asian                627\n",
            "Name: race, dtype: int64 \n",
            "\n",
            "gender \n",
            " 0    52321\n",
            "1    44749\n",
            "Name: gender, dtype: int64 \n",
            "\n",
            "age \n",
            " 75    62336\n",
            "50    26084\n",
            "30     5289\n",
            "95     2521\n",
            "10      840\n",
            "Name: age, dtype: int64 \n",
            "\n",
            "admission_type_id \n",
            " Emergency        70595\n",
            "Elective         18305\n",
            "Not Available     8170\n",
            "Name: admission_type_id, dtype: int64 \n",
            "\n",
            "discharge_disposition_id \n",
            " Discharged to home                             58751\n",
            "Transferred to another medical facility        20167\n",
            "Discharged to home with home health service    12797\n",
            "Not Available                                   4644\n",
            "Left AMA                                         610\n",
            "Still patient/referred to this institution       101\n",
            "Name: discharge_disposition_id, dtype: int64 \n",
            "\n",
            "admission_source_id \n",
            " Emergency                                        55994\n",
            "Referral                                         29653\n",
            "Not Available                                     5720\n",
            "Transferred from another health care facility     5703\n",
            "Name: admission_source_id, dtype: int64 \n",
            "\n",
            "time_in_hospital \n",
            " 3     17012\n",
            "2     16509\n",
            "1     13500\n",
            "4     13361\n",
            "5      9545\n",
            "6      7181\n",
            "7      5561\n",
            "8      4177\n",
            "9      2817\n",
            "10     2211\n",
            "11     1731\n",
            "12     1362\n",
            "13     1131\n",
            "14      972\n",
            "Name: time_in_hospital, dtype: int64 \n",
            "\n",
            "num_lab_procedures \n",
            " 1      3089\n",
            "43     2698\n",
            "44     2398\n",
            "45     2283\n",
            "38     2130\n",
            "       ... \n",
            "114       1\n",
            "118       1\n",
            "129       1\n",
            "120       1\n",
            "121       1\n",
            "Name: num_lab_procedures, Length: 118, dtype: int64 \n",
            "\n",
            "num_procedures \n",
            " 0    44520\n",
            "1    19840\n",
            "2    12137\n",
            "3     9032\n",
            "6     4675\n",
            "4     3970\n",
            "5     2896\n",
            "Name: num_procedures, dtype: int64 \n",
            "\n",
            "num_medications \n",
            " 13    5817\n",
            "12    5751\n",
            "11    5566\n",
            "15    5564\n",
            "14    5464\n",
            "      ... \n",
            "70       2\n",
            "75       2\n",
            "74       1\n",
            "79       1\n",
            "81       1\n",
            "Name: num_medications, Length: 75, dtype: int64 \n",
            "\n",
            "number_outpatient \n",
            " 0     80958\n",
            "1      8213\n",
            "2      3458\n",
            "3      1976\n",
            "4      1061\n",
            "5       506\n",
            "6       290\n",
            "7       154\n",
            "8        96\n",
            "9        82\n",
            "10       57\n",
            "11       40\n",
            "13       30\n",
            "12       29\n",
            "14       28\n",
            "15       20\n",
            "16       13\n",
            "17        8\n",
            "21        6\n",
            "20        6\n",
            "22        5\n",
            "18        5\n",
            "19        3\n",
            "24        3\n",
            "27        3\n",
            "23        2\n",
            "26        2\n",
            "29        2\n",
            "33        2\n",
            "35        2\n",
            "36        2\n",
            "40        1\n",
            "25        1\n",
            "28        1\n",
            "34        1\n",
            "37        1\n",
            "38        1\n",
            "39        1\n",
            "42        1\n",
            "Name: number_outpatient, dtype: int64 \n",
            "\n",
            "number_emergency \n",
            " 0     86059\n",
            "1      7410\n",
            "2      1968\n",
            "3       703\n",
            "4       369\n",
            "5       190\n",
            "6        93\n",
            "7        72\n",
            "8        50\n",
            "10       34\n",
            "9        33\n",
            "11       23\n",
            "13       12\n",
            "12       10\n",
            "22        6\n",
            "18        5\n",
            "16        5\n",
            "19        4\n",
            "20        4\n",
            "14        3\n",
            "15        3\n",
            "21        2\n",
            "25        2\n",
            "76        1\n",
            "54        1\n",
            "24        1\n",
            "28        1\n",
            "29        1\n",
            "37        1\n",
            "42        1\n",
            "46        1\n",
            "64        1\n",
            "63        1\n",
            "Name: number_emergency, dtype: int64 \n",
            "\n",
            "number_inpatient \n",
            " 0     64429\n",
            "1     18683\n",
            "2      7203\n",
            "3      3232\n",
            "4      1560\n",
            "5       786\n",
            "6       474\n",
            "7       262\n",
            "8       144\n",
            "9       109\n",
            "10       59\n",
            "11       49\n",
            "12       32\n",
            "13       18\n",
            "14       10\n",
            "15        9\n",
            "16        6\n",
            "19        2\n",
            "17        1\n",
            "18        1\n",
            "21        1\n",
            "Name: number_inpatient, dtype: int64 \n",
            "\n",
            "diag_1 \n",
            " Circulatory                                     29004\n",
            "Respiratory                                     13624\n",
            "Digestive                                        9154\n",
            "Diabetes                                         8471\n",
            "Injury and Poisoning                             6699\n",
            "Genitourinary                                    4912\n",
            "Musculoskeletal System and Connective Tissue     4801\n",
            "Neoplasms                                        2893\n",
            "Endocrine, Nutritional, Metabolic, Immunity      2553\n",
            "Skin and Subcutaneous Tissue                     2536\n",
            "Infectious and Parasitic                         2487\n",
            "Other Symptoms                                   2474\n",
            "Mental Disorders                                 2174\n",
            "External causes of injury                        1595\n",
            "Blood and Blood-Forming Organs                   1078\n",
            "Nervous                                           902\n",
            "Congenital Anomalies                              791\n",
            "Pregnancy, Childbirth                             668\n",
            "Sense Organs                                      254\n",
            "Name: diag_1, dtype: int64 \n",
            "\n",
            "diag_2 \n",
            " Circulatory                                     30463\n",
            "Diabetes                                        12389\n",
            "Respiratory                                     10165\n",
            "Genitourinary                                    8001\n",
            "Endocrine, Nutritional, Metabolic, Immunity      7896\n",
            "Digestive                                        3994\n",
            "Skin and Subcutaneous Tissue                     3499\n",
            "Blood and Blood-Forming Organs                   2801\n",
            "Mental Disorders                                 2570\n",
            "External causes of injury                        2483\n",
            "Other Symptoms                                   2314\n",
            "Injury and Poisoning                             2301\n",
            "Neoplasms                                        2246\n",
            "Infectious and Parasitic                         1815\n",
            "Musculoskeletal System and Connective Tissue     1711\n",
            "Nervous                                          1048\n",
            "Congenital Anomalies                              478\n",
            "Pregnancy, Childbirth                             406\n",
            "Not Required                                      334\n",
            "Sense Organs                                      156\n",
            "Name: diag_2, dtype: int64 \n",
            "\n",
            "diag_3 \n",
            " Circulatory                                     28947\n",
            "Diabetes                                        16538\n",
            "Endocrine, Nutritional, Metabolic, Immunity      8726\n",
            "Respiratory                                      6857\n",
            "Genitourinary                                    6287\n",
            "External causes of injury                        4937\n",
            "Digestive                                        3781\n",
            "Mental Disorders                                 3027\n",
            "Skin and Subcutaneous Tissue                     2495\n",
            "Blood and Blood-Forming Organs                   2402\n",
            "Other Symptoms                                   2267\n",
            "Musculoskeletal System and Connective Tissue     1846\n",
            "Injury and Poisoning                             1845\n",
            "Infectious and Parasitic                         1773\n",
            "Neoplasms                                        1577\n",
            "Nervous                                          1398\n",
            "Not Required                                     1345\n",
            "Congenital Anomalies                              467\n",
            "Pregnancy, Childbirth                             301\n",
            "Sense Organs                                      254\n",
            "Name: diag_3, dtype: int64 \n",
            "\n",
            "number_diagnoses \n",
            " 9     47046\n",
            "5     10600\n",
            "8     10181\n",
            "7     10015\n",
            "6      9829\n",
            "4      5348\n",
            "3      2754\n",
            "2       981\n",
            "1       214\n",
            "16       38\n",
            "13       16\n",
            "10       15\n",
            "11       11\n",
            "15        8\n",
            "12        8\n",
            "14        6\n",
            "Name: number_diagnoses, dtype: int64 \n",
            "\n",
            "max_glu_serum \n",
            " None    91978\n",
            "Norm     2517\n",
            ">200     1397\n",
            ">300     1178\n",
            "Name: max_glu_serum, dtype: int64 \n",
            "\n",
            "A1Cresult \n",
            " None    80662\n",
            ">8       7881\n",
            "Norm     4836\n",
            ">7       3691\n",
            "Name: A1Cresult, dtype: int64 \n",
            "\n",
            "metformin \n",
            " -2    77697\n",
            " 0    17777\n",
            " 1     1035\n",
            "-1      561\n",
            "Name: metformin, dtype: int64 \n",
            "\n",
            "repaglinide \n",
            " -2    95562\n",
            " 0     1359\n",
            " 1      106\n",
            "-1       43\n",
            "Name: repaglinide, dtype: int64 \n",
            "\n",
            "nateglinide \n",
            " -2    96389\n",
            " 0      647\n",
            " 1       23\n",
            "-1       11\n",
            "Name: nateglinide, dtype: int64 \n",
            "\n",
            "chlorpropamide \n",
            " -2    96987\n",
            " 0       76\n",
            " 1        6\n",
            "-1        1\n",
            "Name: chlorpropamide, dtype: int64 \n",
            "\n",
            "glimepiride \n",
            " -2    92105\n",
            " 0     4466\n",
            " 1      316\n",
            "-1      183\n",
            "Name: glimepiride, dtype: int64 \n",
            "\n",
            "acetohexamide \n",
            " -2    97069\n",
            " 0        1\n",
            "Name: acetohexamide, dtype: int64 \n",
            "\n",
            "glipizide \n",
            " -2    84827\n",
            " 0    10963\n",
            " 1      748\n",
            "-1      532\n",
            "Name: glipizide, dtype: int64 \n",
            "\n",
            "glyburide \n",
            " -2    86820\n",
            " 0     8925\n",
            " 1      783\n",
            "-1      542\n",
            "Name: glyburide, dtype: int64 \n",
            "\n",
            "tolbutamide \n",
            " -2    97050\n",
            " 0       20\n",
            "Name: tolbutamide, dtype: int64 \n",
            "\n",
            "pioglitazone \n",
            " -2    89970\n",
            " 0     6758\n",
            " 1      226\n",
            "-1      116\n",
            "Name: pioglitazone, dtype: int64 \n",
            "\n",
            "rosiglitazone \n",
            " -2    90907\n",
            " 0     5913\n",
            " 1      168\n",
            "-1       82\n",
            "Name: rosiglitazone, dtype: int64 \n",
            "\n",
            "acarbose \n",
            " -2    96771\n",
            " 0      286\n",
            " 1       10\n",
            "-1        3\n",
            "Name: acarbose, dtype: int64 \n",
            "\n",
            "miglitol \n",
            " -2    97032\n",
            " 0       31\n",
            "-1        5\n",
            " 1        2\n",
            "Name: miglitol, dtype: int64 \n",
            "\n",
            "troglitazone \n",
            " -2    97067\n",
            " 0        3\n",
            "Name: troglitazone, dtype: int64 \n",
            "\n",
            "tolazamide \n",
            " -2    97031\n",
            " 0       38\n",
            " 1        1\n",
            "Name: tolazamide, dtype: int64 \n",
            "\n",
            "insulin \n",
            " -2    45487\n",
            " 0    29118\n",
            "-1    11735\n",
            " 1    10730\n",
            "Name: insulin, dtype: int64 \n",
            "\n",
            "glyburide-metformin \n",
            " -2    96399\n",
            " 0      662\n",
            " 1        6\n",
            "-1        3\n",
            "Name: glyburide-metformin, dtype: int64 \n",
            "\n",
            "glipizide-metformin \n",
            " -2    97057\n",
            " 0       13\n",
            "Name: glipizide-metformin, dtype: int64 \n",
            "\n",
            "glimepiride-pioglitazone \n",
            " -2    97069\n",
            " 0        1\n",
            "Name: glimepiride-pioglitazone, dtype: int64 \n",
            "\n",
            "metformin-rosiglitazone \n",
            " -2    97070\n",
            "Name: metformin-rosiglitazone, dtype: int64 \n",
            "\n",
            "metformin-pioglitazone \n",
            " -2    97069\n",
            " 0        1\n",
            "Name: metformin-pioglitazone, dtype: int64 \n",
            "\n",
            "change \n",
            " 0    52046\n",
            "1    45024\n",
            "Name: change, dtype: int64 \n",
            "\n",
            "diabetesMed \n",
            " 1    74842\n",
            "0    22228\n",
            "Name: diabetesMed, dtype: int64 \n",
            "\n",
            "readmitted \n",
            " 0    85950\n",
            "1    11120\n",
            "Name: readmitted, dtype: int64 \n",
            "\n",
            "preceding_year_visits \n",
            " 0     53029\n",
            "1     19114\n",
            "2      9621\n",
            "3      5629\n",
            "4      3408\n",
            "5      1970\n",
            "6      1262\n",
            "7       843\n",
            "8       541\n",
            "9       420\n",
            "10      261\n",
            "11      245\n",
            "12      135\n",
            "13       97\n",
            "15       96\n",
            "14       86\n",
            "16       66\n",
            "17       59\n",
            "19       32\n",
            "18       31\n",
            "20       22\n",
            "22       14\n",
            "21       13\n",
            "24        9\n",
            "27        9\n",
            "25        7\n",
            "26        5\n",
            "29        5\n",
            "36        5\n",
            "35        5\n",
            "30        4\n",
            "23        4\n",
            "38        2\n",
            "37        2\n",
            "42        2\n",
            "33        2\n",
            "32        2\n",
            "31        2\n",
            "28        2\n",
            "68        2\n",
            "41        1\n",
            "48        1\n",
            "49        1\n",
            "40        1\n",
            "34        1\n",
            "80        1\n",
            "61        1\n",
            "Name: preceding_year_visits, dtype: int64 \n",
            "\n"
          ],
          "name": "stdout"
        }
      ]
    },
    {
      "cell_type": "code",
      "metadata": {
        "id": "8JtglvUeRqok",
        "colab_type": "code",
        "colab": {}
      },
      "source": [
        "df.to_csv('/content/drive/My Drive/PGPDSE/Capstone/CSV Files/Diabetes_Preprocessed.csv', index = False)"
      ],
      "execution_count": 81,
      "outputs": []
    },
    {
      "cell_type": "code",
      "metadata": {
        "id": "4IptrS9PSxqc",
        "colab_type": "code",
        "colab": {}
      },
      "source": [
        ""
      ],
      "execution_count": 79,
      "outputs": []
    }
  ]
}